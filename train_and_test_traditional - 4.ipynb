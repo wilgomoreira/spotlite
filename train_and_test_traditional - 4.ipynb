{
 "cells": [
  {
   "cell_type": "markdown",
   "id": "475d89fb",
   "metadata": {},
   "source": [
    "## Essencial Functions and Libraries"
   ]
  },
  {
   "cell_type": "code",
   "execution_count": 2,
   "id": "45965918",
   "metadata": {},
   "outputs": [],
   "source": [
    "import os\n",
    "import numpy as np\n",
    "import pandas as pd\n",
    "import tifffile as tiff\n",
    "from sklearn.model_selection import train_test_split\n",
    "import matplotlib.pyplot as plt"
   ]
  },
  {
   "cell_type": "markdown",
   "id": "01ff89d4",
   "metadata": {},
   "source": [
    "## Read data"
   ]
  },
  {
   "cell_type": "code",
   "execution_count": 6,
   "id": "12af8384",
   "metadata": {},
   "outputs": [
    {
     "name": "stdout",
     "output_type": "stream",
     "text": [
      "shape of imgs: (191, 512, 512, 4)\n",
      "type of imgs: <class 'numpy.ndarray'>\n",
      "--------------------------------\n",
      "shape of masks: (191, 512, 512)\n",
      "type of masks: <class 'numpy.ndarray'>\n",
      "Unique values in masks: [0 3 4]\n"
     ]
    }
   ],
   "source": [
    "# Spectral bands in the image:\n",
    "# Blue  = X[:, 0]\n",
    "# Green = X[:, 1]\n",
    "# Red   = X[:, 2]\n",
    "# NIR   = X[:, 3]\n",
    "\n",
    "dataset_dir = 'spotlite_dataset_loca1_date1_dir1'\n",
    "\n",
    "images_dataset_dir = os.path.join(dataset_dir, 'images')\n",
    "masks_dataset_dir = os.path.join(dataset_dir, 'masks')\n",
    "\n",
    "# Verify if directories exist (optional, but recommended)\n",
    "assert os.path.exists(images_dataset_dir), f\"Images directory not found: {images_dataset_dir}\"\n",
    "assert os.path.exists(masks_dataset_dir), f\"Masks directory not found: {masks_dataset_dir}\"\n",
    "\n",
    "image_files = sorted(os.listdir(images_dataset_dir))\n",
    "mask_files = sorted(os.listdir(masks_dataset_dir))\n",
    "\n",
    "imgs, masks = [], []\n",
    "\n",
    "# Check if the number of files match\n",
    "assert len(image_files) == len(mask_files), \"Number of images and masks don't match.\"\n",
    "\n",
    "for image_file, mask_file in zip(image_files, mask_files):\n",
    "    image_path = os.path.join(images_dataset_dir, image_file)\n",
    "    mask_path = os.path.join(masks_dataset_dir, mask_file)\n",
    "\n",
    "    read_img = tiff.imread(image_path)\n",
    "    read_mask = tiff.imread(mask_path)\n",
    "\n",
    "    imgs.append(read_img)\n",
    "    masks.append(read_mask)\n",
    "\n",
    "imgs = np.stack(imgs)   # (N, H, W, C)\n",
    "masks = np.stack(masks) # (N, H, W)\n",
    "\n",
    "if not isinstance(imgs, np.ndarray):\n",
    "    imgs = imgs.numpy()\n",
    "\n",
    "if not isinstance(masks, np.ndarray):\n",
    "    masks = masks.numpy()\n",
    "\n",
    "print(f'shape of imgs: {imgs.shape}')\n",
    "print(f\"type of imgs: {type(imgs)}\")\n",
    "print('--------------------------------')\n",
    "print(f'shape of masks: {masks.shape}')\n",
    "print(f\"type of masks: {type(masks)}\")\n",
    "\n",
    "unique_values = np.unique(masks)\n",
    "print(f\"Unique values in masks: {unique_values}\")\n"
   ]
  },
  {
   "cell_type": "markdown",
   "id": "b97f69fc",
   "metadata": {},
   "source": [
    "## Convert labels in masks"
   ]
  },
  {
   "cell_type": "code",
   "execution_count": 7,
   "id": "80d2c2c6",
   "metadata": {},
   "outputs": [
    {
     "name": "stdout",
     "output_type": "stream",
     "text": [
      "shape of remapped masks: (191, 512, 512)\n",
      "type of remapped masks: <class 'numpy.ndarray'>\n",
      "Unique values in masks: [0 1 2]\n"
     ]
    }
   ],
   "source": [
    "# Convert labels in masks from 0, 3, 4 to 0, 1, 2\n",
    "# where 0 is background, 1 is class 1, and 2 is class\n",
    "def remap_mask(mask):\n",
    "    remapped = np.zeros_like(mask, dtype=np.uint8)\n",
    "    remapped[mask == 0] = 0\n",
    "    remapped[mask == 3] = 1\n",
    "    remapped[mask == 4] = 2\n",
    "    return remapped\n",
    "\n",
    "masks = remap_mask(masks)\n",
    "print(f'shape of remapped masks: {masks.shape}')\n",
    "print(f\"type of remapped masks: {type(masks)}\")\n",
    "\n",
    "unique_values = np.unique(masks)\n",
    "print(f\"Unique values in masks: {unique_values}\")"
   ]
  },
  {
   "cell_type": "markdown",
   "id": "58aa7752",
   "metadata": {},
   "source": [
    "## Extract features and labels"
   ]
  },
  {
   "cell_type": "code",
   "execution_count": 8,
   "id": "adb61850",
   "metadata": {},
   "outputs": [
    {
     "name": "stdout",
     "output_type": "stream",
     "text": [
      "shape of X: (50069504, 4)\n",
      "shape of y: (50069504,)\n"
     ]
    }
   ],
   "source": [
    "N, H, W, C = imgs.shape\n",
    "X = imgs.reshape(-1, C)       # shape = (N*H*W, 4)\n",
    "y = masks.reshape(-1)         # shape = (N*H*W,)\n",
    "\n",
    "print(f'shape of X: {X.shape}')\n",
    "print(f'shape of y: {y.shape}')\n",
    "\n",
    "# (Opcional) amostragem para acelerar treino\n",
    "# idx = np.random.choice(len(y), size=100000, replace=False)\n",
    "# X, y = X[idx], y[idx]"
   ]
  },
  {
   "cell_type": "markdown",
   "id": "cabe8217",
   "metadata": {},
   "source": [
    "## Check Inbalance"
   ]
  },
  {
   "cell_type": "code",
   "execution_count": 9,
   "id": "d2422840",
   "metadata": {},
   "outputs": [
    {
     "name": "stdout",
     "output_type": "stream",
     "text": [
      "Classe 0: 48,043,641 pixels (95.95%)\n",
      "Classe 1: 687,567 pixels (1.37%)\n",
      "Classe 2: 1,338,296 pixels (2.67%)\n",
      "   class    counts    percent\n",
      "0      0  48043641  95.953898\n",
      "1      1    687567   1.373225\n",
      "2      2   1338296   2.672876\n"
     ]
    },
    {
     "data": {
      "image/png": "[encoded data removed]",
      "text/plain": [
       "<Figure size 600x400 with 1 Axes>"
      ]
     },
     "metadata": {},
     "output_type": "display_data"
    }
   ],
   "source": [
    "total_pixels = y.size\n",
    "classes, counts = np.unique(y, return_counts=True)\n",
    "\n",
    "for cls, ct in zip(classes, counts):\n",
    "    pct = ct / total_pixels * 100\n",
    "    print(f\"Classe {cls}: {ct:,} pixels ({pct:.2f}%)\")\n",
    "\n",
    "df_dist = pd.DataFrame({\n",
    "    \"class\":   classes,\n",
    "    \"counts\":  counts,\n",
    "    \"percent\": counts / total_pixels * 100\n",
    "})\n",
    "print(df_dist)\n",
    "\n",
    "class_names = {\n",
    "    0: \"background\",\n",
    "    1: \"pinus\",\n",
    "    2: \"eucalyptus\"\n",
    "}\n",
    "x_labels = [f\"{cls} – {class_names[cls]}\" for cls in df_dist['class']]\n",
    "\n",
    "fig, ax = plt.subplots(figsize=(6, 4))\n",
    "bars = ax.bar(df_dist['class'], df_dist['counts'])\n",
    "\n",
    "ax.set_ylabel('Number of pixels')\n",
    "ax.set_title('Distribution of classes in the dataset')\n",
    "\n",
    "ax.set_xticks(df_dist['class'])\n",
    "ax.set_xticklabels(x_labels)\n",
    "\n",
    "for bar, pct in zip(bars, df_dist['percent']):\n",
    "    x  = bar.get_x() + bar.get_width()/2\n",
    "    y  = bar.get_height()\n",
    "    ax.text(x, y, f\"{pct:.2f}%\", ha='center', va='bottom')\n",
    "\n",
    "plt.tight_layout()\n",
    "plt.show()"
   ]
  },
  {
   "cell_type": "markdown",
   "id": "65329838",
   "metadata": {},
   "source": [
    "## Split training/testing"
   ]
  },
  {
   "cell_type": "code",
   "execution_count": 13,
   "id": "e8524f73",
   "metadata": {},
   "outputs": [
    {
     "name": "stdout",
     "output_type": "stream",
     "text": [
      "shape of X_train: (37552128, 4)\n",
      "shape of y_train: (37552128,)\n",
      "shape of X_test: (12517376, 4)\n",
      "shape of y_test: (12517376,)\n"
     ]
    }
   ],
   "source": [
    "y = masks.reshape(-1)\n",
    "\n",
    "X_train, X_test, y_train, y_test = train_test_split(\n",
    "    X, y, test_size=0.25, random_state=42, stratify=y\n",
    ")\n",
    "\n",
    "print(f'shape of X_train: {X_train.shape}')\n",
    "print(f'shape of y_train: {y_train.shape}')\n",
    "print(f'shape of X_test: {X_test.shape}')\n",
    "print(f'shape of y_test: {y_test.shape}')"
   ]
  },
  {
   "cell_type": "markdown",
   "id": "ed0dca5b",
   "metadata": {},
   "source": [
    "### Train Random Forest "
   ]
  },
  {
   "cell_type": "code",
   "execution_count": 14,
   "id": "676a99d5",
   "metadata": {},
   "outputs": [
    {
     "name": "stdout",
     "output_type": "stream",
     "text": [
      "=== Stage 1: Background vs. Forest ===\n",
      "              precision    recall  f1-score   support\n",
      "\n",
      "  Background     0.9933    0.8064    0.8902  12010910\n",
      "      Forest     0.1596    0.8719    0.2698    506466\n",
      "\n",
      "    accuracy                         0.8091  12517376\n",
      "   macro avg     0.5765    0.8392    0.5800  12517376\n",
      "weighted avg     0.9596    0.8091    0.8651  12517376\n",
      "\n",
      "=== Stage 2: Pinus vs. Eucalyptus (isolated evaluation) ===\n",
      "              precision    recall  f1-score   support\n",
      "\n",
      "       Pinus     0.9058    0.9213    0.9135    171892\n",
      "  Eucalyptus     0.9592    0.9508    0.9550    334574\n",
      "\n",
      "    accuracy                         0.9408    506466\n",
      "   macro avg     0.9325    0.9360    0.9342    506466\n",
      "weighted avg     0.9411    0.9408    0.9409    506466\n",
      "\n",
      "=== Full Pipeline (3 classes) ===\n",
      "              precision    recall  f1-score   support\n",
      "\n",
      "  Background     0.9933    0.8064    0.8902  12010910\n",
      "       Pinus     0.0690    0.6538    0.1248    171892\n",
      "  Eucalyptus     0.2696    0.9163    0.4166    334574\n",
      "\n",
      "    accuracy                         0.8073  12517376\n",
      "   macro avg     0.4440    0.7922    0.4772  12517376\n",
      "weighted avg     0.9613    0.8073    0.8670  12517376\n",
      "\n"
     ]
    }
   ],
   "source": [
    "from sklearn.ensemble import RandomForestClassifier\n",
    "from sklearn.metrics import classification_report\n",
    "import numpy as np\n",
    "\n",
    "def train_two_stage_rf(X, y, forest_params, species_params):\n",
    "  # Stage 1: background (0) vs forest (1)\n",
    "  y_forest = (y > 0).astype(int)\n",
    "  forest_clf = RandomForestClassifier(**forest_params)\n",
    "  forest_clf.fit(X, y_forest)\n",
    "\n",
    "  # Stage 2: pinus (1) vs eucalyptus (2) only in forest pixels\n",
    "  mask_f = (y > 0)\n",
    "  X_fg, y_fg = X[mask_f], y[mask_f]\n",
    "  species_clf = RandomForestClassifier(**species_params)\n",
    "  species_clf.fit(X_fg, y_fg)\n",
    "\n",
    "  return forest_clf, species_clf\n",
    "\n",
    "def predict_two_stage_rf(forest_clf, species_clf, X):\n",
    "  is_forest = forest_clf.predict(X).astype(bool)\n",
    "  y_pred = np.zeros(X.shape[0], dtype=int)\n",
    "  if is_forest.any():\n",
    "    y_pred[is_forest] = species_clf.predict(X[is_forest])\n",
    "  return y_pred\n",
    "\n",
    "# --- balanced parameters ---\n",
    "forest_params = {\n",
    "  'n_estimators': 50, 'max_depth': 20,\n",
    "  'class_weight': 'balanced', 'n_jobs': -1, 'random_state': 42\n",
    "}\n",
    "species_params = {\n",
    "  'n_estimators': 50, 'max_depth': 20,\n",
    "  'class_weight': 'balanced', 'n_jobs': -1, 'random_state': 42\n",
    "}\n",
    "\n",
    "# 1) Train using only X_train, y_train\n",
    "forest_clf, species_clf = train_two_stage_rf(\n",
    "  X_train, y_train,\n",
    "  forest_params, species_params\n",
    ")\n",
    "\n",
    "# 2) Full prediction\n",
    "y_pred_full = predict_two_stage_rf(forest_clf, species_clf, X_test)\n",
    "\n",
    "# 3) Evaluation of Stage 1\n",
    "y_forest_true = (y_test > 0).astype(int)\n",
    "y_forest_pred = forest_clf.predict(X_test)\n",
    "print(\"=== Stage 1: Background vs. Forest ===\")\n",
    "print(classification_report(\n",
    "  y_forest_true, y_forest_pred,\n",
    "  target_names=['Background', 'Forest'], digits=4\n",
    "))\n",
    "\n",
    "# 4) Evaluation of Stage 2 (isolated, only in REAL forest pixels)\n",
    "X_test_fg = X_test[y_test > 0]\n",
    "y_test_fg = y_test[y_test > 0]\n",
    "y_pred_fg = species_clf.predict(X_test_fg)\n",
    "print(\"=== Stage 2: Pinus vs. Eucalyptus (isolated evaluation) ===\")\n",
    "print(classification_report(\n",
    "  y_test_fg, y_pred_fg,\n",
    "  target_names=['Pinus', 'Eucalyptus'], digits=4\n",
    "))\n",
    "\n",
    "# 5) Full pipeline evaluation\n",
    "print(\"=== Full Pipeline (3 classes) ===\")\n",
    "print(classification_report(\n",
    "  y_test, y_pred_full,\n",
    "  target_names=['Background', 'Pinus', 'Eucalyptus'], digits=4\n",
    "))"
   ]
  },
  {
   "cell_type": "code",
   "execution_count": 15,
   "id": "97db531d",
   "metadata": {},
   "outputs": [
    {
     "data": {
      "image/png": "[encoded data removed]",
      "text/plain": [
       "<Figure size 640x480 with 2 Axes>"
      ]
     },
     "metadata": {},
     "output_type": "display_data"
    }
   ],
   "source": [
    "from sklearn.metrics import ConfusionMatrixDisplay\n",
    "\n",
    "disp = ConfusionMatrixDisplay.from_predictions(\n",
    "    y_test, y_pred_full,\n",
    "    normalize='true',\n",
    "    display_labels=['Background','Pinus','Eucalyptus'],\n",
    "    values_format='.2f'\n",
    ")\n",
    "plt.title(\"Confusion Matrix (normalized) — 3 classes\")\n",
    "plt.show()"
   ]
  }
 ],
 "metadata": {
  "kernelspec": {
   "display_name": "myenv",
   "language": "python",
   "name": "python3"
  },
  "language_info": {
   "codemirror_mode": {
    "name": "ipython",
    "version": 3
   },
   "file_extension": ".py",
   "mimetype": "text/x-python",
   "name": "python",
   "nbconvert_exporter": "python",
   "pygments_lexer": "ipython3",
   "version": "3.11.9"
  }
 },
 "nbformat": 4,
 "nbformat_minor": 5
}
