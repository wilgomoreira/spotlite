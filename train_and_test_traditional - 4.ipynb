{
 "cells": [
  {
   "cell_type": "markdown",
   "id": "475d89fb",
   "metadata": {},
   "source": [
    "## Essencial Functions and Libraries"
   ]
  },
  {
   "cell_type": "code",
   "execution_count": null,
   "id": "45965918",
   "metadata": {},
   "outputs": [],
   "source": [
    "import os\n",
    "import numpy as np\n",
    "import pandas as pd\n",
    "import random\n",
    "import matplotlib.pyplot as plt\n",
    "from tifffile import imread\n",
    "from sklearn.model_selection import train_test_split\n",
    "\n",
    "# Main directory\n",
    "dataset_dir        = 'spotlite_dataset_loca1_date1_dir1'\n",
    "images_dataset_dir = os.path.join(dataset_dir, 'images')\n",
    "masks_dataset_dir  = os.path.join(dataset_dir, 'masks')\n",
    "\n",
    "# ------------- Auxiliary Functions ------------- #\n",
    "\n",
    "def load_dataset(images_dir, masks_dir, img_files=None, msk_files=None):\n",
    "    \"\"\"\n",
    "    Loads only the listed files (or the entire directory if None).\n",
    "    Returns:\n",
    "      imgs: (N, H, W, C)\n",
    "      msks: (N, H, W)\n",
    "    \"\"\"\n",
    "    if img_files is None:\n",
    "        img_files = sorted([f for f in os.listdir(images_dir)\n",
    "                            if f.endswith('.tif') and not f.endswith('_mask.tif')])\n",
    "    if msk_files is None:\n",
    "        msk_files = sorted([f for f in os.listdir(masks_dir)\n",
    "                            if f.endswith('_mask.tif')])\n",
    "\n",
    "    img_bases = {os.path.splitext(f)[0]: f for f in img_files}\n",
    "    msk_bases = {os.path.splitext(f)[0].replace('_mask',''): f for f in msk_files}\n",
    "    common = sorted(set(img_bases) & set(msk_bases))\n",
    "\n",
    "    imgs, msks = [], []\n",
    "    for base in common:\n",
    "        img = imread(os.path.join(images_dir, img_bases[base]))\n",
    "        msk = imread(os.path.join(masks_dir,  msk_bases[base]))\n",
    "        # Ensure HWC format\n",
    "        if img.ndim == 3 and img.shape[0] in (3,4):\n",
    "            img = img.transpose(1,2,0)\n",
    "        if img.ndim == 2:\n",
    "            img = np.stack([img]*3, axis=-1)\n",
    "        imgs.append(img)\n",
    "        msks.append(msk)\n",
    "\n",
    "    return np.stack(imgs, axis=0), np.stack(msks, axis=0)\n",
    "\n",
    "def remap_mask(mask):\n",
    "    \"\"\"From 0,3,4 → 0,1,2\"\"\"\n",
    "    out = np.zeros_like(mask, dtype=np.uint8)\n",
    "    out[mask == 3] = 1\n",
    "    out[mask == 4] = 2\n",
    "    return out"
   ]
  },
  {
   "cell_type": "markdown",
   "id": "01ff89d4",
   "metadata": {},
   "source": [
    "## Check inbalance before undersampling"
   ]
  },
  {
   "cell_type": "code",
   "execution_count": 3,
   "id": "12af8384",
   "metadata": {},
   "outputs": [
    {
     "name": "stdout",
     "output_type": "stream",
     "text": [
      "🔍 Distribution BEFORE undersampling:\n",
      " class     counts   percent\n",
      "     0 1172379257 99.827499\n",
      "     3     687567  0.058546\n",
      "     4    1338296  0.113955\n"
     ]
    },
    {
     "data": {
      "image/png": "[encoded data removed]",
      "text/plain": [
       "<Figure size 500x400 with 1 Axes>"
      ]
     },
     "metadata": {},
     "output_type": "display_data"
    }
   ],
   "source": [
    "masks_dataset_dir = 'spotlite_dataset_loca1_date1_dir1/masks'\n",
    "\n",
    "mask_files = sorted(\n",
    "    f for f in os.listdir(masks_dataset_dir)\n",
    "    if f.endswith('_mask.tif')\n",
    ")\n",
    "\n",
    "class_counts = {}\n",
    "total_pixels = 0\n",
    "\n",
    "for mf in mask_files:\n",
    "    mask = imread(os.path.join(masks_dataset_dir, mf))\n",
    "    unique, counts = np.unique(mask, return_counts=True)\n",
    "    for u, c in zip(unique, counts):\n",
    "        class_counts[u] = class_counts.get(u, 0) + int(c)\n",
    "    total_pixels += mask.size\n",
    "\n",
    "df_before = pd.DataFrame([\n",
    "    {'class': cls, 'counts': cnt, 'percent': cnt/total_pixels*100}\n",
    "    for cls, cnt in sorted(class_counts.items())\n",
    "])\n",
    "\n",
    "print(\"🔍 Distribution BEFORE undersampling:\")\n",
    "print(df_before.to_string(index=False))\n",
    "\n",
    "fig, ax = plt.subplots(figsize=(5,4))\n",
    "bars = ax.bar(df_before['class'], df_before['counts'])\n",
    "ax.set_xticks(df_before['class'])\n",
    "ax.set_xticklabels([f\"{c}\" for c in df_before['class']])\n",
    "for bar, pct in zip(bars, df_before['percent']):\n",
    "    ax.text(bar.get_x()+bar.get_width()/2, bar.get_height(), f\"{pct:.2f}%\", \n",
    "            ha='center', va='bottom')\n",
    "ax.set_title(\"Class Distribution Before Undersampling\")\n",
    "plt.show()\n"
   ]
  },
  {
   "cell_type": "markdown",
   "id": "bdb0194c",
   "metadata": {},
   "source": [
    "## Balance Patches"
   ]
  },
  {
   "cell_type": "markdown",
   "id": "6403d1ad",
   "metadata": {},
   "source": [
    "Now that we have all the patches in `imgs, masks`, let's:\n",
    "1. Separate patches that are 100% background (`mask==0`) from patches \"with trees\".  \n",
    "2. Keep **all** non-empty patches and only a fraction of the empty ones (e.g., 10%).  \n",
    "3. Reload only these balanced patches."
   ]
  },
  {
   "cell_type": "code",
   "execution_count": null,
   "id": "40ef6790",
   "metadata": {},
   "outputs": [],
   "source": [
    "\n",
    "# 1) Identify how many patches are 100% background and how many have at least one tree pixel\n",
    "N = len(mask_files)\n",
    "bg_idxs = []\n",
    "nb_idxs = []\n",
    "for idx, mf in enumerate(mask_files):\n",
    "    mask = imread(os.path.join(masks_dataset_dir, mf))\n",
    "    if np.all(mask == 0):\n",
    "        bg_idxs.append(idx)\n",
    "    else:\n",
    "        nb_idxs.append(idx)\n",
    "\n",
    "print(f\"{len(bg_idxs)} empty patches, {len(nb_idxs)} non-empty patches\")\n",
    "\n",
    "# 2) Undersample the empty patches (keep only 10%)\n",
    "frac_empty = 0.1\n",
    "keep_bg = random.sample(bg_idxs, int(len(bg_idxs) * frac_empty))\n",
    "keep_idxs = sorted(nb_idxs + keep_bg)\n",
    "\n",
    "bases = [os.path.splitext(mf)[0].replace('_mask', '') for mf in mask_files]\n",
    "image_files = [base + '.tif' for base in bases]\n",
    "\n",
    "sel_img_files = [image_files[i] for i in keep_idxs]\n",
    "sel_msk_files = [mask_files[i] for i in keep_idxs]\n",
    "\n",
    "print(f\"Selected {len(sel_img_files)} patches for training\")\n"
   ]
  },
  {
   "cell_type": "markdown",
   "id": "b97f69fc",
   "metadata": {},
   "source": [
    "## Convert labels"
   ]
  },
  {
   "cell_type": "code",
   "execution_count": null,
   "id": "80d2c2c6",
   "metadata": {},
   "outputs": [],
   "source": [
    "# Convert labels in masks from 0, 3, 4 to 0, 1, 2\n",
    "def remap_mask(mask):\n",
    "    out = np.zeros_like(mask, dtype=np.uint8)\n",
    "    out[mask == 3] = 1\n",
    "    out[mask == 4] = 2\n",
    "    return out\n",
    "\n",
    "# reload only selected, remap in-place\n",
    "imgs_sel, masks_sel = load_dataset(\n",
    "    images_dataset_dir,\n",
    "    masks_dataset_dir,\n",
    "    img_files=sel_img_files,\n",
    "    msk_files=sel_msk_files\n",
    ")\n",
    "masks_sel = remap_mask(masks_sel)\n",
    "print(f'selected imgs.shape = {imgs_sel.shape}')\n",
    "print(f'selected masks.shape= {masks_sel.shape}')\n",
    "print(\"Unique values in selected masks:\", np.unique(masks_sel))"
   ]
  },
  {
   "cell_type": "markdown",
   "id": "cabe8217",
   "metadata": {},
   "source": [
    "## Check Inbalance"
   ]
  },
  {
   "cell_type": "code",
   "execution_count": null,
   "id": "d2422840",
   "metadata": {},
   "outputs": [],
   "source": [
    "total_pixels = y.size\n",
    "classes, counts = np.unique(y, return_counts=True)\n",
    "df_dist = pd.DataFrame({\"class\":classes,\"counts\":counts})\n",
    "df_dist[\"percent\"] = df_dist[\"counts\"]/total_pixels*100\n",
    "print(df_dist)\n",
    "\n",
    "class_names = {0:\"background\",1:\"pinus\",2:\"eucalyptus\"}\n",
    "labels = [f\"{r['class']}-{class_names[r['class']]}\" for _,r in df_dist.iterrows()]\n",
    "fig, ax = plt.subplots()\n",
    "bars = ax.bar(df_dist['class'], df_dist['counts'])\n",
    "ax.set_xticks(df_dist['class']); ax.set_xticklabels(labels)\n",
    "for bar,pct in zip(bars, df_dist['percent']):\n",
    "    ax.text(bar.get_x()+bar.get_width()/2, bar.get_height(), f\"{pct:.2f}%\", ha='center')\n",
    "plt.show()"
   ]
  },
  {
   "cell_type": "markdown",
   "id": "e706fb6b",
   "metadata": {},
   "source": [
    "## Load Selected Patches for Training"
   ]
  },
  {
   "cell_type": "code",
   "execution_count": null,
   "id": "f7851018",
   "metadata": {},
   "outputs": [],
   "source": [
    "\n",
    "# Carrega apenas os patches que escolhemos\n",
    "imgs_sel, masks_sel = load_dataset(\n",
    "    images_dataset_dir,\n",
    "    masks_dataset_dir,\n",
    "    img_files=sel_img_files,\n",
    "    msk_files=sel_msk_files\n",
    ")\n",
    "\n",
    "# Remapeia de (0,3,4) → (0,1,2)\n",
    "masks_sel = remap_mask(masks_sel)\n",
    "\n",
    "print(f\"Selected imgs shape: {imgs_sel.shape}  (N,H,W,C)\")\n",
    "print(f\"Selected masks shape: {masks_sel.shape} (N,H,W)\")\n",
    "print(\"Unique in selected masks:\", np.unique(masks_sel))"
   ]
  },
  {
   "cell_type": "markdown",
   "id": "65329838",
   "metadata": {},
   "source": [
    "## Extract Features, Check Balance, Split"
   ]
  },
  {
   "cell_type": "code",
   "execution_count": null,
   "id": "e8524f73",
   "metadata": {},
   "outputs": [
    {
     "name": "stdout",
     "output_type": "stream",
     "text": [
      "shape of X_train: (37552128, 4)\n",
      "shape of y_train: (37552128,)\n",
      "shape of X_test: (12517376, 4)\n",
      "shape of y_test: (12517376,)\n"
     ]
    }
   ],
   "source": [
    "# 1) Extract X and y\n",
    "N, H, W, C = imgs_sel.shape\n",
    "X = imgs_sel.reshape(-1, C)\n",
    "y = masks_sel.reshape(-1)\n",
    "\n",
    "# 2) Check distribution after undersampling\n",
    "total_pixels = y.size\n",
    "classes, counts = np.unique(y, return_counts=True)\n",
    "df_dist = pd.DataFrame({\"class\": classes, \"counts\": counts})\n",
    "df_dist[\"percent\"] = df_dist[\"counts\"] / total_pixels * 100\n",
    "\n",
    "print(\"🔍 Distribution AFTER undersampling:\")\n",
    "print(df_dist.to_string(index=False))\n",
    "\n",
    "# Bar plot\n",
    "class_names = {0: \"background\", 1: \"pinus\", 2: \"eucalyptus\"}\n",
    "labels = [f\"{r['class']}-{class_names[r['class']]}\" for _, r in df_dist.iterrows()]\n",
    "\n",
    "fig, ax = plt.subplots()\n",
    "bars = ax.bar(df_dist['class'], df_dist['counts'])\n",
    "ax.set_xticks(df_dist['class'])\n",
    "ax.set_xticklabels(labels)\n",
    "for bar, pct in zip(bars, df_dist['percent']):\n",
    "    ax.text(bar.get_x() + bar.get_width() / 2, bar.get_height(), f\"{pct:.2f}%\", ha='center')\n",
    "plt.title(\"Class Distribution After Undersampling\")\n",
    "plt.show()\n",
    "\n",
    "# 3) Train/test split\n",
    "X_train, X_test, y_train, y_test = train_test_split(\n",
    "    X, y, test_size=0.25, random_state=42, stratify=y\n",
    ")\n",
    "print(f\"X_train: {X_train.shape}, y_train: {y_train.shape}\")\n",
    "print(f\"X_test:  {X_test.shape}, y_test:  {y_test.shape}\")"
   ]
  },
  {
   "cell_type": "markdown",
   "id": "ed0dca5b",
   "metadata": {},
   "source": [
    "### Train Random Forest "
   ]
  },
  {
   "cell_type": "code",
   "execution_count": 15,
   "id": "676a99d5",
   "metadata": {},
   "outputs": [
    {
     "name": "stdout",
     "output_type": "stream",
     "text": [
      "=== Stage 1: Background vs. Forest ===\n",
      "              precision    recall  f1-score   support\n",
      "\n",
      "  Background     0.9932    0.8648    0.9246  12010910\n",
      "      Forest     0.2114    0.8593    0.3393    506466\n",
      "\n",
      "    accuracy                         0.8646  12517376\n",
      "   macro avg     0.6023    0.8621    0.6319  12517376\n",
      "weighted avg     0.9616    0.8646    0.9009  12517376\n",
      "\n",
      "=== Stage 2: Pinus vs. Eucalyptus (isolated evaluation) ===\n",
      "              precision    recall  f1-score   support\n",
      "\n",
      "       Pinus     0.9621    0.9303    0.9459    171892\n",
      "  Eucalyptus     0.9648    0.9812    0.9729    334574\n",
      "\n",
      "    accuracy                         0.9639    506466\n",
      "   macro avg     0.9634    0.9557    0.9594    506466\n",
      "weighted avg     0.9639    0.9639    0.9638    506466\n",
      "\n",
      "=== Full Pipeline (3 classes) ===\n",
      "              precision    recall  f1-score   support\n",
      "\n",
      "  Background     0.9932    0.8648    0.9246  12010910\n",
      "       Pinus     0.0953    0.6510    0.1663    171892\n",
      "  Eucalyptus     0.3510    0.9282    0.5094    334574\n",
      "\n",
      "    accuracy                         0.8636  12517376\n",
      "   macro avg     0.4798    0.8147    0.5334  12517376\n",
      "weighted avg     0.9637    0.8636    0.9031  12517376\n",
      "\n"
     ]
    }
   ],
   "source": [
    "from sklearn.ensemble import RandomForestClassifier\n",
    "from sklearn.metrics import classification_report\n",
    "import numpy as np\n",
    "\n",
    "def train_two_stage_rf(X, y, forest_params, species_params):\n",
    "  # Stage 1: background (0) vs forest (1)\n",
    "  y_forest = (y > 0).astype(int)\n",
    "  forest_clf = RandomForestClassifier(**forest_params)\n",
    "  forest_clf.fit(X, y_forest)\n",
    "\n",
    "  # Stage 2: pinus (1) vs eucalyptus (2) only in forest pixels\n",
    "  mask_f = (y > 0)\n",
    "  X_fg, y_fg = X[mask_f], y[mask_f]\n",
    "  species_clf = RandomForestClassifier(**species_params)\n",
    "  species_clf.fit(X_fg, y_fg)\n",
    "\n",
    "  return forest_clf, species_clf\n",
    "\n",
    "def predict_two_stage_rf(forest_clf, species_clf, X):\n",
    "  is_forest = forest_clf.predict(X).astype(bool)\n",
    "  y_pred = np.zeros(X.shape[0], dtype=int)\n",
    "  if is_forest.any():\n",
    "    y_pred[is_forest] = species_clf.predict(X[is_forest])\n",
    "  return y_pred\n",
    "\n",
    "# --- balanced parameters ---\n",
    "forest_params = {\n",
    "  'n_estimators': 50, 'max_depth': 20,\n",
    "  'class_weight': 'balanced', 'n_jobs': -1, 'random_state': 42\n",
    "}\n",
    "species_params = {\n",
    "  'n_estimators': 50, 'max_depth': 20,\n",
    "  'class_weight': 'balanced', 'n_jobs': -1, 'random_state': 42\n",
    "}\n",
    "\n",
    "# 1) Train using only X_train, y_train\n",
    "forest_clf, species_clf = train_two_stage_rf(\n",
    "  X_train, y_train,\n",
    "  forest_params, species_params\n",
    ")\n",
    "\n",
    "# 2) Full prediction\n",
    "y_pred_full = predict_two_stage_rf(forest_clf, species_clf, X_test)\n",
    "\n",
    "# 3) Evaluation of Stage 1\n",
    "y_forest_true = (y_test > 0).astype(int)\n",
    "y_forest_pred = forest_clf.predict(X_test)\n",
    "print(\"=== Stage 1: Background vs. Forest ===\")\n",
    "print(classification_report(\n",
    "  y_forest_true, y_forest_pred,\n",
    "  target_names=['Background', 'Forest'], digits=4\n",
    "))\n",
    "\n",
    "# 4) Evaluation of Stage 2 (isolated, only in REAL forest pixels)\n",
    "X_test_fg = X_test[y_test > 0]\n",
    "y_test_fg = y_test[y_test > 0]\n",
    "y_pred_fg = species_clf.predict(X_test_fg)\n",
    "print(\"=== Stage 2: Pinus vs. Eucalyptus (isolated evaluation) ===\")\n",
    "print(classification_report(\n",
    "  y_test_fg, y_pred_fg,\n",
    "  target_names=['Pinus', 'Eucalyptus'], digits=4\n",
    "))\n",
    "\n",
    "# 5) Full pipeline evaluation\n",
    "print(\"=== Full Pipeline (3 classes) ===\")\n",
    "print(classification_report(\n",
    "  y_test, y_pred_full,\n",
    "  target_names=['Background', 'Pinus', 'Eucalyptus'], digits=4\n",
    "))"
   ]
  },
  {
   "cell_type": "code",
   "execution_count": 16,
   "id": "97db531d",
   "metadata": {},
   "outputs": [
    {
     "data": {
      "image/png": "[encoded data removed]",
      "text/plain": [
       "<Figure size 640x480 with 2 Axes>"
      ]
     },
     "metadata": {},
     "output_type": "display_data"
    }
   ],
   "source": [
    "from sklearn.metrics import ConfusionMatrixDisplay\n",
    "\n",
    "disp = ConfusionMatrixDisplay.from_predictions(\n",
    "    y_test, y_pred_full,\n",
    "    normalize='true',\n",
    "    display_labels=['Background','Pinus','Eucalyptus'],\n",
    "    values_format='.2f'\n",
    ")\n",
    "plt.title(\"Confusion Matrix (normalized) — 3 classes\")\n",
    "plt.show()"
   ]
  }
 ],
 "metadata": {
  "kernelspec": {
   "display_name": "myenv",
   "language": "python",
   "name": "python3"
  },
  "language_info": {
   "codemirror_mode": {
    "name": "ipython",
    "version": 3
   },
   "file_extension": ".py",
   "mimetype": "text/x-python",
   "name": "python",
   "nbconvert_exporter": "python",
   "pygments_lexer": "ipython3",
   "version": "3.11.9"
  }
 },
 "nbformat": 4,
 "nbformat_minor": 5
}
