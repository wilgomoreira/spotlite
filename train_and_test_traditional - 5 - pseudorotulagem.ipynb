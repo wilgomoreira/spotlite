{
 "cells": [
  {
   "cell_type": "markdown",
   "id": "475d89fb",
   "metadata": {},
   "source": [
    "## Essencial Functions and Libraries"
   ]
  },
  {
   "cell_type": "code",
   "execution_count": 1,
   "id": "45965918",
   "metadata": {},
   "outputs": [],
   "source": [
    "import pandas as pd\n",
    "from sklearn.model_selection import train_test_split\n",
    "import matplotlib.pyplot as plt\n",
    "import torch\n",
    "from pathlib import Path\n",
    "import numpy as np\n",
    "import tifffile as tiff\n",
    "from difflib import get_close_matches"
   ]
  },
  {
   "cell_type": "markdown",
   "id": "01ff89d4",
   "metadata": {},
   "source": [
    "## Read data"
   ]
  },
  {
   "cell_type": "code",
   "execution_count": 22,
   "id": "12af8384",
   "metadata": {},
   "outputs": [
    {
     "name": "stdout",
     "output_type": "stream",
     "text": [
      "Final: 391 pairs loaded.\n",
      "Shape of imgs: (391, 512, 512, 4)\n",
      "Shape of masks: (391, 512, 512)\n"
     ]
    }
   ],
   "source": [
    "# Main dataset directory\n",
    "dataset_dir = Path('spotlite_dataset_loca1_date1_dir1')\n",
    "\n",
    "images_dir = dataset_dir / 'images'\n",
    "masks_dir = dataset_dir / 'masks'\n",
    "\n",
    "assert images_dir.exists(), f\"Image folder not found: {images_dir}\"\n",
    "assert masks_dir.exists(), f\"Mask folder not found: {masks_dir}\"\n",
    "\n",
    "# Collect all image and mask files (multiple extensions)\n",
    "image_paths = sorted(\n",
    "    [*images_dir.glob('*.tif'), *images_dir.glob('*.tiff')],\n",
    "    key=lambda p: p.stem\n",
    ")\n",
    "mask_paths = sorted(\n",
    "    [*masks_dir.glob('*.tif'), *masks_dir.glob('*.tiff'),\n",
    "     *masks_dir.glob('*.png'), *masks_dir.glob('*.jpg')],\n",
    "    key=lambda p: p.stem\n",
    ")\n",
    "\n",
    "# Dictionary of masks by base name\n",
    "mask_dict = {p.stem: p for p in mask_paths}\n",
    "unused_masks = set(mask_dict.keys())\n",
    "\n",
    "imgs_array, masks_array = [], []\n",
    "\n",
    "for img_path in image_paths:\n",
    "    stem = img_path.stem\n",
    "    mask_path = None\n",
    "\n",
    "    # 1) Exact match\n",
    "    if stem in mask_dict:\n",
    "        mask_path = mask_dict[stem]\n",
    "        unused_masks.discard(stem)\n",
    "    else:\n",
    "        # 2) Approximate match\n",
    "        candidates = get_close_matches(stem, mask_dict.keys(), n=1, cutoff=0.6)\n",
    "        if candidates:\n",
    "            sel = candidates[0]\n",
    "            mask_path = mask_dict[sel]\n",
    "            unused_masks.discard(sel)\n",
    "        else:\n",
    "            # 3) No match found; just notify and skip\n",
    "            print(f\"Warning: no mask found for {img_path.name}; skipping.\")\n",
    "            continue\n",
    "\n",
    "    # Read image and mask\n",
    "    img = tiff.imread(str(img_path))\n",
    "    msk = tiff.imread(str(mask_path))\n",
    "\n",
    "    # Check dimensions\n",
    "    if img.shape[:2] != msk.shape:\n",
    "        raise ValueError(\n",
    "            f\"Incompatible dimensions: {img_path.name} {img.shape[:2]} vs \"\n",
    "            f\"{mask_path.name} {msk.shape}\"\n",
    "        )\n",
    "\n",
    "    imgs_array.append(img)\n",
    "    masks_array.append(msk)\n",
    "\n",
    "# Remaining masks\n",
    "if unused_masks:\n",
    "    print(\"Warning: these masks were not used (no corresponding image):\")\n",
    "    for s in sorted(unused_masks):\n",
    "        print(\"  \", s)\n",
    "\n",
    "# Stack arrays\n",
    "imgs = np.stack(imgs_array, axis=0)   # (N, H, W, C)\n",
    "masks = np.stack(masks_array, axis=0)  # (N, H, W)\n",
    "\n",
    "print(f'Final: {len(imgs)} pairs loaded.')\n",
    "print(f'Shape of imgs: {imgs.shape}')\n",
    "print(f'Shape of masks: {masks.shape}')\n"
   ]
  },
  {
   "cell_type": "markdown",
   "id": "58aa7752",
   "metadata": {},
   "source": [
    "## Extract features and labels"
   ]
  },
  {
   "cell_type": "code",
   "execution_count": null,
   "id": "afb75fc1",
   "metadata": {},
   "outputs": [
    {
     "name": "stdout",
     "output_type": "stream",
     "text": [
      "Unique labels in masks: [0 1]\n"
     ]
    }
   ],
   "source": [
    "def remap_mask(mask, remapping=False):\n",
    "    if not torch.is_tensor(mask):\n",
    "        mask = torch.from_numpy(mask)\n",
    "    \n",
    "    if not remapping:\n",
    "        return mask\n",
    "\n",
    "    vegetacao_classes = [2, 3, 4]\n",
    "    remapped = torch.zeros_like(mask)\n",
    "\n",
    "    for cls in vegetacao_classes:\n",
    "        remapped[mask == cls] = 1\n",
    "\n",
    "    return remapped.long()\n",
    "\n",
    "masks = remap_mask(masks, remapping=True)\n",
    "np.unique_labels = np.unique(masks)\n",
    "print(f'Unique labels in masks: {np.unique_labels}')\n",
    "\n",
    "\n",
    "N, H, W, C = imgs.shape\n",
    "X = np.array(imgs) \n",
    "y = np.array(masks)\n"
   ]
  },
  {
   "cell_type": "markdown",
   "id": "65329838",
   "metadata": {},
   "source": [
    "## Split training/testing"
   ]
  },
  {
   "cell_type": "code",
   "execution_count": 24,
   "id": "e8524f73",
   "metadata": {},
   "outputs": [
    {
     "name": "stdout",
     "output_type": "stream",
     "text": [
      "shape of X_train: (293, 512, 512, 4)\n",
      "shape of y_train: (293, 512, 512)\n",
      "shape of X_test: (98, 512, 512, 4)\n",
      "shape of y_test: (98, 512, 512)\n"
     ]
    }
   ],
   "source": [
    "X_train, X_test, y_train, y_test = train_test_split(\n",
    "    X, y, test_size=0.25, random_state=42, stratify=None\n",
    ")\n",
    "\n",
    "print(f'shape of X_train: {X_train.shape}')\n",
    "print(f'shape of y_train: {y_train.shape}')\n",
    "print(f'shape of X_test: {X_test.shape}')\n",
    "print(f'shape of y_test: {y_test.shape}')"
   ]
  },
  {
   "cell_type": "markdown",
   "id": "ed0dca5b",
   "metadata": {},
   "source": [
    "## Train Random Forest "
   ]
  },
  {
   "cell_type": "code",
   "execution_count": 53,
   "id": "daa1a046",
   "metadata": {},
   "outputs": [],
   "source": [
    "from sklearn.ensemble import RandomForestClassifier\n",
    "from sklearn.utils import resample\n",
    "\n",
    "X_flat = X_train.reshape(-1, 4)         \n",
    "y_flat = y_train.reshape(-1)            \n",
    "\n",
    "X_sub, y_sub = resample(\n",
    "    X_flat, y_flat,\n",
    "    n_samples=5_000_000,\n",
    "    random_state=42\n",
    ")\n",
    "\n",
    "clf = RandomForestClassifier(\n",
    "    n_estimators=20,\n",
    "    max_depth=15,\n",
    "    class_weight='balanced',\n",
    "    n_jobs=-1,\n",
    "    random_state=42\n",
    ")\n",
    "\n",
    "clf.fit(X_sub, y_sub)\n",
    "\n",
    "X_test_flat = X_test.reshape(-1, 4)\n",
    "probs = clf.predict_proba(X_test_flat)[:, 1]\n",
    "preds = clf.predict(X_test_flat)\n",
    "\n",
    "confidence_mask = probs > 0.5\n",
    "high_conf_preds = preds.copy()\n",
    "high_conf_preds[~confidence_mask] = 255"
   ]
  },
  {
   "cell_type": "markdown",
   "id": "a473a641",
   "metadata": {},
   "source": [
    "## Plot"
   ]
  },
  {
   "cell_type": "code",
   "execution_count": 55,
   "id": "ed4d9005",
   "metadata": {},
   "outputs": [],
   "source": [
    "import os\n",
    "import matplotlib.pyplot as plt\n",
    "import numpy as np\n",
    "\n",
    "def stretch_rgb(rgb):\n",
    "    out = np.zeros_like(rgb, dtype=np.float32)\n",
    "    for k in range(3):\n",
    "        p2, p98 = np.percentile(rgb[...,k], (2, 98))\n",
    "        if p98 > p2:\n",
    "            out[...,k] = np.clip((rgb[...,k] - p2)/(p98 - p2), 0, 1)\n",
    "    return out\n",
    "\n",
    "def save_comparisons(X_rgb, y_true, y_pred, save_dir, indices=None, prefix='img'):\n",
    "    os.makedirs(save_dir, exist_ok=True)\n",
    "    N = X_rgb.shape[0]\n",
    "    indices = indices or list(range(N))\n",
    "\n",
    "    for idx in indices:\n",
    "        img = X_rgb[idx]\n",
    "        gt = y_true[idx]\n",
    "        pred = y_pred[idx]\n",
    "\n",
    "        # Detecta e extrai RGB\n",
    "        if img.ndim == 3 and img.shape[0] in (3, 4):  # CHW\n",
    "            rgb = img[:3].transpose(1, 2, 0)\n",
    "        elif img.ndim == 3 and img.shape[2] >= 3:      # HWC\n",
    "            rgb = img[..., :3]\n",
    "        else:\n",
    "            raise ValueError(\"Unsupported image shape: {}\".format(img.shape))\n",
    "\n",
    "        # Normaliza\n",
    "        if np.issubdtype(rgb.dtype, np.integer):\n",
    "            rgb = rgb.astype(np.float32)\n",
    "        rgb = stretch_rgb(rgb)\n",
    "\n",
    "        fig, axs = plt.subplots(1, 3, figsize=(8, 6))\n",
    "        axs[0].imshow(rgb)\n",
    "        axs[0].set_title(\"RGB Image\")\n",
    "        axs[1].imshow(gt, cmap='gray', vmin=0, vmax=1)\n",
    "        axs[1].set_title(\"Ground Truth\")\n",
    "        axs[2].imshow(pred == 1, cmap='gray', vmin=0, vmax=1)\n",
    "        axs[2].set_title(\"Prediction (binary)\")\n",
    "        for ax in axs:\n",
    "            ax.axis('off')\n",
    "        plt.tight_layout()\n",
    "\n",
    "        # Salva imagem\n",
    "        filename = f\"{prefix}_{idx:03d}.png\"\n",
    "        filepath = os.path.join(save_dir, filename)\n",
    "        plt.savefig(filepath, bbox_inches='tight', dpi=150)\n",
    "        plt.close(fig)\n",
    "\n",
    "\n",
    "n_imgs = X_test.shape[0] \n",
    "H, W = X_test.shape[1], X_test.shape[2]  # 512, 512\n",
    "high_conf_reshaped = high_conf_preds.reshape(n_imgs, H, W)\n",
    "\n",
    "save_comparisons(\n",
    "    X_rgb=X_test,\n",
    "    y_true=y_test,\n",
    "    y_pred=high_conf_reshaped,\n",
    "    save_dir='comparisons',\n",
    "    indices=list(range(20))  # ou None para salvar todos\n",
    ")\n"
   ]
  }
 ],
 "metadata": {
  "kernelspec": {
   "display_name": "myenv",
   "language": "python",
   "name": "python3"
  },
  "language_info": {
   "codemirror_mode": {
    "name": "ipython",
    "version": 3
   },
   "file_extension": ".py",
   "mimetype": "text/x-python",
   "name": "python",
   "nbconvert_exporter": "python",
   "pygments_lexer": "ipython3",
   "version": "3.11.9"
  }
 },
 "nbformat": 4,
 "nbformat_minor": 5
}
