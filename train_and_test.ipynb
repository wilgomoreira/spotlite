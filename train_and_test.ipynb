{
 "cells": [
  {
   "cell_type": "markdown",
   "id": "475d89fb",
   "metadata": {},
   "source": [
    "## Essencial Functions and Libraries"
   ]
  },
  {
   "cell_type": "code",
   "execution_count": 1,
   "id": "45965918",
   "metadata": {},
   "outputs": [],
   "source": [
    "import torch\n",
    "import os\n",
    "import tifffile as tiff\n",
    "import numpy as np\n",
    "from torch.utils.data import Dataset, DataLoader, random_split\n",
    "import torch.nn as nn\n",
    "from torchvision import models\n",
    "from tqdm import tqdm\n",
    "import torch.optim as optim\n",
    "from torchvision.models.segmentation import DeepLabV3_ResNet50_Weights\n",
    "import matplotlib.pyplot as plt\n",
    "\n",
    "NUM_CLASSES = 3  \n",
    "SPLIT_TRAIN_TEST = 0.8  # 80% train, 20% test  \n",
    "SPLIT_TRAIN_VAL = 0.2 # 80% train, 20% validation\n",
    "BATCH_SIZE = 8  # Batch size for DataLoader\n",
    "DEVICE = torch.device('cuda' if torch.cuda.is_available() else 'cpu')\n",
    "\n",
    "class BeetsSegmentationDataset(Dataset):\n",
    "    def __init__(self, images, masks):\n",
    "        self.images = images\n",
    "        self.masks = masks\n",
    "       \n",
    "        self.mean = np.mean(images, axis=(0, 1, 2))\n",
    "        self.std = np.std(images, axis=(0, 1, 2))\n",
    "\n",
    "    def __len__(self):\n",
    "        return len(self.images)\n",
    "\n",
    "    def __getitem__(self, idx):\n",
    "        img = self.images[idx]  # (H, W, C)\n",
    "        mask = self.masks[idx]  # (H, W)\n",
    "\n",
    "        img = (img - self.mean) / (self.std + 1e-8)\n",
    "\n",
    "        img_tensor = torch.tensor(img, dtype=torch.float32).permute(2, 0, 1)\n",
    "        if not torch.is_tensor(mask):\n",
    "            mask = torch.from_numpy(mask)\n",
    "\n",
    "        return img_tensor, mask\n",
    "\n",
    "def get_deeplabv3_model(num_classes):\n",
    "    model = models.segmentation.deeplabv3_resnet50(weights=DeepLabV3_ResNet50_Weights.DEFAULT)\n",
    "    # Get the original conv1 layer\n",
    "    orig_conv = model.backbone.conv1\n",
    "    new_conv = torch.nn.Conv2d(\n",
    "        in_channels=4,\n",
    "        out_channels=orig_conv.out_channels,\n",
    "        kernel_size=orig_conv.kernel_size,\n",
    "        stride=orig_conv.stride,\n",
    "        padding=orig_conv.padding,\n",
    "        bias=orig_conv.bias is not None\n",
    "    )\n",
    "    with torch.no_grad():\n",
    "        new_conv.weight[:, :3] = orig_conv.weight  # Copy RGB weights\n",
    "        new_conv.weight[:, 3] = orig_conv.weight[:, 0]  # Initialize 4th channel\n",
    "        model.backbone.conv1 = new_conv\n",
    "        # Update classifier for your number of classes\n",
    "        model.classifier[4] = torch.nn.Conv2d(256, num_classes, kernel_size=1)\n",
    "        return model"
   ]
  },
  {
   "cell_type": "markdown",
   "id": "ecf9d52f",
   "metadata": {},
   "source": [
    "## Prepare Dataset"
   ]
  },
  {
   "cell_type": "markdown",
   "id": "01ff89d4",
   "metadata": {},
   "source": [
    "### Read data"
   ]
  },
  {
   "cell_type": "code",
   "execution_count": null,
   "id": "12af8384",
   "metadata": {},
   "outputs": [],
   "source": [
    "dataset_dir = 'spotlite_dataset_loca1_date1_dir1'\n",
    "\n",
    "images_dataset_dir = os.path.join(dataset_dir, 'images')\n",
    "masks_dataset_dir = os.path.join(dataset_dir, 'masks')\n",
    "\n",
    "# Verify if directories exist (optional, but recommended)\n",
    "assert os.path.exists(images_dataset_dir), f\"Images directory not found: {images_dataset_dir}\"\n",
    "assert os.path.exists(masks_dataset_dir), f\"Masks directory not found: {masks_dataset_dir}\"\n",
    "\n",
    "image_files = sorted(os.listdir(images_dataset_dir))\n",
    "mask_files = sorted(os.listdir(masks_dataset_dir))\n",
    "\n",
    "imgs, masks = [], []\n",
    "\n",
    "# Check if the number of files match\n",
    "assert len(image_files) == len(mask_files), \"Number of images and masks don't match.\"\n",
    "\n",
    "for image_file, mask_file in zip(image_files, mask_files):\n",
    "    image_path = os.path.join(images_dataset_dir, image_file)\n",
    "    mask_path = os.path.join(masks_dataset_dir, mask_file)\n",
    "\n",
    "    read_img = tiff.imread(image_path)\n",
    "    read_mask = tiff.imread(mask_path)\n",
    "\n",
    "    imgs.append(read_img)\n",
    "    masks.append(read_mask)\n",
    "\n",
    "imgs = np.stack(imgs)   # (N, H, W, C)\n",
    "masks = np.stack(masks) # (N, H, W)\n",
    "\n",
    "print(f'shape of imgs: {imgs.shape}')\n",
    "print(f'shape of masks: {masks.shape}')"
   ]
  },
  {
   "cell_type": "markdown",
   "id": "b97f69fc",
   "metadata": {},
   "source": [
    "### Convert labels in masks"
   ]
  },
  {
   "cell_type": "code",
   "execution_count": null,
   "id": "80d2c2c6",
   "metadata": {},
   "outputs": [],
   "source": [
    "# Convert labels in masks from 0, 3, 4 to 0, 1, 2\n",
    "# where 0 is background, 1 is class 1, and 2 is class\n",
    "def remap_mask(mask):\n",
    "    if not torch.is_tensor(mask):\n",
    "        mask = torch.from_numpy(mask)\n",
    "    remapped = torch.zeros_like(mask)\n",
    "    remapped[mask == 0] = 0\n",
    "    remapped[mask == 3] = 1\n",
    "    remapped[mask == 4] = 2\n",
    "    return remapped.long()\n",
    "\n",
    "masks = remap_mask(masks)"
   ]
  },
  {
   "cell_type": "markdown",
   "id": "ba25a63a",
   "metadata": {},
   "source": [
    "### Obtain Dataloaders"
   ]
  },
  {
   "cell_type": "code",
   "execution_count": null,
   "id": "3933d58c",
   "metadata": {},
   "outputs": [],
   "source": [
    "full_dataset = BeetsSegmentationDataset(imgs, masks)\n",
    "\n",
    "train_size = int(SPLIT_TRAIN_TEST * len(full_dataset))\n",
    "test_size = len(full_dataset) - train_size\n",
    "train_dataset_raw, test_dataset = random_split(full_dataset, [train_size, test_size])\n",
    "\n",
    "val_size = int(SPLIT_TRAIN_VAL * len(train_dataset_raw))\n",
    "real_train_size = len(train_dataset_raw) - val_size\n",
    "train_dataset, val_dataset = random_split(train_dataset_raw, [real_train_size, val_size])\n",
    "\n",
    "# Loaders\n",
    "train_loader = DataLoader(train_dataset, batch_size=BATCH_SIZE, shuffle=True)\n",
    "val_loader = DataLoader(val_dataset, batch_size=BATCH_SIZE, shuffle=False)\n",
    "test_loader = DataLoader(test_dataset, batch_size=BATCH_SIZE, shuffle=False)\n",
    "\n",
    "for imgs_i, masks_i in train_loader:\n",
    "    print(\"Train Images:\", imgs_i.shape)\n",
    "    break\n",
    "\n",
    "for imgs_i, masks_i in val_loader:\n",
    "    print(\"Val Images:\", imgs_i.shape)\n",
    "    break"
   ]
  },
  {
   "cell_type": "markdown",
   "id": "c00b2cdc",
   "metadata": {},
   "source": [
    "### Save Dataloaders"
   ]
  },
  {
   "cell_type": "code",
   "execution_count": null,
   "id": "9a2cb8fd",
   "metadata": {},
   "outputs": [],
   "source": [
    "def save_dataloaders(train_loader, val_loader, test_loader, filename='dataloaders.pth'):\n",
    "    dataloaders = {\n",
    "        'train_loader': train_loader,\n",
    "        'val_loader': val_loader,\n",
    "        'test_loader': test_loader\n",
    "    }\n",
    "    torch.save(dataloaders, filename)\n",
    "    print(f\"Dataloaders saved to {filename}\")\n",
    "\n",
    "save_dataloaders(train_loader, val_loader, test_loader)"
   ]
  },
  {
   "cell_type": "markdown",
   "id": "049a6eb0",
   "metadata": {},
   "source": [
    "## Train model"
   ]
  },
  {
   "cell_type": "markdown",
   "id": "e9da9dbc",
   "metadata": {},
   "source": [
    "### Load model and dataloaders"
   ]
  },
  {
   "cell_type": "code",
   "execution_count": null,
   "id": "91358251",
   "metadata": {},
   "outputs": [],
   "source": [
    "model = get_deeplabv3_model(NUM_CLASSES)\n",
    "\n",
    "dataloaders = torch.load('dataloaders.pth')\n",
    "train_loader = dataloaders['train_loader']\n",
    "val_loader = dataloaders['val_loader']"
   ]
  },
  {
   "cell_type": "markdown",
   "id": "e41df9d2",
   "metadata": {},
   "source": [
    "### Train DeepLabV3 model"
   ]
  },
  {
   "cell_type": "code",
   "execution_count": null,
   "id": "27bc6844",
   "metadata": {},
   "outputs": [],
   "source": [
    "def train_deeplabv3(model, train_loader, val_loader, num_epochs=100, lr=1e-4, device='cuda', patience=10):\n",
    "    model = model.to(device)\n",
    "    criterion = nn.CrossEntropyLoss()\n",
    "    optimizer = optim.Adam(model.parameters(), lr=lr)\n",
    "\n",
    "    best_val_loss = float('inf')\n",
    "    best_model_state = None\n",
    "    epochs_without_improvement = 0\n",
    "\n",
    "    for epoch in range(num_epochs):\n",
    "        # -------------------\n",
    "        # Training\n",
    "        # -------------------\n",
    "        model.train()\n",
    "        running_train_loss = 0.0\n",
    "        progress_bar = tqdm(train_loader, desc=f\"Epoch {epoch+1}/{num_epochs} - Training\")\n",
    "\n",
    "        for images, masks in progress_bar:\n",
    "            images = images.to(device)\n",
    "            masks = masks.to(device).long()\n",
    "\n",
    "            optimizer.zero_grad()\n",
    "            outputs = model(images)['out']\n",
    "            loss = criterion(outputs, masks)\n",
    "            loss.backward()\n",
    "            optimizer.step()\n",
    "\n",
    "            running_train_loss += loss.item() * images.size(0)\n",
    "            progress_bar.set_postfix({\"train_loss\": f\"{loss.item():.4f}\"})\n",
    "\n",
    "        epoch_train_loss = running_train_loss / len(train_loader.dataset)\n",
    "\n",
    "        # -------------------\n",
    "        # Validation\n",
    "        # -------------------\n",
    "        model.eval()\n",
    "        running_val_loss = 0.0\n",
    "\n",
    "        with torch.no_grad():\n",
    "            for images, masks in val_loader:\n",
    "                images = images.to(device)\n",
    "                masks = masks.to(device).long()\n",
    "\n",
    "                outputs = model(images)['out']\n",
    "                loss = criterion(outputs, masks)\n",
    "                running_val_loss += loss.item() * images.size(0)\n",
    "\n",
    "        epoch_val_loss = running_val_loss / len(val_loader.dataset)\n",
    "        print(f\"Epoch [{epoch+1}/{num_epochs}], Train Loss: {epoch_train_loss:.4f}, Val Loss: {epoch_val_loss:.4f}\")\n",
    "\n",
    "        # -------------------\n",
    "        # Early stopping\n",
    "        # -------------------\n",
    "        if epoch_val_loss < best_val_loss:\n",
    "            best_val_loss = epoch_val_loss\n",
    "            best_model_state = model.state_dict()\n",
    "            epochs_without_improvement = 0\n",
    "        else:\n",
    "            epochs_without_improvement += 1\n",
    "\n",
    "        if epochs_without_improvement >= patience:\n",
    "            print(f\"Early stopping triggered after {epoch+1} epochs.\")\n",
    "            break\n",
    "\n",
    "    # -------------------\n",
    "    # Salve the best model\n",
    "    # -------------------\n",
    "    if best_model_state is not None:\n",
    "        torch.save(best_model_state, 'best_deeplabv3_model.pth')\n",
    "        print(\"Best model saved with validation loss:\", best_val_loss)\n",
    "\n",
    "    print(\"Training complete.\")\n",
    "\n",
    "train_deeplabv3(model, train_loader, val_loader, num_epochs=100, lr=1e-4, device=DEVICE, patience=10)"
   ]
  },
  {
   "cell_type": "markdown",
   "id": "2c26895f",
   "metadata": {},
   "source": [
    "## Test model"
   ]
  },
  {
   "cell_type": "markdown",
   "id": "fed539f3",
   "metadata": {},
   "source": [
    "### Load  model and dataloaders"
   ]
  },
  {
   "cell_type": "code",
   "execution_count": 4,
   "id": "afcf56c0",
   "metadata": {},
   "outputs": [
    {
     "name": "stderr",
     "output_type": "stream",
     "text": [
      "/tmp/ipykernel_394127/1401991351.py:2: FutureWarning: You are using `torch.load` with `weights_only=False` (the current default value), which uses the default pickle module implicitly. It is possible to construct malicious pickle data which will execute arbitrary code during unpickling (See https://github.com/pytorch/pytorch/blob/main/SECURITY.md#untrusted-models for more details). In a future release, the default value for `weights_only` will be flipped to `True`. This limits the functions that could be executed during unpickling. Arbitrary objects will no longer be allowed to be loaded via this mode unless they are explicitly allowlisted by the user via `torch.serialization.add_safe_globals`. We recommend you start setting `weights_only=True` for any use case where you don't have full control of the loaded file. Please open an issue on GitHub for any issues related to this experimental feature.\n",
      "  model.load_state_dict(torch.load('best_deeplabv3_model.pth'))\n",
      "/tmp/ipykernel_394127/1401991351.py:6: FutureWarning: You are using `torch.load` with `weights_only=False` (the current default value), which uses the default pickle module implicitly. It is possible to construct malicious pickle data which will execute arbitrary code during unpickling (See https://github.com/pytorch/pytorch/blob/main/SECURITY.md#untrusted-models for more details). In a future release, the default value for `weights_only` will be flipped to `True`. This limits the functions that could be executed during unpickling. Arbitrary objects will no longer be allowed to be loaded via this mode unless they are explicitly allowlisted by the user via `torch.serialization.add_safe_globals`. We recommend you start setting `weights_only=True` for any use case where you don't have full control of the loaded file. Please open an issue on GitHub for any issues related to this experimental feature.\n",
      "  dataloaders = torch.load('dataloaders.pth')\n"
     ]
    }
   ],
   "source": [
    "model = get_deeplabv3_model(NUM_CLASSES)\n",
    "model.load_state_dict(torch.load('best_deeplabv3_model.pth'))\n",
    "model = model.to(DEVICE)\n",
    "model.eval()\n",
    "\n",
    "dataloaders = torch.load('dataloaders.pth')\n",
    "test_loader = dataloaders['test_loader']"
   ]
  },
  {
   "cell_type": "markdown",
   "id": "72cd7a54",
   "metadata": {},
   "source": [
    "### Calculate Metrics"
   ]
  },
  {
   "cell_type": "code",
   "execution_count": null,
   "id": "49f0540c",
   "metadata": {},
   "outputs": [
    {
     "name": "stdout",
     "output_type": "stream",
     "text": [
      "0-Background - Average Precision: 0.9908\n",
      "1-Pinus - Average Precision: 0.0808\n",
      "2-Eucalyptus - Average Precision: 0.7450\n",
      "\n",
      "Mean Average Precision (mAP): 0.6055\n"
     ]
    },
    {
     "data": {
      "image/png": "[encoded data removed]",
      "text/plain": [
       "<Figure size 500x500 with 1 Axes>"
      ]
     },
     "metadata": {},
     "output_type": "display_data"
    }
   ],
   "source": [
    "from sklearn.metrics import average_precision_score\n",
    "import numpy as np\n",
    "import torch\n",
    "\n",
    "class_names = ['0-Background', '1-Pinus', '2-Eucalyptus']\n",
    "\n",
    "def compute_average_precision_per_class(model, dataloader, num_classes, device='cuda'):\n",
    "    model.eval()\n",
    "    all_labels = [[] for _ in range(num_classes)]\n",
    "    all_probs = [[] for _ in range(num_classes)]\n",
    "\n",
    "    with torch.no_grad():\n",
    "        for images, masks in dataloader:\n",
    "            images = images.to(device)\n",
    "            masks = masks.to(device).long()\n",
    "            outputs = model(images)['out']\n",
    "            probs = torch.softmax(outputs, dim=1).cpu()\n",
    "            masks = masks.cpu()\n",
    "\n",
    "            for c in range(num_classes):\n",
    "                true_c = (masks == c).float().reshape(-1).numpy()\n",
    "                prob_c = probs[:, c, :, :].reshape(-1).numpy()\n",
    "                all_labels[c].extend(true_c)\n",
    "                all_probs[c].extend(prob_c)\n",
    "\n",
    "    ap_per_class = []\n",
    "    for c in range(num_classes):\n",
    "        if len(np.unique(all_labels[c])) < 2:\n",
    "            ap = float('nan') \n",
    "        else:\n",
    "            ap = average_precision_score(all_labels[c], all_probs[c])\n",
    "        ap_per_class.append(ap)\n",
    "\n",
    "    mean_ap = np.nanmean(ap_per_class)\n",
    "    return ap_per_class, mean_ap\n",
    "\n",
    "ap_per_class, mean_ap = compute_average_precision_per_class(model, test_loader, num_classes=3, device='cuda')\n",
    "\n",
    "for name, ap in zip(class_names, ap_per_class):\n",
    "    print(f\"{name} - Average Precision: {ap:.4f}\")\n",
    "print(f\"\\nMean Average Precision (mAP): {mean_ap:.4f}\")\n",
    "\n",
    "plt.figure(figsize=(5, 5))\n",
    "bars = plt.bar(class_names, ap_per_class, width=0.4)\n",
    "\n",
    "for bar, ap in zip(bars, ap_per_class):\n",
    "    height = bar.get_height()\n",
    "    plt.text(bar.get_x() + bar.get_width()/2.0, height + 0.01, f'{ap:.2f}', ha='center', va='bottom')\n",
    "\n",
    "plt.ylim(0, 1.05)\n",
    "plt.axhline(mean_ap, color='red', linestyle='--', label=f'mAP = {mean_ap:.2f}')\n",
    "plt.title('Average Precision by Class')\n",
    "plt.ylabel('AP')\n",
    "plt.legend()\n",
    "plt.tight_layout()\n",
    "plt.show()"
   ]
  },
  {
   "cell_type": "markdown",
   "id": "3a5c6407",
   "metadata": {},
   "source": [
    "## Imprecise Probability"
   ]
  },
  {
   "cell_type": "markdown",
   "id": "5ad01c14",
   "metadata": {},
   "source": [
    "### Obtain likelihoods"
   ]
  },
  {
   "cell_type": "code",
   "execution_count": 18,
   "id": "d9cfcaf8",
   "metadata": {},
   "outputs": [
    {
     "name": "stderr",
     "output_type": "stream",
     "text": [
      "/tmp/ipykernel_428223/1508212436.py:2: FutureWarning: You are using `torch.load` with `weights_only=False` (the current default value), which uses the default pickle module implicitly. It is possible to construct malicious pickle data which will execute arbitrary code during unpickling (See https://github.com/pytorch/pytorch/blob/main/SECURITY.md#untrusted-models for more details). In a future release, the default value for `weights_only` will be flipped to `True`. This limits the functions that could be executed during unpickling. Arbitrary objects will no longer be allowed to be loaded via this mode unless they are explicitly allowlisted by the user via `torch.serialization.add_safe_globals`. We recommend you start setting `weights_only=True` for any use case where you don't have full control of the loaded file. Please open an issue on GitHub for any issues related to this experimental feature.\n",
      "  model.load_state_dict(torch.load('best_deeplabv3_model.pth'))\n",
      "/tmp/ipykernel_428223/1508212436.py:6: FutureWarning: You are using `torch.load` with `weights_only=False` (the current default value), which uses the default pickle module implicitly. It is possible to construct malicious pickle data which will execute arbitrary code during unpickling (See https://github.com/pytorch/pytorch/blob/main/SECURITY.md#untrusted-models for more details). In a future release, the default value for `weights_only` will be flipped to `True`. This limits the functions that could be executed during unpickling. Arbitrary objects will no longer be allowed to be loaded via this mode unless they are explicitly allowlisted by the user via `torch.serialization.add_safe_globals`. We recommend you start setting `weights_only=True` for any use case where you don't have full control of the loaded file. Please open an issue on GitHub for any issues related to this experimental feature.\n",
      "  dataloaders = torch.load('dataloaders.pth')\n"
     ]
    },
    {
     "name": "stdout",
     "output_type": "stream",
     "text": [
      "Train likelihoods and masks shape: torch.Size([122, 3, 512, 512]) | torch.Size([122, 512, 512])\n",
      "Validation likelihoods and masks shape: torch.Size([30, 3, 512, 512]) | torch.Size([30, 512, 512])\n",
      "Test likelihoods and masks shape: torch.Size([39, 3, 512, 512]) | torch.Size([39, 512, 512])\n"
     ]
    }
   ],
   "source": [
    "model = get_deeplabv3_model(NUM_CLASSES)\n",
    "model.load_state_dict(torch.load('best_deeplabv3_model.pth'))\n",
    "model = model.to(DEVICE)\n",
    "model.eval()\n",
    "\n",
    "dataloaders = torch.load('dataloaders.pth')\n",
    "train_loader = dataloaders['train_loader']\n",
    "val_loader = dataloaders['val_loader']\n",
    "test_loader = dataloaders['test_loader']\n",
    "\n",
    "def get_likelihoods(model, loader):\n",
    "    all_likelihoods = []\n",
    "    all_masks = []\n",
    "    with torch.no_grad():\n",
    "        for images, mask in loader:\n",
    "            images = images.to(DEVICE)\n",
    "            mask = mask.to(DEVICE).long()\n",
    "            outputs = model(images)['out']\n",
    "            likelihoods = torch.softmax(outputs, dim=1).cpu()\n",
    "            all_likelihoods.append(likelihoods)\n",
    "            all_masks.append(mask.cpu())\n",
    "    \n",
    "    return torch.cat(all_likelihoods, dim=0), torch.cat(all_masks, dim=0)\n",
    "\n",
    "train_likelihoods, train_labels = get_likelihoods(model, train_loader)\n",
    "val_likelihoods, val_labels = get_likelihoods(model, val_loader)\n",
    "test_likelihoods, test_labels = get_likelihoods(model, test_loader)\n",
    "\n",
    "print(f\"Train likelihoods and masks shape: {train_likelihoods.shape} | {train_labels.shape}\")\n",
    "print(f\"Validation likelihoods and masks shape: {val_likelihoods.shape} | {val_labels.shape}\")\n",
    "print(f\"Test likelihoods and masks shape: {test_likelihoods.shape} | {test_labels.shape}\")"
   ]
  },
  {
   "cell_type": "markdown",
   "id": "f9029c48",
   "metadata": {},
   "source": [
    "### Obtain lower bounds"
   ]
  },
  {
   "cell_type": "code",
   "execution_count": null,
   "id": "6d4813f0",
   "metadata": {},
   "outputs": [
    {
     "name": "stdout",
     "output_type": "stream",
     "text": [
      "Validation lower bound shape: torch.Size([30, 3, 512, 512])\n",
      "Test lower bound shape: torch.Size([39, 3, 512, 512])\n"
     ]
    }
   ],
   "source": [
    "def obtain_lower_bound(probs, alpha=0.1, eps=1e-6):\n",
    "\n",
    "    entropy = -torch.sum(probs * torch.log(probs + eps), dim=1)  # (N, H, W)\n",
    "    lower_bound = (probs - alpha * entropy.unsqueeze(1)).clamp(0, 1)       # (N, C, H, W)\n",
    "\n",
    "    return lower_bound\n",
    "\n",
    "val_lower_bound = obtain_lower_bound(val_likelihoods, alpha=0.1)\n",
    "test_lower_bound = obtain_lower_bound(test_likelihoods, alpha=0.1)\n",
    "\n",
    "print(f\"Validation lower bound shape: {val_lower_bound.shape}\")\n",
    "print(f\"Test lower bound shape: {test_lower_bound.shape}\")"
   ]
  },
  {
   "cell_type": "markdown",
   "id": "b73bc7f9",
   "metadata": {},
   "source": [
    "### Visualize distribution of likelyhood by class"
   ]
  },
  {
   "cell_type": "code",
   "execution_count": 20,
   "id": "25575048",
   "metadata": {},
   "outputs": [
    {
     "data": {
      "image/png": "[encoded data removed]",
      "text/plain": [
       "<Figure size 1200x600 with 1 Axes>"
      ]
     },
     "metadata": {},
     "output_type": "display_data"
    }
   ],
   "source": [
    "import seaborn as sns\n",
    "import matplotlib.pyplot as plt\n",
    "\n",
    "def plot_lower_bound_distribution(lower_bound, labels, sample_size=10000):\n",
    "    \n",
    "    N, C, H, W = lower_bound.shape\n",
    "\n",
    "    plt.figure(figsize=(12, 6))\n",
    "\n",
    "    for c in range(C):\n",
    "        mask = (labels == c).unsqueeze(1)  # shape: (N, 1, H, W)\n",
    "        lower_c = lower_bound[:, c, :, :][mask.squeeze(1)]\n",
    "\n",
    "        if lower_c.numel() > sample_size:\n",
    "            indices = torch.randperm(lower_c.numel())[:sample_size]\n",
    "            lower_c = lower_c[indices]\n",
    "\n",
    "        sns.kdeplot(lower_c.cpu().numpy(), label=f'Classe {c}', linewidth=2)\n",
    "\n",
    "    plt.title(\"Distribution of Lower Bounds by Class\")\n",
    "    plt.xlabel(\"Lower Bound\")\n",
    "    plt.ylabel(\"Estimated Density\")\n",
    "    plt.legend()\n",
    "    plt.xticks(np.arange(0, 1.1, 0.1)) \n",
    "    plt.grid(True)\n",
    "    plt.show()\n",
    "\n",
    "plot_lower_bound_distribution(val_lower_bound, val_labels)"
   ]
  }
 ],
 "metadata": {
  "kernelspec": {
   "display_name": "myenv",
   "language": "python",
   "name": "python3"
  },
  "language_info": {
   "codemirror_mode": {
    "name": "ipython",
    "version": 3
   },
   "file_extension": ".py",
   "mimetype": "text/x-python",
   "name": "python",
   "nbconvert_exporter": "python",
   "pygments_lexer": "ipython3",
   "version": "3.11.9"
  }
 },
 "nbformat": 4,
 "nbformat_minor": 5
}
