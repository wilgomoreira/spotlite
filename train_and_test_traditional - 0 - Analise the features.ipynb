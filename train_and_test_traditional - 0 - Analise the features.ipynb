{
 "cells": [
  {
   "cell_type": "markdown",
   "id": "475d89fb",
   "metadata": {},
   "source": [
    "## Essencial Functions and Libraries"
   ]
  },
  {
   "cell_type": "code",
   "execution_count": 2,
   "id": "45965918",
   "metadata": {},
   "outputs": [],
   "source": [
    "import os\n",
    "import numpy as np\n",
    "import pandas as pd\n",
    "import tifffile as tiff\n",
    "from sklearn.ensemble import RandomForestClassifier\n",
    "from sklearn.svm import SVC\n",
    "from sklearn.model_selection import train_test_split\n",
    "from sklearn.metrics import classification_report, confusion_matrix\n",
    "import matplotlib.pyplot as plt\n",
    "import torch\n",
    "from sklearn.model_selection import GridSearchCV\n",
    "from sklearn.neural_network import MLPClassifier\n",
    "from sklearn.preprocessing import StandardScaler\n",
    "from sklearn.pipeline import Pipeline\n",
    "from sklearn.metrics import average_precision_score\n",
    "\n"
   ]
  },
  {
   "cell_type": "markdown",
   "id": "01ff89d4",
   "metadata": {},
   "source": [
    "## Read data"
   ]
  },
  {
   "cell_type": "code",
   "execution_count": 3,
   "id": "12af8384",
   "metadata": {},
   "outputs": [
    {
     "name": "stdout",
     "output_type": "stream",
     "text": [
      "Final: 191 pairs loaded.\n",
      "Shape of imgs: (191, 512, 512, 4)\n",
      "Shape of masks: (191, 512, 512)\n"
     ]
    }
   ],
   "source": [
    "from pathlib import Path\n",
    "import numpy as np\n",
    "import tifffile as tiff\n",
    "from difflib import get_close_matches\n",
    "\n",
    "# Main dataset directory\n",
    "dataset_dir = Path('spotlite_dataset_loca1_date1_dir1')\n",
    "\n",
    "images_dir = dataset_dir / 'images'\n",
    "masks_dir = dataset_dir / 'masks'\n",
    "\n",
    "assert images_dir.exists(), f\"Image folder not found: {images_dir}\"\n",
    "assert masks_dir.exists(), f\"Mask folder not found: {masks_dir}\"\n",
    "\n",
    "# Collect all image and mask files (multiple extensions)\n",
    "image_paths = sorted(\n",
    "    [*images_dir.glob('*.tif'), *images_dir.glob('*.tiff')],\n",
    "    key=lambda p: p.stem\n",
    ")\n",
    "mask_paths = sorted(\n",
    "    [*masks_dir.glob('*.tif'), *masks_dir.glob('*.tiff'),\n",
    "     *masks_dir.glob('*.png'), *masks_dir.glob('*.jpg')],\n",
    "    key=lambda p: p.stem\n",
    ")\n",
    "\n",
    "# Dictionary of masks by base name\n",
    "mask_dict = {p.stem: p for p in mask_paths}\n",
    "unused_masks = set(mask_dict.keys())\n",
    "\n",
    "imgs_array, masks_array = [], []\n",
    "\n",
    "for img_path in image_paths:\n",
    "    stem = img_path.stem\n",
    "    mask_path = None\n",
    "\n",
    "    # 1) Exact match\n",
    "    if stem in mask_dict:\n",
    "        mask_path = mask_dict[stem]\n",
    "        unused_masks.discard(stem)\n",
    "    else:\n",
    "        # 2) Approximate match\n",
    "        candidates = get_close_matches(stem, mask_dict.keys(), n=1, cutoff=0.6)\n",
    "        if candidates:\n",
    "            sel = candidates[0]\n",
    "            mask_path = mask_dict[sel]\n",
    "            unused_masks.discard(sel)\n",
    "        else:\n",
    "            # 3) No match found; just notify and skip\n",
    "            print(f\"Warning: no mask found for {img_path.name}; skipping.\")\n",
    "            continue\n",
    "\n",
    "    # Read image and mask\n",
    "    img = tiff.imread(str(img_path))\n",
    "    msk = tiff.imread(str(mask_path))\n",
    "\n",
    "    # Check dimensions\n",
    "    if img.shape[:2] != msk.shape:\n",
    "        raise ValueError(\n",
    "            f\"Incompatible dimensions: {img_path.name} {img.shape[:2]} vs \"\n",
    "            f\"{mask_path.name} {msk.shape}\"\n",
    "        )\n",
    "\n",
    "    imgs_array.append(img)\n",
    "    masks_array.append(msk)\n",
    "\n",
    "# Remaining masks\n",
    "if unused_masks:\n",
    "    print(\"Warning: these masks were not used (no corresponding image):\")\n",
    "    for s in sorted(unused_masks):\n",
    "        print(\"  \", s)\n",
    "\n",
    "# Stack arrays\n",
    "imgs = np.stack(imgs_array, axis=0)   # (N, H, W, C)\n",
    "masks = np.stack(masks_array, axis=0)  # (N, H, W)\n",
    "\n",
    "print(f'Final: {len(imgs)} pairs loaded.')\n",
    "print(f'Shape of imgs: {imgs.shape}')\n",
    "print(f'Shape of masks: {masks.shape}')\n"
   ]
  },
  {
   "cell_type": "markdown",
   "id": "b97f69fc",
   "metadata": {},
   "source": [
    "## Convert labels in masks"
   ]
  },
  {
   "cell_type": "code",
   "execution_count": 4,
   "id": "80d2c2c6",
   "metadata": {},
   "outputs": [
    {
     "name": "stdout",
     "output_type": "stream",
     "text": [
      "shape of remapped masks: torch.Size([191, 512, 512])\n"
     ]
    }
   ],
   "source": [
    "# Convert labels in masks from 0, 3, 4 to 0, 1, 2\n",
    "# where 0 is background, 1 is class 1, and 2 is class\n",
    "def remap_mask(mask):\n",
    "    if not torch.is_tensor(mask):\n",
    "        mask = torch.from_numpy(mask)\n",
    "    remapped = torch.zeros_like(mask)\n",
    "    remapped[mask == 0] = 0\n",
    "    remapped[mask == 3] = 1\n",
    "    remapped[mask == 4] = 2\n",
    "    return remapped.long()\n",
    "\n",
    "masks = remap_mask(masks)\n",
    "\n",
    "print(f'shape of remapped masks: {masks.shape}')"
   ]
  },
  {
   "cell_type": "markdown",
   "id": "58aa7752",
   "metadata": {},
   "source": [
    "## Extract features and labels"
   ]
  },
  {
   "cell_type": "code",
   "execution_count": 5,
   "id": "adb61850",
   "metadata": {},
   "outputs": [
    {
     "name": "stdout",
     "output_type": "stream",
     "text": [
      "shape of X: (50069504, 4)\n",
      "shape of y: torch.Size([50069504])\n"
     ]
    }
   ],
   "source": [
    "N, H, W, C = imgs.shape\n",
    "X = imgs.reshape(-1, C)       # shape = (N*H*W, 4)\n",
    "y = masks.reshape(-1)         # shape = (N*H*W,)\n",
    "\n",
    "print(f'shape of X: {X.shape}')\n",
    "print(f'shape of y: {y.shape}')\n",
    "\n",
    "# (Opcional) amostragem para acelerar treino\n",
    "# idx = np.random.choice(len(y), size=100000, replace=False)\n",
    "# X, y = X[idx], y[idx]"
   ]
  },
  {
   "cell_type": "markdown",
   "id": "cabe8217",
   "metadata": {},
   "source": [
    "## Check Inbalance"
   ]
  },
  {
   "cell_type": "code",
   "execution_count": 6,
   "id": "d2422840",
   "metadata": {},
   "outputs": [
    {
     "name": "stdout",
     "output_type": "stream",
     "text": [
      "Classe 0: 48,043,641 pixels (95.95%)\n",
      "Classe 1: 687,567 pixels (1.37%)\n",
      "Classe 2: 1,338,296 pixels (2.67%)\n",
      "   class    counts    percent\n",
      "0      0  48043641  95.953898\n",
      "1      1    687567   1.373225\n",
      "2      2   1338296   2.672876\n"
     ]
    },
    {
     "data": {
      "image/png": "[encoded data removed]",
      "text/plain": [
       "<Figure size 600x400 with 1 Axes>"
      ]
     },
     "metadata": {},
     "output_type": "display_data"
    }
   ],
   "source": [
    "y = np.array(y)\n",
    "\n",
    "y_flat = y.reshape(-1)\n",
    "total_pixels = y_flat.size\n",
    "classes, counts = np.unique(y_flat, return_counts=True)\n",
    "\n",
    "for cls, ct in zip(classes, counts):\n",
    "    pct = ct / total_pixels * 100\n",
    "    print(f\"Classe {cls}: {ct:,} pixels ({pct:.2f}%)\")\n",
    "\n",
    "df_dist = pd.DataFrame({\n",
    "    \"class\":   classes,\n",
    "    \"counts\":  counts,\n",
    "    \"percent\": counts / total_pixels * 100\n",
    "})\n",
    "print(df_dist)\n",
    "\n",
    "class_names = {\n",
    "    0: \"background\",\n",
    "    1: \"pinus\",\n",
    "    2: \"eucalyptus\"\n",
    "}\n",
    "x_labels = [f\"{cls} – {class_names[cls]}\" for cls in df_dist['class']]\n",
    "\n",
    "fig, ax = plt.subplots(figsize=(6, 4))\n",
    "bars = ax.bar(df_dist['class'], df_dist['counts'])\n",
    "\n",
    "ax.set_ylabel('Number of pixels')\n",
    "ax.set_title('Distribution of classes in the dataset')\n",
    "\n",
    "ax.set_xticks(df_dist['class'])\n",
    "ax.set_xticklabels(x_labels)\n",
    "\n",
    "for bar, pct in zip(bars, df_dist['percent']):\n",
    "    x  = bar.get_x() + bar.get_width()/2\n",
    "    y  = bar.get_height()\n",
    "    ax.text(x, y, f\"{pct:.2f}%\", ha='center', va='bottom')\n",
    "\n",
    "plt.tight_layout()\n",
    "plt.show()"
   ]
  },
  {
   "cell_type": "markdown",
   "id": "2adda374",
   "metadata": {},
   "source": [
    "## Analise the Features"
   ]
  },
  {
   "cell_type": "code",
   "execution_count": 26,
   "id": "e83d5dda",
   "metadata": {},
   "outputs": [],
   "source": [
    "import plotly.express as px\n",
    "import numpy as np\n",
    "import pandas as pd\n",
    "\n",
    "# NDVI = (NIR - R) / (NIR + R)\n",
    "# [R, G, B] → check classic visual coupling\n",
    "\n",
    "# [G, NIR, NDVI] → check if NDVI helps separate vegetation\n",
    "# [NDVI, GNDVI, NIR] → check separation by indices\n",
    "# [H, S, V] or [L, A, B] if converted to HSV or LAB\n",
    "\n",
    "R = X[:, 0]\n",
    "G = X[:, 1]\n",
    "B = X[:, 2]\n",
    "NIR = X[:, 3]\n",
    "\n",
    "NDVI = (NIR - R) / (NIR + R + 1e-5)\n",
    "GNDVI = (NIR - G) / (NIR + G + 1e-5)\n",
    "\n",
    "def plot_3d_features(X, y, feature_names=None, title=\"3D Distribution of Classes\", max_samples=10000, random_state=42, html_path=\"interactive_plot.html\"):\n",
    "\n",
    "    # Stratified sampling\n",
    "    np.random.seed(random_state)\n",
    "    sampled_X = []\n",
    "    sampled_y = []\n",
    "\n",
    "    for cls in np.unique(y):\n",
    "        mask = (y == cls)\n",
    "        X_cls = X[mask]\n",
    "        y_cls = y[mask]\n",
    "        n = min(max_samples // 3, len(X_cls))\n",
    "        idx = np.random.choice(len(X_cls), size=n, replace=False)\n",
    "        sampled_X.append(X_cls[idx])\n",
    "        sampled_y.append(y_cls[idx])\n",
    "\n",
    "    X_vis = np.vstack(sampled_X)\n",
    "    y_vis = np.hstack(sampled_y)\n",
    "\n",
    "    # Feature names\n",
    "    if feature_names is None:\n",
    "        feature_names = [\"Feature 1\", \"Feature 2\", \"Feature 3\"]\n",
    "\n",
    "    # Create DataFrame\n",
    "    df = pd.DataFrame(X_vis, columns=feature_names)\n",
    "    df[\"class\"] = y_vis\n",
    "    df[\"class\"] = df[\"class\"].map({0: \"Background\", 1: \"Pine\", 2: \"Eucalyptus\"})\n",
    "\n",
    "    # Plot with Plotly\n",
    "    fig = px.scatter_3d(\n",
    "        df, x=feature_names[0], y=feature_names[1], z=feature_names[2],\n",
    "        color=\"class\", opacity=0.5, title=title, size_max=5\n",
    "    )\n",
    "    fig.update_traces(marker=dict(size=2))\n",
    "\n",
    "    # Save as HTML\n",
    "    fig.write_html(html_path)\n",
    "    print(f\"✅ Interactive plot saved at: {html_path}\")\n",
    "    print(\"📂 You can download this file or open it directly in your browser.\")\n"
   ]
  },
  {
   "cell_type": "markdown",
   "id": "2b168ce4",
   "metadata": {},
   "source": [
    "### RGB Space"
   ]
  },
  {
   "cell_type": "code",
   "execution_count": null,
   "id": "ca57aa3a",
   "metadata": {},
   "outputs": [
    {
     "name": "stdout",
     "output_type": "stream",
     "text": [
      "✅ Interactive plot saved at: plot_3d_features/rgb.html\n",
      "📂 You can download this file or open it directly in your browser.\n"
     ]
    }
   ],
   "source": [
    "X_vis = np.stack([R, G, B], axis=1)\n",
    "plot_3d_features(X_vis, y, feature_names=[\"R\", \"G\", \"B\"], max_samples=10000, html_path=\"plot_3d_features/rgb.html\")"
   ]
  },
  {
   "cell_type": "markdown",
   "id": "9d311d72",
   "metadata": {},
   "source": [
    "### G, NIR, NDVI Space"
   ]
  },
  {
   "cell_type": "code",
   "execution_count": 24,
   "id": "c9b5ded4",
   "metadata": {},
   "outputs": [
    {
     "name": "stdout",
     "output_type": "stream",
     "text": [
      "✅ Interactive plot saved at: plot_3d_features/g_nir_ndvi.html\n",
      "📂 You can download this file or open it directly in your browser.\n"
     ]
    }
   ],
   "source": [
    "X_vis = np.stack([G, NIR, NDVI], axis=1)\n",
    "plot_3d_features(X_vis, y, feature_names=[\"G\", \"NIR\", \"NDVI\"], max_samples=10000, html_path=\"plot_3d_features/g_nir_ndvi.html\")"
   ]
  },
  {
   "cell_type": "markdown",
   "id": "ec621955",
   "metadata": {},
   "source": [
    "### R, G, NDVI Space"
   ]
  },
  {
   "cell_type": "code",
   "execution_count": 25,
   "id": "6692ed16",
   "metadata": {},
   "outputs": [
    {
     "name": "stdout",
     "output_type": "stream",
     "text": [
      "✅ Interactive plot saved at: plot_3d_features/r_g_ndvi.html\n",
      "📂 You can download this file or open it directly in your browser.\n"
     ]
    }
   ],
   "source": [
    "X_vis = np.stack([R, G, NDVI], axis=1)\n",
    "plot_3d_features(X_vis, y, feature_names=[\"R\", \"G\", \"NDVI\"], max_samples=10000, html_path=\"plot_3d_features/r_g_ndvi.html\")"
   ]
  },
  {
   "cell_type": "markdown",
   "id": "296eaf3e",
   "metadata": {},
   "source": [
    "### NDVI, GNDVI, NIR Space"
   ]
  },
  {
   "cell_type": "code",
   "execution_count": 27,
   "id": "a44a699d",
   "metadata": {},
   "outputs": [
    {
     "name": "stdout",
     "output_type": "stream",
     "text": [
      "✅ Interactive plot saved at: plot_3d_features/ndvi_gndvi_nir.html\n",
      "📂 You can download this file or open it directly in your browser.\n"
     ]
    }
   ],
   "source": [
    "X_vis = np.stack([NDVI, GNDVI, NIR], axis=1)\n",
    "plot_3d_features(X_vis, y, feature_names=[\"NDVI\", \"GNDVI\", \"NIR\"], max_samples=10000, html_path=\"plot_3d_features/ndvi_gndvi_nir.html\")"
   ]
  },
  {
   "cell_type": "markdown",
   "id": "8bc3382f",
   "metadata": {},
   "source": [
    "### HSV and LAB"
   ]
  },
  {
   "cell_type": "code",
   "execution_count": 28,
   "id": "2de27269",
   "metadata": {},
   "outputs": [
    {
     "name": "stdout",
     "output_type": "stream",
     "text": [
      "✅ Interactive plot saved at: plot_3d_features/hsv.html\n",
      "📂 You can download this file or open it directly in your browser.\n",
      "✅ Interactive plot saved at: plot_3d_features/lab.html\n",
      "📂 You can download this file or open it directly in your browser.\n"
     ]
    }
   ],
   "source": [
    "from skimage.color import rgb2hsv, rgb2lab\n",
    "\n",
    "# Stack RGB normalized to [0, 1]\n",
    "rgb = np.stack([R, G, B], axis=1).astype(np.float32)\n",
    "rgb_norm = (rgb - rgb.min(0)) / (rgb.max(0) - rgb.min(0) + 1e-5)  # normalization per channel\n",
    "\n",
    "# Convert to HSV and LAB\n",
    "hsv = rgb2hsv(rgb_norm.reshape(-1, 1, 3)).reshape(-1, 3) \n",
    "lab = rgb2lab(rgb_norm.reshape(-1, 1, 3)).reshape(-1, 3)\n",
    "\n",
    "# HSV\n",
    "plot_3d_features(\n",
    "    hsv, y,\n",
    "    feature_names=[\"Hue\", \"Saturation\", \"Value\"],\n",
    "    html_path=\"plot_3d_features/hsv.html\"\n",
    ")\n",
    "\n",
    "# LAB\n",
    "plot_3d_features(\n",
    "    lab, y,\n",
    "    feature_names=[\"L\", \"A\", \"B\"],\n",
    "    html_path=\"plot_3d_features/lab.html\"\n",
    ")"
   ]
  }
 ],
 "metadata": {
  "kernelspec": {
   "display_name": "myenv",
   "language": "python",
   "name": "python3"
  },
  "language_info": {
   "codemirror_mode": {
    "name": "ipython",
    "version": 3
   },
   "file_extension": ".py",
   "mimetype": "text/x-python",
   "name": "python",
   "nbconvert_exporter": "python",
   "pygments_lexer": "ipython3",
   "version": "3.11.9"
  }
 },
 "nbformat": 4,
 "nbformat_minor": 5
}
