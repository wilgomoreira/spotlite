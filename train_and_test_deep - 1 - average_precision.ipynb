{
 "cells": [
  {
   "cell_type": "markdown",
   "id": "475d89fb",
   "metadata": {},
   "source": [
    "## Essencial Functions and Libraries"
   ]
  },
  {
   "cell_type": "code",
   "execution_count": 9,
   "id": "45965918",
   "metadata": {},
   "outputs": [
    {
     "name": "stderr",
     "output_type": "stream",
     "text": [
      "/home/wilgo/miniconda3/envs/myenv/lib/python3.11/site-packages/tqdm/auto.py:21: TqdmWarning: IProgress not found. Please update jupyter and ipywidgets. See https://ipywidgets.readthedocs.io/en/stable/user_install.html\n",
      "  from .autonotebook import tqdm as notebook_tqdm\n"
     ]
    }
   ],
   "source": [
    "import torch\n",
    "import os\n",
    "import tifffile as tiff\n",
    "import numpy as np\n",
    "from torch.utils.data import Dataset, DataLoader, random_split\n",
    "import torch.nn as nn\n",
    "from torchvision import models\n",
    "from tqdm import tqdm\n",
    "import torch.optim as optim\n",
    "from torchvision.models.segmentation import DeepLabV3_ResNet50_Weights\n",
    "import matplotlib.pyplot as plt\n",
    "import torch.nn.functional as F\n",
    "import seaborn as sns\n",
    "from itertools import product\n",
    "import concurrent.futures\n",
    "from sklearn.metrics import average_precision_score\n",
    "import pydensecrf.densecrf as dcrf\n",
    "from pydensecrf.utils import unary_from_softmax\n",
    "import optuna\n",
    "from scipy.special import expit\n",
    "from sklearn.metrics import f1_score\n",
    "\n",
    "NUM_CLASSES = 3  \n",
    "SPLIT_TRAIN_TEST = 0.8  # 80% train, 20% test  \n",
    "SPLIT_TRAIN_VAL = 0.2 # 80% train, 20% validation\n",
    "BATCH_SIZE = 8  # Batch size for DataLoader\n",
    "DEVICE = torch.device('cuda' if torch.cuda.is_available() else 'cpu')\n",
    "\n",
    "class BeetsSegmentationDataset(Dataset):\n",
    "    def __init__(self, images, masks):\n",
    "        self.images = images\n",
    "        self.masks = masks\n",
    "       \n",
    "        self.mean = np.mean(images, axis=(0, 1, 2))\n",
    "        self.std = np.std(images, axis=(0, 1, 2))\n",
    "\n",
    "    def __len__(self):\n",
    "        return len(self.images)\n",
    "\n",
    "    def __getitem__(self, idx):\n",
    "        img = self.images[idx]  # (H, W, C)\n",
    "        mask = self.masks[idx]  # (H, W)\n",
    "\n",
    "        img = (img - self.mean) / (self.std + 1e-8)\n",
    "\n",
    "        img_tensor = torch.tensor(img, dtype=torch.float32).permute(2, 0, 1)\n",
    "        if not torch.is_tensor(mask):\n",
    "            mask = torch.from_numpy(mask)\n",
    "\n",
    "        return img_tensor, mask\n",
    "\n",
    "def get_deeplabv3_model(num_classes):\n",
    "    model = models.segmentation.deeplabv3_resnet50(weights=DeepLabV3_ResNet50_Weights.DEFAULT)\n",
    "    # Get the original conv1 layer\n",
    "    orig_conv = model.backbone.conv1\n",
    "    new_conv = torch.nn.Conv2d(\n",
    "        in_channels=4,\n",
    "        out_channels=orig_conv.out_channels,\n",
    "        kernel_size=orig_conv.kernel_size,\n",
    "        stride=orig_conv.stride,\n",
    "        padding=orig_conv.padding,\n",
    "        bias=orig_conv.bias is not None\n",
    "    )\n",
    "    with torch.no_grad():\n",
    "        new_conv.weight[:, :3] = orig_conv.weight  # Copy RGB weights\n",
    "        new_conv.weight[:, 3] = orig_conv.weight[:, 0]  # Initialize 4th channel\n",
    "        model.backbone.conv1 = new_conv\n",
    "        # Update classifier for your number of classes\n",
    "        model.classifier[4] = torch.nn.Conv2d(256, num_classes, kernel_size=1)\n",
    "        return model"
   ]
  },
  {
   "cell_type": "markdown",
   "id": "ecf9d52f",
   "metadata": {},
   "source": [
    "## Prepare Dataset"
   ]
  },
  {
   "cell_type": "markdown",
   "id": "01ff89d4",
   "metadata": {},
   "source": [
    "### Read data"
   ]
  },
  {
   "cell_type": "code",
   "execution_count": null,
   "id": "12af8384",
   "metadata": {},
   "outputs": [],
   "source": [
    "dataset_dir = 'spotlite_dataset_loca1_date1_dir1'\n",
    "\n",
    "images_dataset_dir = os.path.join(dataset_dir, 'images')\n",
    "masks_dataset_dir = os.path.join(dataset_dir, 'masks')\n",
    "\n",
    "# Verify if directories exist (optional, but recommended)\n",
    "assert os.path.exists(images_dataset_dir), f\"Images directory not found: {images_dataset_dir}\"\n",
    "assert os.path.exists(masks_dataset_dir), f\"Masks directory not found: {masks_dataset_dir}\"\n",
    "\n",
    "image_files = sorted(os.listdir(images_dataset_dir))\n",
    "mask_files = sorted(os.listdir(masks_dataset_dir))\n",
    "\n",
    "imgs, masks = [], []\n",
    "\n",
    "# Check if the number of files match\n",
    "assert len(image_files) == len(mask_files), \"Number of images and masks don't match.\"\n",
    "\n",
    "for image_file, mask_file in zip(image_files, mask_files):\n",
    "    image_path = os.path.join(images_dataset_dir, image_file)\n",
    "    mask_path = os.path.join(masks_dataset_dir, mask_file)\n",
    "\n",
    "    read_img = tiff.imread(image_path)\n",
    "    read_mask = tiff.imread(mask_path)\n",
    "\n",
    "    imgs.append(read_img)\n",
    "    masks.append(read_mask)\n",
    "\n",
    "imgs = np.stack(imgs)   # (N, H, W, C)\n",
    "masks = np.stack(masks) # (N, H, W)\n",
    "\n",
    "print(f'shape of imgs: {imgs.shape}')\n",
    "print(f'shape of masks: {masks.shape}')"
   ]
  },
  {
   "cell_type": "markdown",
   "id": "b97f69fc",
   "metadata": {},
   "source": [
    "### Convert labels in masks"
   ]
  },
  {
   "cell_type": "code",
   "execution_count": null,
   "id": "80d2c2c6",
   "metadata": {},
   "outputs": [],
   "source": [
    "# Convert labels in masks from 0, 3, 4 to 0, 1, 2\n",
    "# where 0 is background, 1 is class 1, and 2 is class\n",
    "def remap_mask(mask):\n",
    "    if not torch.is_tensor(mask):\n",
    "        mask = torch.from_numpy(mask)\n",
    "    remapped = torch.zeros_like(mask)\n",
    "    remapped[mask == 0] = 0\n",
    "    remapped[mask == 3] = 1\n",
    "    remapped[mask == 4] = 2\n",
    "    return remapped.long()\n",
    "\n",
    "masks = remap_mask(masks)"
   ]
  },
  {
   "cell_type": "markdown",
   "id": "ba25a63a",
   "metadata": {},
   "source": [
    "### Obtain Dataloaders"
   ]
  },
  {
   "cell_type": "code",
   "execution_count": null,
   "id": "3933d58c",
   "metadata": {},
   "outputs": [],
   "source": [
    "full_dataset = BeetsSegmentationDataset(imgs, masks)\n",
    "\n",
    "train_size = int(SPLIT_TRAIN_TEST * len(full_dataset))\n",
    "test_size = len(full_dataset) - train_size\n",
    "train_dataset_raw, test_dataset = random_split(full_dataset, [train_size, test_size])\n",
    "\n",
    "val_size = int(SPLIT_TRAIN_VAL * len(train_dataset_raw))\n",
    "real_train_size = len(train_dataset_raw) - val_size\n",
    "train_dataset, val_dataset = random_split(train_dataset_raw, [real_train_size, val_size])\n",
    "\n",
    "# Loaders\n",
    "train_loader = DataLoader(train_dataset, batch_size=BATCH_SIZE, shuffle=True)\n",
    "val_loader = DataLoader(val_dataset, batch_size=BATCH_SIZE, shuffle=False)\n",
    "test_loader = DataLoader(test_dataset, batch_size=BATCH_SIZE, shuffle=False)\n",
    "\n",
    "for imgs_i, masks_i in train_loader:\n",
    "    print(\"Train Images:\", imgs_i.shape)\n",
    "    break\n",
    "\n",
    "for imgs_i, masks_i in val_loader:\n",
    "    print(\"Val Images:\", imgs_i.shape)\n",
    "    break"
   ]
  },
  {
   "cell_type": "markdown",
   "id": "c00b2cdc",
   "metadata": {},
   "source": [
    "### Save Dataloaders"
   ]
  },
  {
   "cell_type": "code",
   "execution_count": null,
   "id": "9a2cb8fd",
   "metadata": {},
   "outputs": [],
   "source": [
    "def save_dataloaders(train_loader, val_loader, test_loader, filename='dataloaders.pth'):\n",
    "    dataloaders = {\n",
    "        'train_loader': train_loader,\n",
    "        'val_loader': val_loader,\n",
    "        'test_loader': test_loader\n",
    "    }\n",
    "    torch.save(dataloaders, filename)\n",
    "    print(f\"Dataloaders saved to {filename}\")\n",
    "\n",
    "save_dataloaders(train_loader, val_loader, test_loader)"
   ]
  },
  {
   "cell_type": "markdown",
   "id": "049a6eb0",
   "metadata": {},
   "source": [
    "## Train model"
   ]
  },
  {
   "cell_type": "markdown",
   "id": "e9da9dbc",
   "metadata": {},
   "source": [
    "### Load model and dataloaders"
   ]
  },
  {
   "cell_type": "code",
   "execution_count": null,
   "id": "91358251",
   "metadata": {},
   "outputs": [],
   "source": [
    "model = get_deeplabv3_model(NUM_CLASSES)\n",
    "\n",
    "dataloaders = torch.load('dataloaders.pth')\n",
    "train_loader = dataloaders['train_loader']\n",
    "val_loader = dataloaders['val_loader']"
   ]
  },
  {
   "cell_type": "markdown",
   "id": "e41df9d2",
   "metadata": {},
   "source": [
    "### Train DeepLabV3 model"
   ]
  },
  {
   "cell_type": "code",
   "execution_count": null,
   "id": "27bc6844",
   "metadata": {},
   "outputs": [],
   "source": [
    "def train_deeplabv3(model, train_loader, val_loader, num_epochs=100, lr=1e-4, device='cuda', patience=10):\n",
    "    model = model.to(device)\n",
    "    criterion = nn.CrossEntropyLoss()\n",
    "    optimizer = optim.Adam(model.parameters(), lr=lr)\n",
    "\n",
    "    best_val_loss = float('inf')\n",
    "    best_model_state = None\n",
    "    epochs_without_improvement = 0\n",
    "\n",
    "    for epoch in range(num_epochs):\n",
    "        # -------------------\n",
    "        # Training\n",
    "        # -------------------\n",
    "        model.train()\n",
    "        running_train_loss = 0.0\n",
    "        progress_bar = tqdm(train_loader, desc=f\"Epoch {epoch+1}/{num_epochs} - Training\")\n",
    "\n",
    "        for images, masks in progress_bar:\n",
    "            images = images.to(device)\n",
    "            masks = masks.to(device).long()\n",
    "\n",
    "            optimizer.zero_grad()\n",
    "            outputs = model(images)['out']\n",
    "            loss = criterion(outputs, masks)\n",
    "            loss.backward()\n",
    "            optimizer.step()\n",
    "\n",
    "            running_train_loss += loss.item() * images.size(0)\n",
    "            progress_bar.set_postfix({\"train_loss\": f\"{loss.item():.4f}\"})\n",
    "\n",
    "        epoch_train_loss = running_train_loss / len(train_loader.dataset)\n",
    "\n",
    "        # -------------------\n",
    "        # Validation\n",
    "        # -------------------\n",
    "        model.eval()\n",
    "        running_val_loss = 0.0\n",
    "\n",
    "        with torch.no_grad():\n",
    "            for images, masks in val_loader:\n",
    "                images = images.to(device)\n",
    "                masks = masks.to(device).long()\n",
    "\n",
    "                outputs = model(images)['out']\n",
    "                loss = criterion(outputs, masks)\n",
    "                running_val_loss += loss.item() * images.size(0)\n",
    "\n",
    "        epoch_val_loss = running_val_loss / len(val_loader.dataset)\n",
    "        print(f\"Epoch [{epoch+1}/{num_epochs}], Train Loss: {epoch_train_loss:.4f}, Val Loss: {epoch_val_loss:.4f}\")\n",
    "\n",
    "        # -------------------\n",
    "        # Early stopping\n",
    "        # -------------------\n",
    "        if epoch_val_loss < best_val_loss:\n",
    "            best_val_loss = epoch_val_loss\n",
    "            best_model_state = model.state_dict()\n",
    "            epochs_without_improvement = 0\n",
    "        else:\n",
    "            epochs_without_improvement += 1\n",
    "\n",
    "        if epochs_without_improvement >= patience:\n",
    "            print(f\"Early stopping triggered after {epoch+1} epochs.\")\n",
    "            break\n",
    "\n",
    "    # -------------------\n",
    "    # Salve the best model\n",
    "    # -------------------\n",
    "    if best_model_state is not None:\n",
    "        torch.save(best_model_state, 'best_deeplabv3_model.pth')\n",
    "        print(\"Best model saved with validation loss:\", best_val_loss)\n",
    "\n",
    "    print(\"Training complete.\")\n",
    "\n",
    "train_deeplabv3(model, train_loader, val_loader, num_epochs=100, lr=1e-4, device=DEVICE, patience=10)"
   ]
  },
  {
   "cell_type": "markdown",
   "id": "2c26895f",
   "metadata": {},
   "source": [
    "## Test model"
   ]
  },
  {
   "cell_type": "markdown",
   "id": "fed539f3",
   "metadata": {},
   "source": [
    "### Load  model and dataloaders"
   ]
  },
  {
   "cell_type": "code",
   "execution_count": 4,
   "id": "afcf56c0",
   "metadata": {},
   "outputs": [
    {
     "name": "stderr",
     "output_type": "stream",
     "text": [
      "/tmp/ipykernel_394127/1401991351.py:2: FutureWarning: You are using `torch.load` with `weights_only=False` (the current default value), which uses the default pickle module implicitly. It is possible to construct malicious pickle data which will execute arbitrary code during unpickling (See https://github.com/pytorch/pytorch/blob/main/SECURITY.md#untrusted-models for more details). In a future release, the default value for `weights_only` will be flipped to `True`. This limits the functions that could be executed during unpickling. Arbitrary objects will no longer be allowed to be loaded via this mode unless they are explicitly allowlisted by the user via `torch.serialization.add_safe_globals`. We recommend you start setting `weights_only=True` for any use case where you don't have full control of the loaded file. Please open an issue on GitHub for any issues related to this experimental feature.\n",
      "  model.load_state_dict(torch.load('best_deeplabv3_model.pth'))\n",
      "/tmp/ipykernel_394127/1401991351.py:6: FutureWarning: You are using `torch.load` with `weights_only=False` (the current default value), which uses the default pickle module implicitly. It is possible to construct malicious pickle data which will execute arbitrary code during unpickling (See https://github.com/pytorch/pytorch/blob/main/SECURITY.md#untrusted-models for more details). In a future release, the default value for `weights_only` will be flipped to `True`. This limits the functions that could be executed during unpickling. Arbitrary objects will no longer be allowed to be loaded via this mode unless they are explicitly allowlisted by the user via `torch.serialization.add_safe_globals`. We recommend you start setting `weights_only=True` for any use case where you don't have full control of the loaded file. Please open an issue on GitHub for any issues related to this experimental feature.\n",
      "  dataloaders = torch.load('dataloaders.pth')\n"
     ]
    }
   ],
   "source": [
    "model = get_deeplabv3_model(NUM_CLASSES)\n",
    "model.load_state_dict(torch.load('best_deeplabv3_model.pth'))\n",
    "model = model.to(DEVICE)\n",
    "model.eval()\n",
    "\n",
    "dataloaders = torch.load('dataloaders.pth')\n",
    "test_loader = dataloaders['test_loader']"
   ]
  },
  {
   "cell_type": "markdown",
   "id": "72cd7a54",
   "metadata": {},
   "source": [
    "### Calculate Metrics"
   ]
  },
  {
   "cell_type": "code",
   "execution_count": null,
   "id": "49f0540c",
   "metadata": {},
   "outputs": [
    {
     "name": "stdout",
     "output_type": "stream",
     "text": [
      "0-Background - Average Precision: 0.9908\n",
      "1-Pinus - Average Precision: 0.0808\n",
      "2-Eucalyptus - Average Precision: 0.7450\n",
      "\n",
      "Mean Average Precision (mAP): 0.6055\n"
     ]
    },
    {
     "data": {
      "image/png": "[encoded data removed]",
      "text/plain": [
       "<Figure size 500x500 with 1 Axes>"
      ]
     },
     "metadata": {},
     "output_type": "display_data"
    }
   ],
   "source": [
    "from sklearn.metrics import average_precision_score\n",
    "import numpy as np\n",
    "import torch\n",
    "\n",
    "class_names = ['0-Background', '1-Pinus', '2-Eucalyptus']\n",
    "\n",
    "def compute_average_precision_per_class(model, dataloader, num_classes, device='cuda'):\n",
    "    model.eval()\n",
    "    all_labels = [[] for _ in range(num_classes)]\n",
    "    all_probs = [[] for _ in range(num_classes)]\n",
    "\n",
    "    with torch.no_grad():\n",
    "        for images, masks in dataloader:\n",
    "            images = images.to(device)\n",
    "            masks = masks.to(device).long()\n",
    "            outputs = model(images)['out']\n",
    "            probs = torch.softmax(outputs, dim=1).cpu()\n",
    "            masks = masks.cpu()\n",
    "\n",
    "            for c in range(num_classes):\n",
    "                true_c = (masks == c).float().reshape(-1).numpy()\n",
    "                prob_c = probs[:, c, :, :].reshape(-1).numpy()\n",
    "                all_labels[c].extend(true_c)\n",
    "                all_probs[c].extend(prob_c)\n",
    "\n",
    "    ap_per_class = []\n",
    "    for c in range(num_classes):\n",
    "        if len(np.unique(all_labels[c])) < 2:\n",
    "            ap = float('nan') \n",
    "        else:\n",
    "            ap = average_precision_score(all_labels[c], all_probs[c])\n",
    "        ap_per_class.append(ap)\n",
    "\n",
    "    mean_ap = np.nanmean(ap_per_class)\n",
    "    return ap_per_class, mean_ap\n",
    "\n",
    "ap_per_class, mean_ap = compute_average_precision_per_class(model, test_loader, num_classes=3, device='cuda')\n",
    "\n",
    "for name, ap in zip(class_names, ap_per_class):\n",
    "    print(f\"{name} - Average Precision: {ap:.4f}\")\n",
    "print(f\"\\nMean Average Precision (mAP): {mean_ap:.4f}\")\n",
    "\n",
    "plt.figure(figsize=(5, 5))\n",
    "bars = plt.bar(class_names, ap_per_class, width=0.4)\n",
    "\n",
    "for bar, ap in zip(bars, ap_per_class):\n",
    "    height = bar.get_height()\n",
    "    plt.text(bar.get_x() + bar.get_width()/2.0, height + 0.01, f'{ap:.2f}', ha='center', va='bottom')\n",
    "\n",
    "plt.ylim(0, 1.05)\n",
    "plt.axhline(mean_ap, color='red', linestyle='--', label=f'mAP = {mean_ap:.2f}')\n",
    "plt.title('Average Precision by Class')\n",
    "plt.ylabel('AP')\n",
    "plt.legend()\n",
    "plt.tight_layout()\n",
    "plt.show()"
   ]
  },
  {
   "cell_type": "markdown",
   "id": "3a5c6407",
   "metadata": {},
   "source": [
    "## Imprecise Probability"
   ]
  },
  {
   "cell_type": "markdown",
   "id": "5ad01c14",
   "metadata": {},
   "source": [
    "### Obtain likelihoods"
   ]
  },
  {
   "cell_type": "code",
   "execution_count": 10,
   "id": "d9cfcaf8",
   "metadata": {},
   "outputs": [
    {
     "name": "stderr",
     "output_type": "stream",
     "text": [
      "/tmp/ipykernel_75296/1508212436.py:2: FutureWarning: You are using `torch.load` with `weights_only=False` (the current default value), which uses the default pickle module implicitly. It is possible to construct malicious pickle data which will execute arbitrary code during unpickling (See https://github.com/pytorch/pytorch/blob/main/SECURITY.md#untrusted-models for more details). In a future release, the default value for `weights_only` will be flipped to `True`. This limits the functions that could be executed during unpickling. Arbitrary objects will no longer be allowed to be loaded via this mode unless they are explicitly allowlisted by the user via `torch.serialization.add_safe_globals`. We recommend you start setting `weights_only=True` for any use case where you don't have full control of the loaded file. Please open an issue on GitHub for any issues related to this experimental feature.\n",
      "  model.load_state_dict(torch.load('best_deeplabv3_model.pth'))\n",
      "/tmp/ipykernel_75296/1508212436.py:6: FutureWarning: You are using `torch.load` with `weights_only=False` (the current default value), which uses the default pickle module implicitly. It is possible to construct malicious pickle data which will execute arbitrary code during unpickling (See https://github.com/pytorch/pytorch/blob/main/SECURITY.md#untrusted-models for more details). In a future release, the default value for `weights_only` will be flipped to `True`. This limits the functions that could be executed during unpickling. Arbitrary objects will no longer be allowed to be loaded via this mode unless they are explicitly allowlisted by the user via `torch.serialization.add_safe_globals`. We recommend you start setting `weights_only=True` for any use case where you don't have full control of the loaded file. Please open an issue on GitHub for any issues related to this experimental feature.\n",
      "  dataloaders = torch.load('dataloaders.pth')\n"
     ]
    },
    {
     "name": "stdout",
     "output_type": "stream",
     "text": [
      "Train likelihoods and masks shape: torch.Size([122, 3, 512, 512]) | torch.Size([122, 512, 512])\n",
      "Validation likelihoods and masks shape: torch.Size([30, 3, 512, 512]) | torch.Size([30, 512, 512])\n",
      "Test likelihoods and masks shape: torch.Size([39, 3, 512, 512]) | torch.Size([39, 512, 512])\n"
     ]
    }
   ],
   "source": [
    "model = get_deeplabv3_model(NUM_CLASSES)\n",
    "model.load_state_dict(torch.load('best_deeplabv3_model.pth'))\n",
    "model = model.to(DEVICE)\n",
    "model.eval()\n",
    "\n",
    "dataloaders = torch.load('dataloaders.pth')\n",
    "train_loader = dataloaders['train_loader']\n",
    "val_loader = dataloaders['val_loader']\n",
    "test_loader = dataloaders['test_loader']\n",
    "\n",
    "def get_likelihoods(model, loader):\n",
    "    all_likelihoods = []\n",
    "    all_masks = []\n",
    "    with torch.no_grad():\n",
    "        for images, mask in loader:\n",
    "            images = images.to(DEVICE)\n",
    "            mask = mask.to(DEVICE).long()\n",
    "            outputs = model(images)['out']\n",
    "            likelihoods = torch.softmax(outputs, dim=1).cpu()\n",
    "            all_likelihoods.append(likelihoods)\n",
    "            all_masks.append(mask.cpu())\n",
    "    \n",
    "    return torch.cat(all_likelihoods, dim=0), torch.cat(all_masks, dim=0)\n",
    "\n",
    "train_likelihoods, train_labels = get_likelihoods(model, train_loader)\n",
    "val_likelihoods, val_labels = get_likelihoods(model, val_loader)\n",
    "test_likelihoods, test_labels = get_likelihoods(model, test_loader)\n",
    "\n",
    "print(f\"Train likelihoods and masks shape: {train_likelihoods.shape} | {train_labels.shape}\")\n",
    "print(f\"Validation likelihoods and masks shape: {val_likelihoods.shape} | {val_labels.shape}\")\n",
    "print(f\"Test likelihoods and masks shape: {test_likelihoods.shape} | {test_labels.shape}\")"
   ]
  },
  {
   "cell_type": "markdown",
   "id": "f9029c48",
   "metadata": {},
   "source": [
    "### Framework"
   ]
  },
  {
   "cell_type": "markdown",
   "id": "0c2a6a2f",
   "metadata": {},
   "source": [
    "#### Metrics"
   ]
  },
  {
   "cell_type": "code",
   "execution_count": 11,
   "id": "d5d951e1",
   "metadata": {},
   "outputs": [],
   "source": [
    "class Metrics:\n",
    "\n",
    "    def flatten_probs_labels(probs, labels):\n",
    "        N, C, H, W = probs.shape\n",
    "        probs_flat = probs.permute(0, 2, 3, 1).reshape(-1, C)  # (N*H*W, C)\n",
    "        labels_flat = labels.view(-1)  # (N*H*W,)\n",
    "        return probs_flat, labels_flat\n",
    "\n",
    "    def compute_average_precision(probs, labels, num_classes=3):\n",
    "        probs_flat, labels_flat = Metrics.flatten_probs_labels(probs, labels)\n",
    "        AP_per_class = []\n",
    "\n",
    "        for c in range(num_classes):\n",
    "            # True binary labels for class c (1 if pixel == c, 0 otherwise)\n",
    "            true_binary = (labels_flat == c).cpu().numpy()\n",
    "            # Probabilities for class c\n",
    "            prob_c = probs_flat[:, c].cpu().numpy()\n",
    "\n",
    "            if np.sum(true_binary) == 0:\n",
    "                AP_per_class.append(np.nan)  # No positive samples, skip\n",
    "            else:\n",
    "                AP = average_precision_score(true_binary, prob_c)\n",
    "                AP_per_class.append(AP)\n",
    "\n",
    "        # Mean AP (mAP), ignoring NaNs\n",
    "        mAP = np.nanmean(AP_per_class)\n",
    "        return AP_per_class, mAP\n",
    "\n",
    "    def compute_ece(probs, labels, num_bins=10):\n",
    "        # Convert to numpy\n",
    "        probs_flat, labels_flat = Metrics.flatten_probs_labels(probs, labels)\n",
    "        confidences, predictions = torch.max(probs_flat, dim=1)\n",
    "        confidences = confidences.cpu().numpy()\n",
    "        predictions = predictions.cpu().numpy()\n",
    "        labels_flat = labels_flat.cpu().numpy()\n",
    "\n",
    "        bin_boundaries = np.linspace(0.0, 1.0, num_bins + 1)\n",
    "        ece = 0.0\n",
    "\n",
    "        for i in range(num_bins):\n",
    "            bin_lower = bin_boundaries[i]\n",
    "            bin_upper = bin_boundaries[i + 1]\n",
    "\n",
    "            in_bin = (confidences > bin_lower) & (confidences <= bin_upper)\n",
    "            prop_in_bin = np.mean(in_bin)\n",
    "\n",
    "            if prop_in_bin > 0:\n",
    "                accuracy_in_bin = np.mean(predictions[in_bin] == labels_flat[in_bin])\n",
    "                avg_confidence_in_bin = np.mean(confidences[in_bin])\n",
    "                ece += np.abs(avg_confidence_in_bin - accuracy_in_bin) * prop_in_bin\n",
    "\n",
    "        return ece\n",
    "\n",
    "    def calculate_coverage(probs, thresholds):\n",
    "        # Create confident mask: True if prob > threshold for each class\n",
    "        confident_mask = torch.zeros_like(probs, dtype=torch.bool)\n",
    "        for c in range(probs.shape[1]):\n",
    "            confident_mask[:, c, :, :] = probs[:, c, :, :] > thresholds[c]\n",
    "        # A pixel is certain if at least one class is confident\n",
    "        certain_pixels = confident_mask.max(dim=1).values  # (N, H, W)\n",
    "        coverage = float(certain_pixels.sum().item()) / certain_pixels.numel()\n",
    "        return coverage\n",
    "    \n",
    "    def print_metrics(probs, labels, thresholds, name=None):\n",
    "        APs, mAP = Metrics.compute_average_precision(probs, labels)\n",
    "        ece = Metrics.compute_ece(probs, labels)\n",
    "        coverage = Metrics.calculate_coverage(probs, thresholds)\n",
    "\n",
    "        print(f\"\\n=== {name} ===\")\n",
    "        print(\"Average Precision per class:\", [f\"{ap:.4f}\" if ap is not None and not np.isnan(ap) else \"nan\" for ap in APs])\n",
    "        print(\"Mean Average Precision (mAP):\", f\"{mAP:.4f}\")\n",
    "        print(\"Expected Calibration Error (ECE):\", f\"{ece:.4f}\")\n",
    "        print(\"Coverage (proportion of certain pixels):\", f\"{coverage:.4f}\")\n",
    "\n",
    "    def plot_segmentation_comparison_with_uncertainty(images, masks, preds_baseline, preds_imprecise, image_idx=0, ignore_class=255):\n",
    "        img = images[image_idx][:3].permute(1, 2, 0).cpu().numpy()\n",
    "        img = (img - img.min()) / (img.max() - img.min())\n",
    "\n",
    "        gt = masks[image_idx].cpu().numpy()\n",
    "        base = preds_baseline[image_idx].cpu().numpy()\n",
    "        cons = preds_imprecise[image_idx].cpu().numpy()\n",
    "\n",
    "        cons_vis = cons.copy()\n",
    "        cons_vis[cons_vis == ignore_class] = -1  \n",
    "        \n",
    "        # Plot\n",
    "        fig, axs = plt.subplots(1, 4, figsize=(24, 5))\n",
    "        axs[0].imshow(img)\n",
    "        axs[0].set_title(\"Original Image\")\n",
    "        axs[1].imshow(gt, cmap='gray')\n",
    "        axs[1].set_title(\"Ground Truth\")\n",
    "        axs[2].imshow(base, cmap='gray')\n",
    "        axs[2].set_title(\"Baseline Prediction\")\n",
    "        axs[3].imshow(cons_vis, cmap='gray')\n",
    "        axs[3].set_title(\"Prediction with Imprecise Probabilities\")\n",
    "        for ax in axs:\n",
    "            ax.axis('off')\n",
    "        plt.tight_layout()\n",
    "        plt.show()\n",
    "\n",
    "    def compute_metrics_certain_pixels(probs, labels, confident_mask, num_classes=3):\n",
    "        # A pixel is certain if at least one class is confident\n",
    "        certain_pixels = confident_mask.max(dim=1).values.bool()  # (N, H, W)\n",
    "        \n",
    "        # Flatten everything\n",
    "        N, C, H, W = probs.shape\n",
    "        probs_flat = probs.permute(0, 2, 3, 1).reshape(-1, C)\n",
    "        labels_flat = labels.view(-1)\n",
    "        certain_flat = certain_pixels.view(-1)\n",
    "        \n",
    "        # Filter only certain pixels\n",
    "        probs_certain = probs_flat[certain_flat]\n",
    "        labels_certain = labels_flat[certain_flat]\n",
    "        \n",
    "        # Coverage: proportion of certain pixels\n",
    "        coverage = float(certain_flat.sum().item()) / certain_flat.numel()\n",
    "        \n",
    "        # If no certain pixels, return NaN\n",
    "        if probs_certain.shape[0] == 0:\n",
    "            return [float('nan')] * num_classes, float('nan'), float('nan'), 0.0\n",
    "        \n",
    "        # Average Precision\n",
    "        AP_per_class = []\n",
    "        for c in range(num_classes):\n",
    "            true_binary = (labels_certain == c).cpu().numpy()\n",
    "            prob_c = probs_certain[:, c].cpu().numpy()\n",
    "            if np.sum(true_binary) == 0:\n",
    "                AP_per_class.append(np.nan)\n",
    "            else:\n",
    "                AP = average_precision_score(true_binary, prob_c)\n",
    "                AP_per_class.append(AP)\n",
    "        mAP = np.nanmean(AP_per_class)\n",
    "        \n",
    "        # ECE\n",
    "        confidences = probs_certain.max(dim=1).values.cpu().numpy()\n",
    "        predictions = probs_certain.argmax(dim=1).cpu().numpy()\n",
    "        labels_certain_np = labels_certain.cpu().numpy()\n",
    "        num_bins = 10\n",
    "        bin_boundaries = np.linspace(0.0, 1.0, num_bins + 1)\n",
    "        ece = 0.0\n",
    "        for i in range(num_bins):\n",
    "            bin_lower = bin_boundaries[i]\n",
    "            bin_upper = bin_boundaries[i + 1]\n",
    "            in_bin = (confidences > bin_lower) & (confidences <= bin_upper)\n",
    "            prop_in_bin = np.mean(in_bin)\n",
    "            if prop_in_bin > 0:\n",
    "                accuracy_in_bin = np.mean(predictions[in_bin] == labels_certain_np[in_bin])\n",
    "                avg_confidence_in_bin = np.mean(confidences[in_bin])\n",
    "                ece += np.abs(avg_confidence_in_bin - accuracy_in_bin) * prop_in_bin\n",
    "\n",
    "        print(f\"\\n=== Imprecise Probability Approach Metrics for Certain Pixels ===\")\n",
    "        print(\"Average Precision per class:\", [f\"{ap:.4f}\" if ap is not None and not np.isnan(ap) else \"nan\" for ap in AP_per_class])\n",
    "        print(\"Mean Average Precision (mAP):\", f\"{mAP:.4f}\")\n",
    "        print(\"Expected Calibration Error (ECE):\", f\"{ece:.4f}\")\n",
    "        print(\"Coverage (proportion of certain pixels):\", f\"{coverage:.4f}\")"
   ]
  },
  {
   "cell_type": "markdown",
   "id": "e9490d28",
   "metadata": {},
   "source": [
    "#### Imprecise Probability"
   ]
  },
  {
   "cell_type": "code",
   "execution_count": 12,
   "id": "a154bf00",
   "metadata": {},
   "outputs": [],
   "source": [
    "class ImpreciseProbsframe:\n",
    "\n",
    "    def obtain_lower_bound(probs, alpha=0.1, eps=1e-6):\n",
    "        entropy = -torch.sum(probs * torch.log(probs + eps), dim=1)  # (N, H, W)\n",
    "        lower_bound = (probs - alpha * entropy.unsqueeze(1)).clamp(0, 1)       # (N, C, H, W)\n",
    "        return lower_bound\n",
    "\n",
    "    def plot_lower_bound_distribution(lower_bound, labels, sample_size=10000):\n",
    "        N, C, H, W = lower_bound.shape\n",
    "        plt.figure(figsize=(8, 4))\n",
    "\n",
    "        for c in range(C):\n",
    "            mask = (labels == c).unsqueeze(1)  # shape: (N, 1, H, W)\n",
    "            lower_c = lower_bound[:, c, :, :][mask.squeeze(1)]\n",
    "\n",
    "            if lower_c.numel() > sample_size:\n",
    "                indices = torch.randperm(lower_c.numel())[:sample_size]\n",
    "                lower_c = lower_c[indices]\n",
    "\n",
    "            sns.kdeplot(lower_c.cpu().numpy(), label=f'Classe {c}', linewidth=2)\n",
    "\n",
    "        plt.title(\"Distribution of Lower Bounds by Class\")\n",
    "        plt.xlabel(\"Lower Bound\")\n",
    "        plt.ylabel(\"Estimated Density\")\n",
    "        plt.legend()\n",
    "        plt.xticks(np.arange(0, 1.1, 0.1)) \n",
    "        plt.grid(True)\n",
    "        plt.show()\n",
    "\n",
    "    def obtain_confident_values(lower_bound, thresholds):\n",
    "        num_classes = lower_bound.shape[1]\n",
    "        confident_mask = torch.zeros_like(lower_bound, dtype=torch.bool)\n",
    "\n",
    "        for c in range(num_classes):\n",
    "            confident_mask[:, c, :, :] = lower_bound[:, c, :, :] > thresholds[c]\n",
    "\n",
    "        confident_probs = confident_mask.float() * lower_bound\n",
    "\n",
    "        confident_preds = confident_probs.argmax(dim=1)\n",
    "        is_uncertain = confident_mask.max(dim=1).values == 0\n",
    "        confident_preds[is_uncertain] = 255  # 255 for uncertain pixels\n",
    "\n",
    "        return confident_preds, confident_probs, confident_mask\n",
    "    \n",
    "    def fill_uncertain_probs_with_baseline(confident_values, confident_mask, baseline_probs):\n",
    "        # Create a mask of uncertain pixels (1 if all classes are uncertain)\n",
    "        uncertain_mask = confident_mask.max(dim=1).values == 0  # (N, H, W)\n",
    "\n",
    "        # Start with confident_values, but baseline_probs will overwrite uncertain pixels\n",
    "        final_probs = confident_values.clone()\n",
    "\n",
    "        # For uncertain pixels, fill with baseline_probs\n",
    "        for c in range(final_probs.shape[1]):\n",
    "            final_probs[:, c, :, :][uncertain_mask] = baseline_probs[:, c, :, :][uncertain_mask]\n",
    "\n",
    "        # Final predictions (argmax)\n",
    "        pred_filled = final_probs.argmax(dim=1)\n",
    "        return final_probs, pred_filled"
   ]
  },
  {
   "cell_type": "markdown",
   "id": "e1dda7db",
   "metadata": {},
   "source": [
    "#### Quartile Approach"
   ]
  },
  {
   "cell_type": "code",
   "execution_count": 13,
   "id": "e4adfef3",
   "metadata": {},
   "outputs": [],
   "source": [
    "class QuartileApproach:\n",
    "\n",
    "    def thresholds_from_lower_percentile(lower_bound, labels, quartile, max_samples=100_000):\n",
    "        N, C, H, W = lower_bound.shape\n",
    "\n",
    "        thresholds = []\n",
    "        for c in range(C):\n",
    "            mask = (labels == c).unsqueeze(1)  # shape: (N, 1, H, W)\n",
    "            lower_c = lower_bound[:, c, :, :][mask.squeeze(1)]\n",
    "\n",
    "            if lower_c.numel() == 0:\n",
    "                thresholds.append(0.5)  # fallback\n",
    "            else:\n",
    "                if lower_c.numel() > max_samples:\n",
    "                    indices = torch.randperm(lower_c.numel())[:max_samples]\n",
    "                    lower_c = lower_c[indices]\n",
    "                \n",
    "                    if f'class{c}' in quartile:\n",
    "                        q = quartile[f'class{c}']\n",
    "                        \n",
    "                threshold = torch.quantile(lower_c, q).item()\n",
    "                thresholds.append(threshold)\n",
    "        return thresholds\n",
    "\n",
    "    def optimize_quartiles(cal_lower_bound, cal_gt_masks, cal_probs, num_folds=3, quartile_range=[0.25, 0.5, 0.75], num_classes=3):\n",
    "        N = cal_lower_bound.shape[0]\n",
    "        indices = np.arange(N)\n",
    "        np.random.shuffle(indices)\n",
    "        fold_size = N // num_folds\n",
    "\n",
    "        best_quartiles = {}\n",
    "        best_score = -float('inf')\n",
    "\n",
    "        quartile_combinations = list(product(quartile_range, repeat=num_classes))\n",
    "\n",
    "        def evaluate_quartile_combo(combo):\n",
    "            quartile = {f'class{c}': combo[c] for c in range(num_classes)}\n",
    "            scores = []\n",
    "            for fold in range(num_folds):\n",
    "                val_indices = indices[fold * fold_size:(fold + 1) * fold_size]\n",
    "                train_indices = np.setdiff1d(indices, val_indices)\n",
    "\n",
    "                train_lower_bound = cal_lower_bound[train_indices]\n",
    "                train_gt_masks = cal_gt_masks[train_indices]\n",
    "                thresholds = QuartileApproach.thresholds_from_lower_percentile(train_lower_bound, train_gt_masks, quartile)\n",
    "\n",
    "                val_lower_bound = cal_lower_bound[val_indices]\n",
    "                val_gt_masks = cal_gt_masks[val_indices]\n",
    "                val_probs = cal_probs[val_indices]\n",
    "\n",
    "                _, confident_values, confident_mask = ImpreciseProbsframe.obtain_confident_values(val_lower_bound, thresholds)\n",
    "                final_probs, _ = ImpreciseProbsframe.fill_uncertain_probs_with_baseline(confident_values, confident_mask, val_probs)\n",
    "\n",
    "                _, mAP = Metrics.compute_average_precision(final_probs, val_gt_masks, num_classes=num_classes)\n",
    "                ece = Metrics.compute_ece(final_probs, val_gt_masks)\n",
    "\n",
    "                score = mAP - ece\n",
    "                scores.append(score)\n",
    "            avg_score = np.mean(scores)\n",
    "            return avg_score, quartile\n",
    "\n",
    "        with concurrent.futures.ThreadPoolExecutor() as executor:\n",
    "            results = list(executor.map(evaluate_quartile_combo, quartile_combinations))\n",
    "\n",
    "        for avg_score, quartile in results:\n",
    "            if avg_score > best_score:\n",
    "                best_score = avg_score\n",
    "                best_quartiles = quartile.copy()\n",
    "\n",
    "        return best_quartiles\n",
    "    "
   ]
  },
  {
   "cell_type": "markdown",
   "id": "707bf71d",
   "metadata": {},
   "source": [
    "#### CRF"
   ]
  },
  {
   "cell_type": "code",
   "execution_count": 14,
   "id": "5d30aa5d",
   "metadata": {},
   "outputs": [],
   "source": [
    "class CRFApproach:\n",
    "    def __init__(self, labels, probs, num_classes):\n",
    "        self.labels = labels  # shape (N, H, W)\n",
    "        self.probs = probs    # shape (N, C, H, W)\n",
    "        self.num_classes = num_classes\n",
    "    \n",
    "    def _apply_crf_refinement(self, prob_unary, sxy_gaussian, compat_gaussian, iterations=10, epsilon=1e-8):\n",
    "        C, H, W = prob_unary.shape\n",
    "        d = dcrf.DenseCRF2D(W, H, C)\n",
    "\n",
    "        unary = -np.log(prob_unary + epsilon).reshape(C, -1).astype(np.float32)\n",
    "        d.setUnaryEnergy(unary)\n",
    "\n",
    "        d.addPairwiseGaussian(sxy=sxy_gaussian, compat=compat_gaussian)\n",
    "        Q = d.inference(iterations)\n",
    "        refined_probs = np.array(Q).reshape((C, H, W))\n",
    "        return refined_probs\n",
    "\n",
    "    def _objective(self, trial):\n",
    "        sxy_gaussian = trial.suggest_categorical(\"sxy_gaussian\", [1, 3, 5])\n",
    "        compat_gaussian = trial.suggest_float(\"compat_gaussian\", 1, 5)\n",
    "        return self._crf_loss([sxy_gaussian, compat_gaussian])\n",
    "\n",
    "    def _crf_loss(self, params):\n",
    "        n_samples = self.probs.shape[0]\n",
    "        sxy_gaussian, compat_gaussian = params\n",
    "        all_probs = []\n",
    "        all_labels = []\n",
    "\n",
    "        for i in range(n_samples):\n",
    "            prob = self.probs[i].numpy()  # (C, H, W)\n",
    "            label = self.labels[i].numpy()  # (H, W)\n",
    "\n",
    "            like_map = self._apply_crf_refinement(prob, sxy_gaussian, compat_gaussian)  # (C, H, W)\n",
    "\n",
    "            all_probs.append(torch.tensor(like_map))\n",
    "            all_labels.append(torch.tensor(label))\n",
    "\n",
    "        all_probs = torch.stack(all_probs)  # (N, C, H, W)\n",
    "        all_labels = torch.stack(all_labels)  # (N, H, W)\n",
    "\n",
    "        _, mAP = self._compute_average_precision(all_probs, all_labels, num_classes=self.num_classes)\n",
    "        return 1.0 - mAP \n",
    "    \n",
    "    def _compute_average_precision(self, probs, labels, num_classes=3):\n",
    "        probs_flat, labels_flat = Metrics.flatten_probs_labels(probs, labels)\n",
    "        AP_per_class = []\n",
    "\n",
    "        for c in range(num_classes):\n",
    "            true_binary = (labels_flat == c).cpu().numpy()\n",
    "            prob_c = probs_flat[:, c].cpu().numpy()\n",
    "\n",
    "            if np.sum(true_binary) == 0:\n",
    "                AP_per_class.append(np.nan) \n",
    "            else:\n",
    "                AP = average_precision_score(true_binary, prob_c)\n",
    "                AP_per_class.append(AP)\n",
    "\n",
    "        mAP = np.nanmean(AP_per_class)\n",
    "        return AP_per_class, mAP\n",
    "    \n",
    "    def fit(self, n_trials=10):\n",
    "        study = optuna.create_study(direction=\"minimize\")\n",
    "        study.optimize(self._objective, n_trials=n_trials)\n",
    "        self.best_params = study.best_params\n",
    "\n",
    "    def inference(self, probs_inf, confident_mask, confident_values):\n",
    "        n_samples = probs_inf.shape[0]\n",
    "        sxy = int(self.best_params[\"sxy_gaussian\"])\n",
    "        compat = float(self.best_params[\"compat_gaussian\"])\n",
    "        C, H, W = probs_inf.shape[1:]\n",
    "\n",
    "        final_probs = []\n",
    "\n",
    "        for i in range(n_samples):\n",
    "            prob = probs_inf[i].numpy()  # (C, H, W)\n",
    "            conf_mask = confident_mask[i].numpy()  # (C, H, W)\n",
    "\n",
    "            uncertain_pixels = ~conf_mask.any(axis=0)  # (H, W)\n",
    "\n",
    "            if not np.any(uncertain_pixels):\n",
    "                final_probs.append(confident_values[i])\n",
    "                continue\n",
    "\n",
    "            crf_refined = self._apply_crf_refinement(prob, sxy, compat)  # (C, H, W)\n",
    "\n",
    "            filled = confident_values[i].clone().numpy()\n",
    "\n",
    "            for c in range(C):\n",
    "                filled[c][uncertain_pixels] = crf_refined[c][uncertain_pixels]\n",
    "\n",
    "            final_probs.append(torch.tensor(filled))\n",
    "\n",
    "        final_probs = torch.stack(final_probs)  # (N, C, H, W)\n",
    "        pred = final_probs.argmax(dim=1)  # (N, H, W)\n",
    "        return final_probs, pred\n"
   ]
  },
  {
   "cell_type": "markdown",
   "id": "5248f8b4",
   "metadata": {},
   "source": [
    "### Use the Frameworks"
   ]
  },
  {
   "cell_type": "markdown",
   "id": "564a7a02",
   "metadata": {},
   "source": [
    "#### Plot of Lower Bounds"
   ]
  },
  {
   "cell_type": "code",
   "execution_count": 15,
   "id": "00f81eec",
   "metadata": {},
   "outputs": [
    {
     "data": {
      "image/png": "[encoded data removed]",
      "text/plain": [
       "<Figure size 800x400 with 1 Axes>"
      ]
     },
     "metadata": {},
     "output_type": "display_data"
    }
   ],
   "source": [
    "val_lower_bound = ImpreciseProbsframe.obtain_lower_bound(val_likelihoods)\n",
    "test_lower_bound = ImpreciseProbsframe.obtain_lower_bound(test_likelihoods)\n",
    "\n",
    "ImpreciseProbsframe.plot_lower_bound_distribution(val_lower_bound, val_labels)"
   ]
  },
  {
   "cell_type": "markdown",
   "id": "73704fb0",
   "metadata": {},
   "source": [
    "#### Quartiles and Thresholds"
   ]
  },
  {
   "cell_type": "code",
   "execution_count": null,
   "id": "6fd3d28d",
   "metadata": {},
   "outputs": [
    {
     "name": "stdout",
     "output_type": "stream",
     "text": [
      "Thresholds for each class: ['0.9769', '0.0000', '0.6142']\n"
     ]
    }
   ],
   "source": [
    "optimized_quartiles = QuartileApproach.optimize_quartiles(val_lower_bound, val_labels, val_likelihoods, num_folds=3, quartile_range=[0.25, 0.5, 0.75], num_classes=3)\n",
    "thresholds = QuartileApproach.thresholds_from_lower_percentile(val_lower_bound, val_labels, optimized_quartiles)\n",
    "print(\"Thresholds for each class:\", [f\"{t:.4f}\" for t in thresholds])"
   ]
  },
  {
   "cell_type": "markdown",
   "id": "26d6f970",
   "metadata": {},
   "source": [
    "#### CRF"
   ]
  },
  {
   "cell_type": "code",
   "execution_count": 28,
   "id": "3a7f9ad8",
   "metadata": {},
   "outputs": [
    {
     "name": "stderr",
     "output_type": "stream",
     "text": [
      "[I 2025-07-11 17:52:23,109] A new study created in memory with name: no-name-2d7ba87c-bddf-4e87-b752-f5a6e4b300e4\n",
      "[I 2025-07-11 17:52:32,282] Trial 0 finished with value: 0.3725173004028409 and parameters: {'sxy_gaussian': 5, 'compat_gaussian': 2.714074650953416}. Best is trial 0 with value: 0.3725173004028409.\n",
      "[I 2025-07-11 17:52:41,601] Trial 1 finished with value: 0.3716463500445074 and parameters: {'sxy_gaussian': 3, 'compat_gaussian': 2.2855800804100506}. Best is trial 1 with value: 0.3716463500445074.\n",
      "[I 2025-07-11 17:52:50,953] Trial 2 finished with value: 0.3712962731804583 and parameters: {'sxy_gaussian': 3, 'compat_gaussian': 1.0293240294119812}. Best is trial 2 with value: 0.3712962731804583.\n",
      "[I 2025-07-11 17:53:01,626] Trial 3 finished with value: 0.3714090723705208 and parameters: {'sxy_gaussian': 1, 'compat_gaussian': 3.8541165985549943}. Best is trial 2 with value: 0.3712962731804583.\n",
      "[I 2025-07-11 17:53:12,268] Trial 4 finished with value: 0.3714153832610645 and parameters: {'sxy_gaussian': 1, 'compat_gaussian': 3.930578441185859}. Best is trial 2 with value: 0.3712962731804583.\n",
      "[I 2025-07-11 17:53:21,383] Trial 5 finished with value: 0.37356629383767614 and parameters: {'sxy_gaussian': 5, 'compat_gaussian': 4.616588519782031}. Best is trial 2 with value: 0.3712962731804583.\n",
      "[I 2025-07-11 17:53:30,491] Trial 6 finished with value: 0.37297016373255587 and parameters: {'sxy_gaussian': 5, 'compat_gaussian': 3.5264658682864405}. Best is trial 2 with value: 0.3712962731804583.\n",
      "[I 2025-07-11 17:53:39,807] Trial 7 finished with value: 0.3718634985339401 and parameters: {'sxy_gaussian': 3, 'compat_gaussian': 3.2190905794630216}. Best is trial 2 with value: 0.3712962731804583.\n",
      "[I 2025-07-11 17:53:49,147] Trial 8 finished with value: 0.3714557349515212 and parameters: {'sxy_gaussian': 3, 'compat_gaussian': 1.549430661367575}. Best is trial 2 with value: 0.3712962731804583.\n",
      "[I 2025-07-11 17:53:59,817] Trial 9 finished with value: 0.37145795955748395 and parameters: {'sxy_gaussian': 1, 'compat_gaussian': 4.412414616565911}. Best is trial 2 with value: 0.3712962731804583.\n",
      "[I 2025-07-11 17:54:09,206] Trial 10 finished with value: 0.3712876551596803 and parameters: {'sxy_gaussian': 3, 'compat_gaussian': 1.0034616711906825}. Best is trial 10 with value: 0.3712876551596803.\n",
      "[I 2025-07-11 17:54:18,578] Trial 11 finished with value: 0.3712868271344131 and parameters: {'sxy_gaussian': 3, 'compat_gaussian': 1.000996926820451}. Best is trial 11 with value: 0.3712868271344131.\n",
      "[I 2025-07-11 17:54:27,968] Trial 12 finished with value: 0.3715662248287923 and parameters: {'sxy_gaussian': 3, 'compat_gaussian': 1.960660230028469}. Best is trial 11 with value: 0.3712868271344131.\n",
      "[I 2025-07-11 17:54:37,407] Trial 13 finished with value: 0.3712869010349872 and parameters: {'sxy_gaussian': 3, 'compat_gaussian': 1.0012147828736848}. Best is trial 11 with value: 0.3712868271344131.\n",
      "[I 2025-07-11 17:54:46,821] Trial 14 finished with value: 0.37148121932749356 and parameters: {'sxy_gaussian': 3, 'compat_gaussian': 1.6404822555459757}. Best is trial 11 with value: 0.3712868271344131.\n",
      "[I 2025-07-11 17:54:56,161] Trial 15 finished with value: 0.37171569028804285 and parameters: {'sxy_gaussian': 3, 'compat_gaussian': 2.57920436344003}. Best is trial 11 with value: 0.3712868271344131.\n",
      "[I 2025-07-11 17:55:05,572] Trial 16 finished with value: 0.3714435396525335 and parameters: {'sxy_gaussian': 3, 'compat_gaussian': 1.5066527683086992}. Best is trial 11 with value: 0.3712868271344131.\n",
      "[I 2025-07-11 17:55:14,895] Trial 17 finished with value: 0.3716225144255342 and parameters: {'sxy_gaussian': 3, 'compat_gaussian': 2.1868565789845853}. Best is trial 11 with value: 0.3712868271344131.\n",
      "[I 2025-07-11 17:55:24,178] Trial 18 finished with value: 0.3717488946014941 and parameters: {'sxy_gaussian': 5, 'compat_gaussian': 1.3385063622711466}. Best is trial 11 with value: 0.3712868271344131.\n",
      "[I 2025-07-11 17:55:34,925] Trial 19 finished with value: 0.3712739428957118 and parameters: {'sxy_gaussian': 1, 'compat_gaussian': 1.958961045123052}. Best is trial 19 with value: 0.3712739428957118.\n"
     ]
    }
   ],
   "source": [
    "crf_model = CRFApproach(labels=val_labels, probs=val_likelihoods, num_classes=3)\n",
    "crf_model.fit(n_trials=20)"
   ]
  },
  {
   "cell_type": "markdown",
   "id": "afc6250f",
   "metadata": {},
   "source": [
    "#### Imprecise Probability"
   ]
  },
  {
   "cell_type": "code",
   "execution_count": 29,
   "id": "5bd2cd85",
   "metadata": {},
   "outputs": [],
   "source": [
    "confident_preds, confident_values, confident_mask = ImpreciseProbsframe.obtain_confident_values(test_lower_bound, thresholds)\n",
    "final_probs_crf, pred_crf_filled = crf_model.inference(test_likelihoods, confident_mask, confident_values)"
   ]
  },
  {
   "cell_type": "markdown",
   "id": "02c1f6a9",
   "metadata": {},
   "source": [
    "#### Print Metrics and compare"
   ]
  },
  {
   "cell_type": "code",
   "execution_count": 30,
   "id": "d3d363d9",
   "metadata": {},
   "outputs": [
    {
     "name": "stdout",
     "output_type": "stream",
     "text": [
      "\n",
      "=== Baseline Metrics ===\n",
      "Average Precision per class: ['0.9908', '0.0808', '0.7450']\n",
      "Mean Average Precision (mAP): 0.6055\n",
      "Expected Calibration Error (ECE): 0.0053\n",
      "Coverage (proportion of certain pixels): 1.0000\n",
      "\n",
      "=== Imprecise Probability with CRF Approach Metrics ===\n",
      "Average Precision per class: ['0.9856', '0.0808', '0.7506']\n",
      "Mean Average Precision (mAP): 0.6056\n",
      "Expected Calibration Error (ECE): 0.0154\n",
      "Coverage (proportion of certain pixels): 1.0000\n",
      "\n",
      "=== Imprecise Probability Approach Metrics for Certain Pixels ===\n",
      "Average Precision per class: ['0.9742', '0.1476', '0.7922']\n",
      "Mean Average Precision (mAP): 0.6380\n",
      "Expected Calibration Error (ECE): 0.0158\n",
      "Coverage (proportion of certain pixels): 0.3878\n"
     ]
    }
   ],
   "source": [
    "Metrics.print_metrics(test_likelihoods, test_labels, thresholds, name=\"Baseline Metrics\")\n",
    "Metrics.print_metrics(final_probs_crf, test_labels, thresholds, name=\"Imprecise Probability with CRF Approach Metrics\")\n",
    "Metrics.compute_metrics_certain_pixels(confident_values, test_labels, confident_mask)"
   ]
  }
 ],
 "metadata": {
  "kernelspec": {
   "display_name": "myenv",
   "language": "python",
   "name": "python3"
  },
  "language_info": {
   "codemirror_mode": {
    "name": "ipython",
    "version": 3
   },
   "file_extension": ".py",
   "mimetype": "text/x-python",
   "name": "python",
   "nbconvert_exporter": "python",
   "pygments_lexer": "ipython3",
   "version": "3.11.9"
  }
 },
 "nbformat": 4,
 "nbformat_minor": 5
}
