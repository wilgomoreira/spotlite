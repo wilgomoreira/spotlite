{
 "cells": [
  {
   "cell_type": "markdown",
   "id": "475d89fb",
   "metadata": {},
   "source": [
    "## Essencial Functions and Libraries"
   ]
  },
  {
   "cell_type": "code",
   "execution_count": 1,
   "id": "45965918",
   "metadata": {},
   "outputs": [],
   "source": [
    "import os\n",
    "import numpy as np\n",
    "import pandas as pd\n",
    "import tifffile as tiff\n",
    "from sklearn.ensemble import RandomForestClassifier\n",
    "from sklearn.svm import SVC\n",
    "from sklearn.model_selection import train_test_split\n",
    "from sklearn.metrics import classification_report, confusion_matrix\n",
    "import matplotlib.pyplot as plt\n",
    "import torch\n",
    "from sklearn.model_selection import GridSearchCV\n",
    "from sklearn.neural_network import MLPClassifier\n",
    "from sklearn.preprocessing import StandardScaler\n",
    "from sklearn.pipeline import Pipeline\n",
    "from sklearn.metrics import average_precision_score\n",
    "from sklearn.metrics import f1_score\n"
   ]
  },
  {
   "cell_type": "markdown",
   "id": "01ff89d4",
   "metadata": {},
   "source": [
    "## Read data"
   ]
  },
  {
   "cell_type": "code",
   "execution_count": 2,
   "id": "12af8384",
   "metadata": {},
   "outputs": [
    {
     "name": "stdout",
     "output_type": "stream",
     "text": [
      "Final: 391 pairs loaded.\n",
      "Shape of imgs: (391, 512, 512, 4)\n",
      "Shape of masks: (391, 512, 512)\n"
     ]
    }
   ],
   "source": [
    "from pathlib import Path\n",
    "import numpy as np\n",
    "import tifffile as tiff\n",
    "from difflib import get_close_matches\n",
    "\n",
    "# Main dataset directory\n",
    "dataset_dir = Path('spotlite_dataset_loca1_date1_dir1')\n",
    "\n",
    "images_dir = dataset_dir / 'images'\n",
    "masks_dir = dataset_dir / 'masks'\n",
    "\n",
    "assert images_dir.exists(), f\"Image folder not found: {images_dir}\"\n",
    "assert masks_dir.exists(), f\"Mask folder not found: {masks_dir}\"\n",
    "\n",
    "# Collect all image and mask files (multiple extensions)\n",
    "image_paths = sorted(\n",
    "    [*images_dir.glob('*.tif'), *images_dir.glob('*.tiff')],\n",
    "    key=lambda p: p.stem\n",
    ")\n",
    "mask_paths = sorted(\n",
    "    [*masks_dir.glob('*.tif'), *masks_dir.glob('*.tiff'),\n",
    "     *masks_dir.glob('*.png'), *masks_dir.glob('*.jpg')],\n",
    "    key=lambda p: p.stem\n",
    ")\n",
    "\n",
    "# Dictionary of masks by base name\n",
    "mask_dict = {p.stem: p for p in mask_paths}\n",
    "unused_masks = set(mask_dict.keys())\n",
    "\n",
    "imgs_array, masks_array = [], []\n",
    "\n",
    "for img_path in image_paths:\n",
    "    stem = img_path.stem\n",
    "    mask_path = None\n",
    "\n",
    "    # 1) Exact match\n",
    "    if stem in mask_dict:\n",
    "        mask_path = mask_dict[stem]\n",
    "        unused_masks.discard(stem)\n",
    "    else:\n",
    "        # 2) Approximate match\n",
    "        candidates = get_close_matches(stem, mask_dict.keys(), n=1, cutoff=0.6)\n",
    "        if candidates:\n",
    "            sel = candidates[0]\n",
    "            mask_path = mask_dict[sel]\n",
    "            unused_masks.discard(sel)\n",
    "        else:\n",
    "            # 3) No match found; just notify and skip\n",
    "            print(f\"Warning: no mask found for {img_path.name}; skipping.\")\n",
    "            continue\n",
    "\n",
    "    # Read image and mask\n",
    "    img = tiff.imread(str(img_path))\n",
    "    msk = tiff.imread(str(mask_path))\n",
    "\n",
    "    # Check dimensions\n",
    "    if img.shape[:2] != msk.shape:\n",
    "        raise ValueError(\n",
    "            f\"Incompatible dimensions: {img_path.name} {img.shape[:2]} vs \"\n",
    "            f\"{mask_path.name} {msk.shape}\"\n",
    "        )\n",
    "\n",
    "    imgs_array.append(img)\n",
    "    masks_array.append(msk)\n",
    "\n",
    "# Remaining masks\n",
    "if unused_masks:\n",
    "    print(\"Warning: these masks were not used (no corresponding image):\")\n",
    "    for s in sorted(unused_masks):\n",
    "        print(\"  \", s)\n",
    "\n",
    "# Stack arrays\n",
    "imgs = np.stack(imgs_array, axis=0)   # (N, H, W, C)\n",
    "masks = np.stack(masks_array, axis=0)  # (N, H, W)\n",
    "\n",
    "print(f'Final: {len(imgs)} pairs loaded.')\n",
    "print(f'Shape of imgs: {imgs.shape}')\n",
    "print(f'Shape of masks: {masks.shape}')\n"
   ]
  },
  {
   "cell_type": "markdown",
   "id": "b97f69fc",
   "metadata": {},
   "source": [
    "## Convert labels in masks"
   ]
  },
  {
   "cell_type": "code",
   "execution_count": 3,
   "id": "80d2c2c6",
   "metadata": {},
   "outputs": [
    {
     "name": "stdout",
     "output_type": "stream",
     "text": [
      "Unique labels in masks: [0 1 2 3 4 5]\n"
     ]
    }
   ],
   "source": [
    "# Convert labels in masks from 0, 3, 4 to 0, 1, 2\n",
    "# where 0 is background, 1 is class 1, and 2 is class\n",
    "# def remap_mask(mask):\n",
    "#     if not torch.is_tensor(mask):\n",
    "#         mask = torch.from_numpy(mask)\n",
    "#     remapped = torch.zeros_like(mask)\n",
    "#     remapped[mask == 0] = 0\n",
    "#     remapped[mask == 3] = 1\n",
    "#     remapped[mask == 4] = 2\n",
    "#     return remapped.long()\n",
    "\n",
    "# masks = remap_mask(masks)\n",
    "\n",
    "# print(f'shape of remapped masks: {masks.shape}')\n",
    "\n",
    "np.unique_labels = np.unique(masks)\n",
    "print(f'Unique labels in masks: {np.unique_labels}')"
   ]
  },
  {
   "cell_type": "code",
   "execution_count": null,
   "id": "51c0810e",
   "metadata": {},
   "outputs": [],
   "source": [
    "\n"
   ]
  },
  {
   "cell_type": "markdown",
   "id": "58aa7752",
   "metadata": {},
   "source": [
    "## Extract features and labels"
   ]
  },
  {
   "cell_type": "code",
   "execution_count": 9,
   "id": "adb61850",
   "metadata": {},
   "outputs": [
    {
     "name": "stdout",
     "output_type": "stream",
     "text": [
      "shape of X: (102498304, 13)\n",
      "shape of y: (102498304,)\n"
     ]
    }
   ],
   "source": [
    "from skimage.color import rgb2hsv, rgb2lab\n",
    "\n",
    "N, H, W, C = imgs.shape\n",
    "X = imgs.reshape(-1, C)       # shape = (N*H*W, 4)\n",
    "y = masks.reshape(-1)         # shape = (N*H*W,)\n",
    "\n",
    "# NDVI = (NIR - R) / (NIR + R)\n",
    "# [R, G, B] → check classic visual coupling\n",
    "\n",
    "# [G, NIR, NDVI] → check if NDVI helps separate vegetation\n",
    "# [NDVI, GNDVI, NIR] → check separation by indices\n",
    "# [H, S, V] or [L, A, B] if converted to HSV or LAB\n",
    "\n",
    "R = X[:, 0]\n",
    "G = X[:, 1]\n",
    "B = X[:, 2]\n",
    "NIR = X[:, 3]\n",
    "\n",
    "NDVI = (NIR - R) / (NIR + R + 1e-5)\n",
    "GNDVI = (NIR - G) / (NIR + G + 1e-5)\n",
    "NDWI = (G - NIR) / (G + NIR + 1e-5) \n",
    "\n",
    "# Stack RGB normalized to [0, 1]\n",
    "rgb = np.stack([R, G, B], axis=1).astype(np.float32)\n",
    "rgb_norm = (rgb - rgb.min(0)) / (rgb.max(0) - rgb.min(0) + 1e-5)  # normalization per channel\n",
    "\n",
    "# Convert to HSV and LAB\n",
    "hsv = rgb2hsv(rgb_norm.reshape(-1, 1, 3)).reshape(-1, 3) \n",
    "lab = rgb2lab(rgb_norm.reshape(-1, 1, 3)).reshape(-1, 3)\n",
    "\n",
    "# Decompor HSV\n",
    "Hue = hsv[:, 0]\n",
    "Saturation = hsv[:, 1]\n",
    "Value = hsv[:, 2]\n",
    "\n",
    "# Decompor LAB\n",
    "L = lab[:, 0]\n",
    "A = lab[:, 1]\n",
    "B_lab = lab[:, 2] \n",
    "\n",
    "X = np.stack([\n",
    "    R, G, B,           # 3 canais RGB\n",
    "    NIR,               # 1 canal NIR\n",
    "    NDVI, GNDVI, NDWI,  # 3 índices espectrais\n",
    "    L, A, B_lab,       # 3 canais LAB\n",
    "    Hue, Saturation, Value  # 3 canais HSV\n",
    "], axis=1)  # total: 13 features\n",
    "\n",
    "print(f'shape of X: {X.shape}')\n",
    "print(f'shape of y: {y.shape}')\n",
    "\n",
    "# (Opcional) amostragem para acelerar treino\n",
    "# idx = np.random.choice(len(y), size=100000, replace=False)\n",
    "# X, y = X[idx], y[idx]"
   ]
  },
  {
   "cell_type": "markdown",
   "id": "cabe8217",
   "metadata": {},
   "source": [
    "## Check Inbalance"
   ]
  },
  {
   "cell_type": "code",
   "execution_count": 10,
   "id": "d2422840",
   "metadata": {},
   "outputs": [
    {
     "name": "stdout",
     "output_type": "stream",
     "text": [
      "Classe 0: 95,642,115 pixels (93.31%)\n",
      "Classe 1: 4,364,695 pixels (4.26%)\n",
      "Classe 2: 434,765 pixels (0.42%)\n",
      "Classe 3: 687,567 pixels (0.67%)\n",
      "Classe 4: 1,338,296 pixels (1.31%)\n",
      "Classe 5: 30,866 pixels (0.03%)\n",
      "   class    counts    percent\n",
      "0      0  95642115  93.310924\n",
      "1      1   4364695   4.258309\n",
      "2      2    434765   0.424168\n",
      "3      3    687567   0.670808\n",
      "4      4   1338296   1.305676\n",
      "5      5     30866   0.030114\n"
     ]
    },
    {
     "data": {
      "image/png": "[encoded data removed]",
      "text/plain": [
       "<Figure size 1000x800 with 1 Axes>"
      ]
     },
     "metadata": {},
     "output_type": "display_data"
    }
   ],
   "source": [
    "y = np.array(y)\n",
    "\n",
    "y_flat = y.reshape(-1)\n",
    "total_pixels = y_flat.size\n",
    "classes, counts = np.unique(y_flat, return_counts=True)\n",
    "\n",
    "for cls, ct in zip(classes, counts):\n",
    "    pct = ct / total_pixels * 100\n",
    "    print(f\"Classe {cls}: {ct:,} pixels ({pct:.2f}%)\")\n",
    "\n",
    "df_dist = pd.DataFrame({\n",
    "    \"class\":   classes,\n",
    "    \"counts\":  counts,\n",
    "    \"percent\": counts / total_pixels * 100\n",
    "})\n",
    "print(df_dist)\n",
    "\n",
    "class_names = {\n",
    "    0: \"background\",\n",
    "    1: \"no trees\",\n",
    "    2: \"other trees/vegetation\",\n",
    "    3: \"pinus\",\n",
    "    4: \"eucalyptus\",\n",
    "    5: \"shadow\"  \n",
    "}\n",
    "x_labels = [f\"{cls} – {class_names[cls]}\" for cls in df_dist['class']]\n",
    "\n",
    "fig, ax = plt.subplots(figsize=(10, 8))\n",
    "bars = ax.bar(df_dist['class'], df_dist['counts'])\n",
    "\n",
    "ax.set_ylabel('Number of pixels')\n",
    "ax.set_title('Distribution of classes in the dataset')\n",
    "\n",
    "ax.set_xticks(df_dist['class'])\n",
    "ax.set_xticklabels(x_labels)\n",
    "\n",
    "for bar, pct in zip(bars, df_dist['percent']):\n",
    "    x  = bar.get_x() + bar.get_width()/2\n",
    "    y  = bar.get_height()\n",
    "    ax.text(x, y, f\"{pct:.2f}%\", ha='center', va='bottom')\n",
    "\n",
    "plt.tight_layout()\n",
    "plt.show()"
   ]
  },
  {
   "cell_type": "markdown",
   "id": "65329838",
   "metadata": {},
   "source": [
    "## Split training/testing"
   ]
  },
  {
   "cell_type": "code",
   "execution_count": 11,
   "id": "e8524f73",
   "metadata": {},
   "outputs": [
    {
     "name": "stdout",
     "output_type": "stream",
     "text": [
      "shape of X_train: (76873728, 13)\n",
      "shape of y_train: (76873728,)\n",
      "shape of X_test: (25624576, 13)\n",
      "shape of y_test: (25624576,)\n"
     ]
    }
   ],
   "source": [
    "# Ensure y is the correct array-like object\n",
    "y = masks.reshape(-1)  # Restore y to its original form\n",
    "y = np.array(y)\n",
    "X = np.array(X, dtype=np.float32)\n",
    "\n",
    "X_train, X_test, y_train, y_test = train_test_split(\n",
    "    X, y, test_size=0.25, random_state=42, stratify=y\n",
    ")\n",
    "\n",
    "print(f'shape of X_train: {X_train.shape}')\n",
    "print(f'shape of y_train: {y_train.shape}')\n",
    "print(f'shape of X_test: {X_test.shape}')\n",
    "print(f'shape of y_test: {y_test.shape}')"
   ]
  },
  {
   "cell_type": "markdown",
   "id": "ed0dca5b",
   "metadata": {},
   "source": [
    "### Train Random Forest "
   ]
  },
  {
   "cell_type": "code",
   "execution_count": 12,
   "id": "daa1a046",
   "metadata": {},
   "outputs": [
    {
     "ename": "",
     "evalue": "",
     "output_type": "error",
     "traceback": [
      "\u001b[1;31mThe Kernel crashed while executing code in the current cell or a previous cell. \n",
      "\u001b[1;31mPlease review the code in the cell(s) to identify a possible cause of the failure. \n",
      "\u001b[1;31mClick <a href='https://aka.ms/vscodeJupyterKernelCrash'>here</a> for more info. \n",
      "\u001b[1;31mView Jupyter <a href='command:jupyter.viewOutput'>log</a> for further details."
     ]
    }
   ],
   "source": [
    "from sklearn.ensemble import RandomForestClassifier\n",
    "from sklearn.metrics import classification_report, confusion_matrix\n",
    "from sklearn.metrics import ConfusionMatrixDisplay\n",
    "\n",
    "# ja testei aqui com otimização de hiperparâmetros baysiana, mas deu o mesmo resultado com essa forma simples\n",
    "\n",
    "classe_names = ['background','no trees', 'other trees/vegetation','pinus','eucalyptus', 'shadow']\n",
    "\n",
    "rf = RandomForestClassifier(\n",
    "    n_estimators=20,\n",
    "    max_depth=15,\n",
    "    class_weight='balanced',\n",
    "    n_jobs=-1,\n",
    "    random_state=42\n",
    ")\n",
    "\n",
    "rf.fit(X_train, y_train)\n",
    "y_pred = rf.predict(X_test)\n",
    "\n",
    "print(\"=== Classification Report ===\")\n",
    "print(classification_report(\n",
    "  y_test, y_pred,\n",
    "  target_names=classe_names, digits=4\n",
    "))\n",
    "\n",
    "ConfusionMatrixDisplay.from_predictions(\n",
    "    y_test, y_pred,\n",
    "    normalize='true',\n",
    "    display_labels=classe_names,\n",
    "    values_format='.2f'      \n",
    ")\n"
   ]
  }
 ],
 "metadata": {
  "kernelspec": {
   "display_name": "myenv",
   "language": "python",
   "name": "python3"
  },
  "language_info": {
   "codemirror_mode": {
    "name": "ipython",
    "version": 3
   },
   "file_extension": ".py",
   "mimetype": "text/x-python",
   "name": "python",
   "nbconvert_exporter": "python",
   "pygments_lexer": "ipython3",
   "version": "3.11.9"
  }
 },
 "nbformat": 4,
 "nbformat_minor": 5
}
