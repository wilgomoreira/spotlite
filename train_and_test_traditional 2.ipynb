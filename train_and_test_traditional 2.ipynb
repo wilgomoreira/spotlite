{
 "cells": [
  {
   "cell_type": "markdown",
   "id": "475d89fb",
   "metadata": {},
   "source": [
    "## Essencial Functions and Libraries"
   ]
  },
  {
   "cell_type": "code",
   "execution_count": 7,
   "id": "45965918",
   "metadata": {},
   "outputs": [],
   "source": [
    "import os\n",
    "import numpy as np\n",
    "import pandas as pd\n",
    "import tifffile as tiff\n",
    "from sklearn.ensemble import RandomForestClassifier\n",
    "from sklearn.svm import SVC\n",
    "from sklearn.model_selection import train_test_split\n",
    "from sklearn.metrics import classification_report, confusion_matrix\n",
    "import matplotlib.pyplot as plt\n",
    "import torch\n",
    "from sklearn.model_selection import GridSearchCV\n",
    "from sklearn.neural_network import MLPClassifier\n",
    "from sklearn.preprocessing import StandardScaler\n",
    "from sklearn.pipeline import Pipeline\n",
    "from sklearn.metrics import average_precision_score\n",
    "from sklearn.metrics import f1_score\n",
    "\n",
    "CLASSES_NAMES = {0:\"Background\",1:\"Pinus\",2:\"Eucalyptus\"}\n",
    "\n",
    "def evaluate_f1_score(model, X_test, y_test, class_names=None, plot=True):\n",
    "    # 1) obter predições\n",
    "    if hasattr(model, \"predict\"):\n",
    "        y_pred = model.predict(X_test)\n",
    "    else:\n",
    "        raise AttributeError(\"Model does not implement predict().\")\n",
    "\n",
    "    # 2) preparar nomes das classes\n",
    "    classes = np.unique(y_test)\n",
    "    if class_names is None:\n",
    "        class_names = {cls: str(cls) for cls in classes}\n",
    "    names = [class_names[cls] for cls in classes]\n",
    "\n",
    "    # 3) calcular F1 para cada classe (one-vs-all)\n",
    "    f1s = {}\n",
    "    for cls in classes:\n",
    "        y_true_bin = (y_test == cls).astype(int)\n",
    "        y_pred_bin = (y_pred == cls).astype(int)\n",
    "        f1 = f1_score(y_true_bin, y_pred_bin)\n",
    "        f1s[class_names[cls]] = f1\n",
    "\n",
    "    # 4) calcular F1‑macro\n",
    "    macro_f1 = float(np.mean(list(f1s.values())))\n",
    "\n",
    "    # 5) imprimir resultados\n",
    "    for name, score in f1s.items():\n",
    "        print(f\"{name:<12} – F1 Score: {score:.4f}\")\n",
    "    print(f\"\\nMacro F1 Score: {macro_f1:.4f}\")\n",
    "\n",
    "    # 6) plot opcional\n",
    "    if plot:\n",
    "        fig, ax = plt.subplots(figsize=(6, 4))\n",
    "        bars = ax.bar(f1s.keys(), f1s.values())\n",
    "\n",
    "        # linha do F1‑macro\n",
    "        ax.axhline(macro_f1, color='red', linestyle='--',\n",
    "                   label=f\"Macro F1 = {macro_f1:.2f}\")\n",
    "\n",
    "        # anotações\n",
    "        for bar in bars:\n",
    "            h = bar.get_height()\n",
    "            ax.text(bar.get_x() + bar.get_width()/2, h,\n",
    "                    f\"{h:.2f}\", ha='center', va='bottom')\n",
    "\n",
    "        ax.set_ylim(0, 1.05)\n",
    "        ax.set_ylabel(\"F1 Score\")\n",
    "        ax.set_title(\"F1 Score por Classe\")\n",
    "        ax.legend(loc='upper right')\n",
    "        plt.xticks(rotation=15)\n",
    "        plt.tight_layout()\n",
    "        plt.show()\n",
    "\n",
    "    return f1s, macro_f1"
   ]
  },
  {
   "cell_type": "markdown",
   "id": "01ff89d4",
   "metadata": {},
   "source": [
    "## Read data"
   ]
  },
  {
   "cell_type": "code",
   "execution_count": 8,
   "id": "12af8384",
   "metadata": {},
   "outputs": [
    {
     "name": "stdout",
     "output_type": "stream",
     "text": [
      "shape of imgs: (191, 512, 512, 4)\n",
      "shape of masks: (191, 512, 512)\n"
     ]
    }
   ],
   "source": [
    "# Spectral bands in the image:\n",
    "# Blue  = X[:, 0]\n",
    "# Green = X[:, 1]\n",
    "# Red   = X[:, 2]\n",
    "# NIR   = X[:, 3]\n",
    "\n",
    "dataset_dir = 'spotlite_dataset_loca1_date1_dir1'\n",
    "\n",
    "images_dataset_dir = os.path.join(dataset_dir, 'images')\n",
    "masks_dataset_dir = os.path.join(dataset_dir, 'masks')\n",
    "\n",
    "# Verify if directories exist (optional, but recommended)\n",
    "assert os.path.exists(images_dataset_dir), f\"Images directory not found: {images_dataset_dir}\"\n",
    "assert os.path.exists(masks_dataset_dir), f\"Masks directory not found: {masks_dataset_dir}\"\n",
    "\n",
    "image_files = sorted(os.listdir(images_dataset_dir))\n",
    "mask_files = sorted(os.listdir(masks_dataset_dir))\n",
    "\n",
    "imgs, masks = [], []\n",
    "\n",
    "# Check if the number of files match\n",
    "assert len(image_files) == len(mask_files), \"Number of images and masks don't match.\"\n",
    "\n",
    "for image_file, mask_file in zip(image_files, mask_files):\n",
    "    image_path = os.path.join(images_dataset_dir, image_file)\n",
    "    mask_path = os.path.join(masks_dataset_dir, mask_file)\n",
    "\n",
    "    read_img = tiff.imread(image_path)\n",
    "    read_mask = tiff.imread(mask_path)\n",
    "\n",
    "    imgs.append(read_img)\n",
    "    masks.append(read_mask)\n",
    "\n",
    "imgs = np.stack(imgs)   # (N, H, W, C)\n",
    "masks = np.stack(masks) # (N, H, W)\n",
    "\n",
    "print(f'shape of imgs: {imgs.shape}')\n",
    "print(f'shape of masks: {masks.shape}')"
   ]
  },
  {
   "cell_type": "markdown",
   "id": "b97f69fc",
   "metadata": {},
   "source": [
    "## Convert labels in masks"
   ]
  },
  {
   "cell_type": "code",
   "execution_count": 9,
   "id": "80d2c2c6",
   "metadata": {},
   "outputs": [
    {
     "name": "stdout",
     "output_type": "stream",
     "text": [
      "shape of remapped masks: torch.Size([191, 512, 512])\n"
     ]
    }
   ],
   "source": [
    "# Convert labels in masks from 0, 3, 4 to 0, 1, 2\n",
    "# where 0 is background, 1 is class 1, and 2 is class\n",
    "def remap_mask(mask):\n",
    "    if not torch.is_tensor(mask):\n",
    "        mask = torch.from_numpy(mask)\n",
    "    remapped = torch.zeros_like(mask)\n",
    "    remapped[mask == 0] = 0\n",
    "    remapped[mask == 3] = 1\n",
    "    remapped[mask == 4] = 2\n",
    "    return remapped.long()\n",
    "\n",
    "masks = remap_mask(masks)\n",
    "\n",
    "print(f'shape of remapped masks: {masks.shape}')"
   ]
  },
  {
   "cell_type": "markdown",
   "id": "58aa7752",
   "metadata": {},
   "source": [
    "## Extract features and labels"
   ]
  },
  {
   "cell_type": "code",
   "execution_count": 10,
   "id": "adb61850",
   "metadata": {},
   "outputs": [
    {
     "name": "stdout",
     "output_type": "stream",
     "text": [
      "shape of X: (50069504, 4)\n",
      "shape of y: torch.Size([50069504])\n"
     ]
    }
   ],
   "source": [
    "N, H, W, C = imgs.shape\n",
    "X = imgs.reshape(-1, C)       # shape = (N*H*W, 4)\n",
    "y = masks.reshape(-1)         # shape = (N*H*W,)\n",
    "\n",
    "print(f'shape of X: {X.shape}')\n",
    "print(f'shape of y: {y.shape}')\n",
    "\n",
    "# (Opcional) amostragem para acelerar treino\n",
    "# idx = np.random.choice(len(y), size=100000, replace=False)\n",
    "# X, y = X[idx], y[idx]"
   ]
  },
  {
   "cell_type": "markdown",
   "id": "cabe8217",
   "metadata": {},
   "source": [
    "## Check Inbalance"
   ]
  },
  {
   "cell_type": "code",
   "execution_count": 11,
   "id": "d2422840",
   "metadata": {},
   "outputs": [
    {
     "name": "stdout",
     "output_type": "stream",
     "text": [
      "Classe 0: 48,043,641 pixels (95.95%)\n",
      "Classe 1: 687,567 pixels (1.37%)\n",
      "Classe 2: 1,338,296 pixels (2.67%)\n",
      "   class    counts    percent\n",
      "0      0  48043641  95.953898\n",
      "1      1    687567   1.373225\n",
      "2      2   1338296   2.672876\n"
     ]
    },
    {
     "data": {
      "image/png": "[encoded data removed]",
      "text/plain": [
       "<Figure size 600x400 with 1 Axes>"
      ]
     },
     "metadata": {},
     "output_type": "display_data"
    }
   ],
   "source": [
    "y = np.array(y)\n",
    "\n",
    "y_flat = y.reshape(-1)\n",
    "total_pixels = y_flat.size\n",
    "classes, counts = np.unique(y_flat, return_counts=True)\n",
    "\n",
    "for cls, ct in zip(classes, counts):\n",
    "    pct = ct / total_pixels * 100\n",
    "    print(f\"Classe {cls}: {ct:,} pixels ({pct:.2f}%)\")\n",
    "\n",
    "df_dist = pd.DataFrame({\n",
    "    \"class\":   classes,\n",
    "    \"counts\":  counts,\n",
    "    \"percent\": counts / total_pixels * 100\n",
    "})\n",
    "print(df_dist)\n",
    "\n",
    "class_names = {\n",
    "    0: \"background\",\n",
    "    1: \"pinus\",\n",
    "    2: \"eucalyptus\"\n",
    "}\n",
    "x_labels = [f\"{cls} – {class_names[cls]}\" for cls in df_dist['class']]\n",
    "\n",
    "fig, ax = plt.subplots(figsize=(6, 4))\n",
    "bars = ax.bar(df_dist['class'], df_dist['counts'])\n",
    "\n",
    "ax.set_ylabel('Number of pixels')\n",
    "ax.set_title('Distribution of classes in the dataset')\n",
    "\n",
    "ax.set_xticks(df_dist['class'])\n",
    "ax.set_xticklabels(x_labels)\n",
    "\n",
    "for bar, pct in zip(bars, df_dist['percent']):\n",
    "    x  = bar.get_x() + bar.get_width()/2\n",
    "    y  = bar.get_height()\n",
    "    ax.text(x, y, f\"{pct:.2f}%\", ha='center', va='bottom')\n",
    "\n",
    "plt.tight_layout()\n",
    "plt.show()"
   ]
  },
  {
   "cell_type": "markdown",
   "id": "65329838",
   "metadata": {},
   "source": [
    "## Split training/testing"
   ]
  },
  {
   "cell_type": "code",
   "execution_count": 12,
   "id": "e8524f73",
   "metadata": {},
   "outputs": [
    {
     "name": "stdout",
     "output_type": "stream",
     "text": [
      "shape of X_train: (37552128, 4)\n",
      "shape of y_train: (37552128,)\n",
      "shape of X_test: (12517376, 4)\n",
      "shape of y_test: (12517376,)\n"
     ]
    }
   ],
   "source": [
    "# Ensure y is the correct array-like object\n",
    "y = masks.reshape(-1)  # Restore y to its original form\n",
    "y = np.array(y)\n",
    "X = np.array(X, dtype=np.float32)\n",
    "\n",
    "X_train, X_test, y_train, y_test = train_test_split(\n",
    "    X, y, test_size=0.25, random_state=42, stratify=y\n",
    ")\n",
    "\n",
    "print(f'shape of X_train: {X_train.shape}')\n",
    "print(f'shape of y_train: {y_train.shape}')\n",
    "print(f'shape of X_test: {X_test.shape}')\n",
    "print(f'shape of y_test: {y_test.shape}')"
   ]
  },
  {
   "cell_type": "markdown",
   "id": "ed0dca5b",
   "metadata": {},
   "source": [
    "### Train Random Forest "
   ]
  },
  {
   "cell_type": "code",
   "execution_count": 14,
   "id": "daa1a046",
   "metadata": {},
   "outputs": [
    {
     "name": "stdout",
     "output_type": "stream",
     "text": [
      "=== Classification Report ===\n",
      "              precision    recall  f1-score   support\n",
      "\n",
      "           0     0.9694    0.9943    0.9816  12010910\n",
      "           1     0.2727    0.0000    0.0000    171892\n",
      "           2     0.6397    0.3786    0.4757    334574\n",
      "\n",
      "    accuracy                         0.9641  12517376\n",
      "   macro avg     0.6273    0.4576    0.4858  12517376\n",
      "weighted avg     0.9510    0.9641    0.9546  12517376\n",
      "\n",
      "=== Confusion Matrix ===\n",
      "[[11941884        5    69021]\n",
      " [  169562        3     2327]\n",
      " [  207892        3   126679]]\n"
     ]
    }
   ],
   "source": [
    "from sklearn.ensemble import RandomForestClassifier\n",
    "from sklearn.metrics import classification_report, confusion_matrix\n",
    "\n",
    "# ja testei aqui com otimização de hiperparâmetros baysiana, mas deu o mesmo resultado com essa forma simples\n",
    "\n",
    "rf = RandomForestClassifier(\n",
    "    n_estimators=20,    # poucas árvores\n",
    "    max_depth=15,       # limita a complexidade\n",
    "    n_jobs=-1,\n",
    "    random_state=42\n",
    ")\n",
    "\n",
    "# 3) Treine\n",
    "rf.fit(X_train, y_train)\n",
    "\n",
    "# 4) Preveja e avalie\n",
    "y_pred = rf.predict(X_test)\n",
    "\n",
    "print(\"=== Classification Report ===\")\n",
    "print(classification_report(y_test, y_pred, digits=4))\n",
    "\n",
    "print(\"=== Confusion Matrix ===\")\n",
    "print(confusion_matrix(y_test, y_pred))\n"
   ]
  },
  {
   "cell_type": "markdown",
   "id": "5fc246ba",
   "metadata": {},
   "source": [
    "#### Metric - F1 score"
   ]
  },
  {
   "cell_type": "code",
   "execution_count": 15,
   "id": "2791d708",
   "metadata": {},
   "outputs": [
    {
     "name": "stdout",
     "output_type": "stream",
     "text": [
      "Background   – F1 Score: 0.9816\n",
      "Pinus        – F1 Score: 0.0000\n",
      "Eucalyptus   – F1 Score: 0.4757\n",
      "\n",
      "Macro F1 Score: 0.4858\n"
     ]
    },
    {
     "data": {
      "image/png": "[encoded data removed]",
      "text/plain": [
       "<Figure size 600x400 with 1 Axes>"
      ]
     },
     "metadata": {},
     "output_type": "display_data"
    }
   ],
   "source": [
    "f1s_rf, macro_f1_rf = evaluate_f1_score(rf, X_test, y_test, class_names=CLASSES_NAMES, plot=True)"
   ]
  },
  {
   "cell_type": "markdown",
   "id": "9079d024",
   "metadata": {},
   "source": [
    "### Train SVM"
   ]
  },
  {
   "cell_type": "code",
   "execution_count": 16,
   "id": "e6f10eeb",
   "metadata": {},
   "outputs": [
    {
     "name": "stdout",
     "output_type": "stream",
     "text": [
      "shape of X_sub: (200000, 4), y_sub: (200000,)\n"
     ]
    },
    {
     "name": "stderr",
     "output_type": "stream",
     "text": [
      "/home/wilgo/miniconda3/envs/myenv/lib/python3.11/site-packages/sklearn/linear_model/_stochastic_gradient.py:744: ConvergenceWarning: Maximum number of iteration reached before convergence. Consider increasing max_iter to improve the fit.\n",
      "  warnings.warn(\n"
     ]
    },
    {
     "name": "stdout",
     "output_type": "stream",
     "text": [
      "=== Classification Report ===\n"
     ]
    },
    {
     "name": "stderr",
     "output_type": "stream",
     "text": [
      "/home/wilgo/miniconda3/envs/myenv/lib/python3.11/site-packages/sklearn/metrics/_classification.py:1531: UndefinedMetricWarning: Precision is ill-defined and being set to 0.0 in labels with no predicted samples. Use `zero_division` parameter to control this behavior.\n",
      "  _warn_prf(average, modifier, f\"{metric.capitalize()} is\", len(result))\n",
      "/home/wilgo/miniconda3/envs/myenv/lib/python3.11/site-packages/sklearn/metrics/_classification.py:1531: UndefinedMetricWarning: Precision is ill-defined and being set to 0.0 in labels with no predicted samples. Use `zero_division` parameter to control this behavior.\n",
      "  _warn_prf(average, modifier, f\"{metric.capitalize()} is\", len(result))\n",
      "/home/wilgo/miniconda3/envs/myenv/lib/python3.11/site-packages/sklearn/metrics/_classification.py:1531: UndefinedMetricWarning: Precision is ill-defined and being set to 0.0 in labels with no predicted samples. Use `zero_division` parameter to control this behavior.\n",
      "  _warn_prf(average, modifier, f\"{metric.capitalize()} is\", len(result))\n"
     ]
    },
    {
     "name": "stdout",
     "output_type": "stream",
     "text": [
      "              precision    recall  f1-score   support\n",
      "\n",
      "           0     0.9595    1.0000    0.9794  12010910\n",
      "           1     0.0000    0.0000    0.0000    171892\n",
      "           2     0.0000    0.0000    0.0000    334574\n",
      "\n",
      "    accuracy                         0.9595  12517376\n",
      "   macro avg     0.3198    0.3333    0.3265  12517376\n",
      "weighted avg     0.9207    0.9595    0.9397  12517376\n",
      "\n",
      "=== Confusion Matrix ===\n",
      "[[12010910        0        0]\n",
      " [  171892        0        0]\n",
      " [  334574        0        0]]\n"
     ]
    }
   ],
   "source": [
    "from sklearn.pipeline import make_pipeline\n",
    "from sklearn.preprocessing import StandardScaler\n",
    "from sklearn.kernel_approximation import RBFSampler\n",
    "from sklearn.linear_model import SGDClassifier\n",
    "from sklearn.metrics import classification_report, confusion_matrix\n",
    "\n",
    "# 1) Take a stratified subset to train faster\n",
    "sample_size = 200_000\n",
    "X_sub, _, y_sub, _ = train_test_split(\n",
    "    X_train, y_train,\n",
    "    train_size=sample_size,\n",
    "    stratify=y_train,\n",
    "    random_state=42\n",
    ")\n",
    "print(f\"shape of X_sub: {X_sub.shape}, y_sub: {y_sub.shape}\")\n",
    "\n",
    "# 2) Build the “fast SVM” pipeline\n",
    "fast_svm = make_pipeline(\n",
    "    StandardScaler(),  \n",
    "    RBFSampler(gamma=0.1, n_components=500, random_state=42),\n",
    "    SGDClassifier(\n",
    "        loss='hinge',            \n",
    "        max_iter=5,             \n",
    "        tol=1e-3,\n",
    "        random_state=42\n",
    "    )\n",
    ")\n",
    "\n",
    "# 3) Train on the subset\n",
    "fast_svm.fit(X_sub, y_sub)\n",
    "\n",
    "# 4) Predict on the full test set\n",
    "y_pred = fast_svm.predict(X_test)\n",
    "\n",
    "# 5) Evaluate\n",
    "print(\"=== Classification Report ===\")\n",
    "print(classification_report(y_test, y_pred, digits=4))\n",
    "print(\"=== Confusion Matrix ===\")\n",
    "print(confusion_matrix(y_test, y_pred))\n"
   ]
  },
  {
   "cell_type": "markdown",
   "id": "293379f1",
   "metadata": {},
   "source": [
    "#### Metric - F1 score"
   ]
  },
  {
   "cell_type": "code",
   "execution_count": 17,
   "id": "24e89042",
   "metadata": {},
   "outputs": [
    {
     "name": "stdout",
     "output_type": "stream",
     "text": [
      "Background   – F1 Score: 0.9794\n",
      "Pinus        – F1 Score: 0.0000\n",
      "Eucalyptus   – F1 Score: 0.0000\n",
      "\n",
      "Macro F1 Score: 0.3265\n"
     ]
    },
    {
     "data": {
      "image/png": "[encoded data removed]",
      "text/plain": [
       "<Figure size 600x400 with 1 Axes>"
      ]
     },
     "metadata": {},
     "output_type": "display_data"
    }
   ],
   "source": [
    "f1s_svm, macro_f1_svm = evaluate_f1_score(fast_svm, X_test, y_test, class_names=CLASSES_NAMES, plot=True)\n"
   ]
  },
  {
   "cell_type": "markdown",
   "id": "f14986f5",
   "metadata": {},
   "source": [
    "### Train Neural Network (MLP)"
   ]
  },
  {
   "cell_type": "code",
   "execution_count": 18,
   "id": "5567ddc7",
   "metadata": {},
   "outputs": [
    {
     "name": "stdout",
     "output_type": "stream",
     "text": [
      "Iteration 1, loss = 0.24499340\n",
      "Validation score: 0.958300\n",
      "Iteration 2, loss = 0.14193798\n",
      "Validation score: 0.958250\n",
      "Iteration 3, loss = 0.13343041\n",
      "Validation score: 0.958250\n",
      "Iteration 4, loss = 0.12885502\n",
      "Validation score: 0.959150\n",
      "Iteration 5, loss = 0.12568403\n",
      "Validation score: 0.959600\n",
      "Iteration 6, loss = 0.12343733\n",
      "Validation score: 0.960200\n",
      "Iteration 7, loss = 0.12183604\n",
      "Validation score: 0.960700\n",
      "Iteration 8, loss = 0.12065808\n",
      "Validation score: 0.961200\n",
      "Iteration 9, loss = 0.11983762\n",
      "Validation score: 0.961050\n",
      "Iteration 10, loss = 0.11919636\n",
      "Validation score: 0.961350\n",
      "Iteration 11, loss = 0.11862498\n",
      "Validation score: 0.961600\n",
      "Iteration 12, loss = 0.11820937\n",
      "Validation score: 0.961850\n",
      "Iteration 13, loss = 0.11790698\n",
      "Validation score: 0.961400\n",
      "Iteration 14, loss = 0.11755186\n",
      "Validation score: 0.961900\n",
      "Iteration 15, loss = 0.11728842\n",
      "Validation score: 0.961550\n",
      "Iteration 16, loss = 0.11703693\n",
      "Validation score: 0.961800\n",
      "Iteration 17, loss = 0.11680276\n",
      "Validation score: 0.961850\n",
      "Iteration 18, loss = 0.11658431\n",
      "Validation score: 0.961750\n",
      "Iteration 19, loss = 0.11640818\n",
      "Validation score: 0.961600\n",
      "Iteration 20, loss = 0.11621112\n",
      "Validation score: 0.961450\n",
      "Iteration 21, loss = 0.11613743\n",
      "Validation score: 0.962100\n",
      "Iteration 22, loss = 0.11603729\n",
      "Validation score: 0.961600\n",
      "Iteration 23, loss = 0.11580525\n",
      "Validation score: 0.961750\n",
      "Iteration 24, loss = 0.11574522\n",
      "Validation score: 0.962100\n",
      "Iteration 25, loss = 0.11561539\n",
      "Validation score: 0.961850\n",
      "Iteration 26, loss = 0.11548000\n",
      "Validation score: 0.961950\n",
      "Iteration 27, loss = 0.11541205\n",
      "Validation score: 0.961700\n",
      "Iteration 28, loss = 0.11539848\n",
      "Validation score: 0.962100\n",
      "Iteration 29, loss = 0.11518453\n",
      "Validation score: 0.961850\n",
      "Iteration 30, loss = 0.11509119\n",
      "Validation score: 0.961700\n",
      "Iteration 31, loss = 0.11506981\n",
      "Validation score: 0.961450\n",
      "Iteration 32, loss = 0.11486413\n",
      "Validation score: 0.961850\n",
      "Validation score did not improve more than tol=0.000100 for 10 consecutive epochs. Stopping.\n",
      "=== Classification Report (MLP) ===\n"
     ]
    },
    {
     "name": "stderr",
     "output_type": "stream",
     "text": [
      "/home/wilgo/miniconda3/envs/myenv/lib/python3.11/site-packages/sklearn/metrics/_classification.py:1531: UndefinedMetricWarning: Precision is ill-defined and being set to 0.0 in labels with no predicted samples. Use `zero_division` parameter to control this behavior.\n",
      "  _warn_prf(average, modifier, f\"{metric.capitalize()} is\", len(result))\n",
      "/home/wilgo/miniconda3/envs/myenv/lib/python3.11/site-packages/sklearn/metrics/_classification.py:1531: UndefinedMetricWarning: Precision is ill-defined and being set to 0.0 in labels with no predicted samples. Use `zero_division` parameter to control this behavior.\n",
      "  _warn_prf(average, modifier, f\"{metric.capitalize()} is\", len(result))\n",
      "/home/wilgo/miniconda3/envs/myenv/lib/python3.11/site-packages/sklearn/metrics/_classification.py:1531: UndefinedMetricWarning: Precision is ill-defined and being set to 0.0 in labels with no predicted samples. Use `zero_division` parameter to control this behavior.\n",
      "  _warn_prf(average, modifier, f\"{metric.capitalize()} is\", len(result))\n"
     ]
    },
    {
     "name": "stdout",
     "output_type": "stream",
     "text": [
      "              precision    recall  f1-score   support\n",
      "\n",
      "           0     0.9699    0.9929    0.9812  12010910\n",
      "           1     0.0000    0.0000    0.0000    171892\n",
      "           2     0.6025    0.3983    0.4796    334574\n",
      "\n",
      "    accuracy                         0.9634  12517376\n",
      "   macro avg     0.5241    0.4637    0.4869  12517376\n",
      "weighted avg     0.9467    0.9634    0.9544  12517376\n",
      "\n",
      "=== Confusion Matrix (MLP) ===\n",
      "[[11925644        0    85266]\n",
      " [  169227        0     2665]\n",
      " [  201304        0   133270]]\n"
     ]
    }
   ],
   "source": [
    "import numpy as np\n",
    "from sklearn.model_selection import train_test_split\n",
    "from sklearn.neural_network import MLPClassifier\n",
    "from sklearn.preprocessing import StandardScaler\n",
    "from sklearn.pipeline import Pipeline\n",
    "from sklearn.metrics import classification_report, confusion_matrix\n",
    "\n",
    "nn_pipeline = Pipeline([\n",
    "    ('scaler', StandardScaler()), \n",
    "    ('mlp', MLPClassifier(\n",
    "        hidden_layer_sizes=(50,),      # 1 hidden layer with 50 neurons\n",
    "        activation='relu',             # ReLU activation\n",
    "        solver='adam',                 # Adam optimizer\n",
    "        alpha=1e-4,                    # L2 regularization\n",
    "        batch_size=256,                # Mini-batch size\n",
    "        max_iter=100,                  # Maximum of 100 epochs\n",
    "        early_stopping=True,           # Stops automatically if no improvement\n",
    "        validation_fraction=0.1,       # 10% of data for internal validation\n",
    "        n_iter_no_change=10,           # Patience of 10 epochs\n",
    "        random_state=42,\n",
    "        verbose=True\n",
    "    ))\n",
    "])\n",
    "\n",
    "X_sub, _, y_sub, _ = train_test_split(\n",
    "    X_train, y_train,\n",
    "    train_size=200_000,      # adjust based on your hardware\n",
    "    stratify=y_train,\n",
    "    random_state=42\n",
    ")\n",
    "nn_pipeline.fit(X_sub, y_sub)\n",
    "\n",
    "# 4) Evaluation on the full test set\n",
    "y_pred_nn = nn_pipeline.predict(X_test)\n",
    "\n",
    "print(\"=== Classification Report (MLP) ===\")\n",
    "print(classification_report(y_test, y_pred_nn, digits=4))\n",
    "\n",
    "print(\"=== Confusion Matrix (MLP) ===\")\n",
    "print(confusion_matrix(y_test, y_pred_nn))\n"
   ]
  },
  {
   "cell_type": "markdown",
   "id": "32b28a8b",
   "metadata": {},
   "source": [
    "#### Metric - F1 score"
   ]
  },
  {
   "cell_type": "code",
   "execution_count": null,
   "id": "db9a78b6",
   "metadata": {},
   "outputs": [
    {
     "name": "stdout",
     "output_type": "stream",
     "text": [
      "Background   – Average Precision: 0.9958\n",
      "Pinus        – Average Precision: 0.0676\n",
      "Eucalyptus   – Average Precision: 0.5280\n",
      "\n",
      "Mean Average Precision (mAP): 0.5305\n"
     ]
    },
    {
     "data": {
      "image/png": "[encoded data removed]",
      "text/plain": [
       "<Figure size 600x400 with 1 Axes>"
      ]
     },
     "metadata": {},
     "output_type": "display_data"
    }
   ],
   "source": [
    "f1s_mlp, macro_f1_mlp = evaluate_f1_score(nn_pipeline, X_test, y_test, class_names=CLASSES_NAMES, plot=True)"
   ]
  },
  {
   "cell_type": "markdown",
   "id": "a9582c7b",
   "metadata": {},
   "source": [
    "## Compare Models"
   ]
  },
  {
   "cell_type": "code",
   "execution_count": 17,
   "id": "956be987",
   "metadata": {},
   "outputs": [
    {
     "data": {
      "image/png": "[encoded data removed]",
      "text/plain": [
       "<Figure size 800x500 with 1 Axes>"
      ]
     },
     "metadata": {},
     "output_type": "display_data"
    }
   ],
   "source": [
    "results = {\n",
    "    \"RandomForest\": (aps_clf, map_clf),\n",
    "    \"SVM\":          (aps_svm, map_svm),\n",
    "    \"MLP\":          (aps_mlp, map_mlp),\n",
    "}\n",
    "\n",
    "# build DataFrame of per‐class APs\n",
    "df_aps = pd.DataFrame(\n",
    "    { model: aps for model, (aps, _m) in results.items() },\n",
    "    index=[CLASSES_NAMES[k] for k in sorted(CLASSES_NAMES)]\n",
    ")\n",
    "\n",
    "# plot grouped bars with horizontal mean lines\n",
    "fig, ax = plt.subplots(figsize=(8,5))\n",
    "models   = df_aps.columns\n",
    "n_models = len(models)\n",
    "indices  = np.arange(len(df_aps))\n",
    "bar_w    = 0.8 / n_models\n",
    "\n",
    "for i, model in enumerate(models):\n",
    "    mAP  = results[model][1]\n",
    "    bars = ax.bar(\n",
    "        indices + i*bar_w,\n",
    "        df_aps[model],\n",
    "        width=bar_w,\n",
    "        label=f\"{model} (mAP={mAP:.2f})\"\n",
    "    )\n",
    "    # annotate each bar, centered horizontally\n",
    "    for bar in bars:\n",
    "        x = bar.get_x() + bar.get_width()/2\n",
    "        y = bar.get_height()\n",
    "        ax.text(x, y, f\"{y:.2f}\",\n",
    "                ha='center', va='bottom', fontsize=8)\n",
    "    # add horizontal line at the model's mAP, in same color\n",
    "    color = bars[0].get_facecolor()\n",
    "    ax.axhline(y=mAP, color=color, linestyle='--', linewidth=1)\n",
    "\n",
    "# center x‐tick labels under groups\n",
    "ax.set_xticks(indices + bar_w*(n_models-1)/2)\n",
    "ax.set_xticklabels(df_aps.index)\n",
    "\n",
    "# set y‐axis ticks from 0.0 to 1.0 in steps of 0.1\n",
    "ax.set_yticks(np.arange(0, 1.05, 0.1))\n",
    "\n",
    "ax.set_ylabel(\"Average Precision\")\n",
    "ax.set_ylim(0, 1.05)\n",
    "ax.set_title(\"Average Precision by Class and Model\")\n",
    "ax.legend(title=\"Models\", loc='upper right')\n",
    "plt.tight_layout()\n",
    "plt.show()\n"
   ]
  },
  {
   "cell_type": "markdown",
   "id": "0b30b988",
   "metadata": {},
   "source": [
    "## Tips to improve if the results are not goods"
   ]
  },
  {
   "cell_type": "markdown",
   "id": "d47e2306",
   "metadata": {},
   "source": [
    "Levers you can explore to further enhance the quality of segmentation:\n",
    "\n",
    "Suggested short-term steps:\n",
    "\n",
    "1. **Incorporate indices and textures**: expand your feature vector and re-evaluate with RF and SVM.\n",
    "2. **GridSearchCV**: define reasonable ranges and search for the best parameters.\n",
    "3. **Pipeline with CRF**: apply spatial refinement to RF/SVM outputs.\n",
    "4. **Learning Curves**: ensure you're not saturated (overfitting) or underfitted.\n",
    "\n",
    "Following these paths, you should gain robustness, precision, and generalization in the semantic segmentation of pine and eucalyptus!\n",
    "\n",
    "1. Feature Engineering\n",
    "\n",
    "* **Spectral Indices**\n",
    "  In addition to raw bands, calculate indices like NDVI, NDWI, SAVI, EVI… each highlights specific vegetation and soil characteristics.\n",
    "\n",
    "* **Texture and Local Statistics**\n",
    "  Use GLCM (contrast, homogeneity, entropy), Gabor filters, LBP (Local Binary Patterns), or statistics (mean, variance) in windows (3×3, 5×5) to incorporate spatial context into your feature vectors.\n",
    "\n",
    "* **Morphological Profiles**\n",
    "  Extract signatures based on morphological openings and closings to capture the shape and size of tree canopies.\n",
    "\n",
    "2. Modeling and Hyperparameter Tuning\n",
    "\n",
    "* **Hyperparameter Search**\n",
    "\n",
    "  * `GridSearchCV` or `RandomizedSearchCV` (scikit-learn) for RF (`n_estimators`, `max_depth`), SVM (`C`, `gamma`, `kernel`), and MLP (`hidden_layer_sizes`, `alpha`).\n",
    "  * Bayesian optimization tools (Optuna, Hyperopt) can be more efficient in large spaces.\n",
    "\n",
    "* **Stratified Cross-Validation**\n",
    "  Use `StratifiedKFold` to ensure each fold respects class proportions and avoids overfitting on majority pixels.\n",
    "\n",
    "* **Ensembles and Stacking**\n",
    "  Combine RF, SVM, and MLP in an ensemble via VotingClassifier or create a meta-model (stacking) that learns to weight the outputs of each classifier.\n",
    "\n",
    "3. Spatial Context and Post-Processing\n",
    "\n",
    "* **Neighborhood Window**\n",
    "  Instead of classifying isolated pixels, feed models with vectors extracted from a “patch” (e.g., vector of size 5×5×4 bands found in 100 features).\n",
    "\n",
    "* **Superpixels + Classification**\n",
    "  Generate superpixels (SLIC, Felzenszwalb), extract features by region, and classify entire regions to reduce noise.\n",
    "\n",
    "* **Refinement with CRF / MRF**\n",
    "  Apply a Conditional Random Field (e.g., `pydensecrf`) or Graph Cuts over the raw prediction map to enforce spatial coherence and smooth isolated jumps.\n",
    "\n",
    "* **Morphological Operations**\n",
    "  Apply “opening” and “closing” on the binary map of each class to remove small spurious regions and close gaps.\n",
    "\n",
    "4. Data Augmentation and Generalization\n",
    "\n",
    "* **Data Augmentation**\n",
    "\n",
    "  * Rotate, flip, scale, and add noise to your images to make the classifier more robust to variations in orientation and lighting.\n",
    "  * For each training patch, generate randomly transformed versions.\n",
    "\n",
    "* **Light Transfer Learning**\n",
    "  Even without powerful GPUs, you can use a pre-trained backbone (e.g., ResNet16) only as a feature extractor, combining it with a traditional classifier (RF or SVM) on the extracted features.\n",
    "\n",
    "5. Metrics and Monitoring\n",
    "\n",
    "* **Learning Curve**\n",
    "  Plot error/accuracy as a function of training size to see if you're “data-limited” or “more data won't help.”\n",
    "\n",
    "* **ROC Curves and AUC per Class**\n",
    "  Measure sensitivity/specificity individually for pine and eucalyptus.\n",
    "\n",
    "* **Error Analysis**\n",
    "  Manually inspect misclassified regions to understand if they are shadows, planting edges, or class mixtures, and create features to mitigate these cases.\n",
    "\n",
    "6. Migration to Deep Learning (If possible)\n",
    "\n",
    "* **U-Net / DeepLab**\n",
    "  Lightweight architectures (ENet, Fast-SCNN) can be trained even on modest GPUs and often outperform purely classical approaches in segmentation.\n",
    "\n",
    "* **Patch-Wise Training**\n",
    "  Train your network on overlapping patches (e.g., 128×128) with on-the-fly *data augmentation* to make better use of the data.\n",
    "\n",
    "\n",
    "\n",
    "\n"
   ]
  },
  {
   "cell_type": "markdown",
   "id": "0511a4bd",
   "metadata": {},
   "source": [
    "## Include Extra Channel (NDVI)"
   ]
  },
  {
   "cell_type": "markdown",
   "id": "8baa6e21",
   "metadata": {},
   "source": [
    "## Data augmentation"
   ]
  },
  {
   "cell_type": "markdown",
   "id": "83eda9e2",
   "metadata": {},
   "source": [
    "## Later Fusion"
   ]
  },
  {
   "cell_type": "markdown",
   "id": "9fb344f4",
   "metadata": {},
   "source": [
    "when a single model doesn’t achieve the desired performance, a late fusion (ensemble) of several classifiers almost always improves both robustness and accuracy. Here are the main approaches:\n",
    "\n",
    "1. Voting (“Hard” or “Soft” Voting)\n",
    "Hard Voting: each model casts a vote for its predicted class; the class with the most votes wins.\n",
    "\n",
    "Soft Voting: each model provides probabilities (predict_proba); you sum (or average) them and pick the class with the highest average probability.\n",
    "\n",
    "\n",
    "Example with scikit‑learn\n",
    "python\n",
    "Copy\n",
    "Edit\n",
    "from sklearn.ensemble import VotingClassifier\n",
    "\n",
    "assuming you already have rf, svm and nn_pipeline trained\n",
    "voting_clf = VotingClassifier(\n",
    "    estimators=[\n",
    "        ('rf',  rf),\n",
    "        ('svm', svm),\n",
    "        ('mlp', nn_pipeline)\n",
    "    ],\n",
    "    voting='soft',           # use 'hard' if models don’t support predict_proba\n",
    "    weights=[2,1,1],         # optional: give more weight to RF, for example\n",
    "    n_jobs=-1\n",
    ")\n",
    "\n",
    "train (fits all models internally)\n",
    "voting_clf.fit(X_train, y_train)\n",
    "\n",
    "evaluate\n",
    "y_pred = voting_clf.predict(X_test)\n",
    "print(classification_report(y_test, y_pred))\n",
    "\n",
    "\n",
    "2. Stacking\n",
    "Instead of voting, you use the base models’ predictions (“meta‑features”) to train a meta‑model (e.g. a small RF or logistic regression) that learns the best way to combine them.\n",
    "\n",
    "Quick example\n",
    "python\n",
    "Copy\n",
    "Edit\n",
    "from sklearn.ensemble import StackingClassifier\n",
    "from sklearn.linear_model import LogisticRegression\n",
    "\n",
    "stacking_clf = StackingClassifier(\n",
    "    estimators=[\n",
    "        ('rf',  rf),\n",
    "        ('svm', svm),\n",
    "        ('mlp', nn_pipeline)\n",
    "    ],\n",
    "    final_estimator=LogisticRegression(\n",
    "        class_weight='balanced', max_iter=200\n",
    "    ),\n",
    "    cv=5,           folds used to generate meta‑training predictions\n",
    "    n_jobs=-1\n",
    ")\n",
    "\n",
    "stacking_clf.fit(X_train, y_train)\n",
    "y_pred_stack = stacking_clf.predict(X_test)\n",
    "print(classification_report(y_test, y_pred_stack))\n",
    "\n",
    "\n",
    "3. Blending\n",
    "Similar to stacking, but the base‑model predictions are “blended” on a held‑out validation set to train the meta‑model, requiring fewer CV folds.\n",
    "\n",
    "4. Points to Consider\n",
    "Heterogeneity: combine models of different types (RF + SVM + MLP) to maximize gains.\n",
    "\n",
    "Weights: in soft voting, adjust weights according to each model’s performance.\n",
    "\n",
    "Meta‑features: in addition to predicted probabilities, you can include confidence metrics, probability‑vector entropy, etc.\n",
    "\n",
    "Validation: always perform an external cross‑validation (e.g. cross_val_score on the entire ensemble) to avoid overfitting in stacking.\n",
    "\n",
    "Conclusion\n",
    "If your individual classifiers still fall short, late fusion via voting or stacking is definitely recommended. You’ll typically see improvements both in per‑class average precision and in overall mean average precision."
   ]
  },
  {
   "cell_type": "markdown",
   "id": "ce8a7b6b",
   "metadata": {},
   "source": [
    "## Deep Models"
   ]
  },
  {
   "cell_type": "markdown",
   "id": "658cc9d9",
   "metadata": {},
   "source": []
  }
 ],
 "metadata": {
  "kernelspec": {
   "display_name": "myenv",
   "language": "python",
   "name": "python3"
  },
  "language_info": {
   "codemirror_mode": {
    "name": "ipython",
    "version": 3
   },
   "file_extension": ".py",
   "mimetype": "text/x-python",
   "name": "python",
   "nbconvert_exporter": "python",
   "pygments_lexer": "ipython3",
   "version": "3.11.9"
  }
 },
 "nbformat": 4,
 "nbformat_minor": 5
}
