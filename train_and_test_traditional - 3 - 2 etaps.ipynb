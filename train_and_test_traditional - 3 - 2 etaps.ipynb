{
 "cells": [
  {
   "cell_type": "markdown",
   "id": "475d89fb",
   "metadata": {},
   "source": [
    "## Essencial Functions and Libraries"
   ]
  },
  {
   "cell_type": "code",
   "execution_count": 2,
   "id": "45965918",
   "metadata": {},
   "outputs": [],
   "source": [
    "import os\n",
    "import numpy as np\n",
    "import pandas as pd\n",
    "import tifffile as tiff\n",
    "from sklearn.ensemble import RandomForestClassifier\n",
    "from sklearn.svm import SVC\n",
    "from sklearn.model_selection import train_test_split\n",
    "from sklearn.metrics import classification_report, confusion_matrix\n",
    "import matplotlib.pyplot as plt\n",
    "import torch\n",
    "from sklearn.model_selection import GridSearchCV\n",
    "from sklearn.neural_network import MLPClassifier\n",
    "from sklearn.preprocessing import StandardScaler\n",
    "from sklearn.pipeline import Pipeline\n",
    "from sklearn.metrics import average_precision_score\n",
    "\n"
   ]
  },
  {
   "cell_type": "markdown",
   "id": "01ff89d4",
   "metadata": {},
   "source": [
    "## Read data"
   ]
  },
  {
   "cell_type": "code",
   "execution_count": 3,
   "id": "12af8384",
   "metadata": {},
   "outputs": [
    {
     "name": "stdout",
     "output_type": "stream",
     "text": [
      "Final: 191 pairs loaded.\n",
      "Shape of imgs: (191, 512, 512, 4)\n",
      "Shape of masks: (191, 512, 512)\n"
     ]
    }
   ],
   "source": [
    "from pathlib import Path\n",
    "import numpy as np\n",
    "import tifffile as tiff\n",
    "from difflib import get_close_matches\n",
    "\n",
    "# Main dataset directory\n",
    "dataset_dir = Path('spotlite_dataset_loca1_date1_dir1')\n",
    "\n",
    "images_dir = dataset_dir / 'images'\n",
    "masks_dir = dataset_dir / 'masks'\n",
    "\n",
    "assert images_dir.exists(), f\"Image folder not found: {images_dir}\"\n",
    "assert masks_dir.exists(), f\"Mask folder not found: {masks_dir}\"\n",
    "\n",
    "# Collect all image and mask files (multiple extensions)\n",
    "image_paths = sorted(\n",
    "    [*images_dir.glob('*.tif'), *images_dir.glob('*.tiff')],\n",
    "    key=lambda p: p.stem\n",
    ")\n",
    "mask_paths = sorted(\n",
    "    [*masks_dir.glob('*.tif'), *masks_dir.glob('*.tiff'),\n",
    "     *masks_dir.glob('*.png'), *masks_dir.glob('*.jpg')],\n",
    "    key=lambda p: p.stem\n",
    ")\n",
    "\n",
    "# Dictionary of masks by base name\n",
    "mask_dict = {p.stem: p for p in mask_paths}\n",
    "unused_masks = set(mask_dict.keys())\n",
    "\n",
    "imgs_array, masks_array = [], []\n",
    "\n",
    "for img_path in image_paths:\n",
    "    stem = img_path.stem\n",
    "    mask_path = None\n",
    "\n",
    "    # 1) Exact match\n",
    "    if stem in mask_dict:\n",
    "        mask_path = mask_dict[stem]\n",
    "        unused_masks.discard(stem)\n",
    "    else:\n",
    "        # 2) Approximate match\n",
    "        candidates = get_close_matches(stem, mask_dict.keys(), n=1, cutoff=0.6)\n",
    "        if candidates:\n",
    "            sel = candidates[0]\n",
    "            mask_path = mask_dict[sel]\n",
    "            unused_masks.discard(sel)\n",
    "        else:\n",
    "            # 3) No match found; just notify and skip\n",
    "            print(f\"Warning: no mask found for {img_path.name}; skipping.\")\n",
    "            continue\n",
    "\n",
    "    # Read image and mask\n",
    "    img = tiff.imread(str(img_path))\n",
    "    msk = tiff.imread(str(mask_path))\n",
    "\n",
    "    # Check dimensions\n",
    "    if img.shape[:2] != msk.shape:\n",
    "        raise ValueError(\n",
    "            f\"Incompatible dimensions: {img_path.name} {img.shape[:2]} vs \"\n",
    "            f\"{mask_path.name} {msk.shape}\"\n",
    "        )\n",
    "\n",
    "    imgs_array.append(img)\n",
    "    masks_array.append(msk)\n",
    "\n",
    "# Remaining masks\n",
    "if unused_masks:\n",
    "    print(\"Warning: these masks were not used (no corresponding image):\")\n",
    "    for s in sorted(unused_masks):\n",
    "        print(\"  \", s)\n",
    "\n",
    "# Stack arrays\n",
    "imgs = np.stack(imgs_array, axis=0)   # (N, H, W, C)\n",
    "masks = np.stack(masks_array, axis=0)  # (N, H, W)\n",
    "\n",
    "print(f'Final: {len(imgs)} pairs loaded.')\n",
    "print(f'Shape of imgs: {imgs.shape}')\n",
    "print(f'Shape of masks: {masks.shape}')\n"
   ]
  },
  {
   "cell_type": "markdown",
   "id": "b97f69fc",
   "metadata": {},
   "source": [
    "## Convert labels in masks"
   ]
  },
  {
   "cell_type": "code",
   "execution_count": 4,
   "id": "80d2c2c6",
   "metadata": {},
   "outputs": [
    {
     "name": "stdout",
     "output_type": "stream",
     "text": [
      "shape of remapped masks: torch.Size([191, 512, 512])\n"
     ]
    }
   ],
   "source": [
    "# Convert labels in masks from 0, 3, 4 to 0, 1, 2\n",
    "# where 0 is background, 1 is class 1, and 2 is class\n",
    "def remap_mask(mask):\n",
    "    if not torch.is_tensor(mask):\n",
    "        mask = torch.from_numpy(mask)\n",
    "    remapped = torch.zeros_like(mask)\n",
    "    remapped[mask == 0] = 0\n",
    "    remapped[mask == 3] = 1\n",
    "    remapped[mask == 4] = 2\n",
    "    return remapped.long()\n",
    "\n",
    "masks = remap_mask(masks)\n",
    "\n",
    "print(f'shape of remapped masks: {masks.shape}')"
   ]
  },
  {
   "cell_type": "markdown",
   "id": "58aa7752",
   "metadata": {},
   "source": [
    "## Extract features and labels"
   ]
  },
  {
   "cell_type": "code",
   "execution_count": 5,
   "id": "adb61850",
   "metadata": {},
   "outputs": [
    {
     "name": "stdout",
     "output_type": "stream",
     "text": [
      "shape of X: (50069504, 4)\n",
      "shape of y: torch.Size([50069504])\n"
     ]
    }
   ],
   "source": [
    "N, H, W, C = imgs.shape\n",
    "X = imgs.reshape(-1, C)       # shape = (N*H*W, 4)\n",
    "y = masks.reshape(-1)         # shape = (N*H*W,)\n",
    "\n",
    "print(f'shape of X: {X.shape}')\n",
    "print(f'shape of y: {y.shape}')\n",
    "\n",
    "# (Opcional) amostragem para acelerar treino\n",
    "# idx = np.random.choice(len(y), size=100000, replace=False)\n",
    "# X, y = X[idx], y[idx]"
   ]
  },
  {
   "cell_type": "markdown",
   "id": "cabe8217",
   "metadata": {},
   "source": [
    "## Check Inbalance"
   ]
  },
  {
   "cell_type": "code",
   "execution_count": 6,
   "id": "d2422840",
   "metadata": {},
   "outputs": [
    {
     "name": "stdout",
     "output_type": "stream",
     "text": [
      "Classe 0: 48,043,641 pixels (95.95%)\n",
      "Classe 1: 687,567 pixels (1.37%)\n",
      "Classe 2: 1,338,296 pixels (2.67%)\n",
      "   class    counts    percent\n",
      "0      0  48043641  95.953898\n",
      "1      1    687567   1.373225\n",
      "2      2   1338296   2.672876\n"
     ]
    },
    {
     "data": {
      "image/png": "[encoded data removed]",
      "text/plain": [
       "<Figure size 600x400 with 1 Axes>"
      ]
     },
     "metadata": {},
     "output_type": "display_data"
    }
   ],
   "source": [
    "y = np.array(y)\n",
    "\n",
    "y_flat = y.reshape(-1)\n",
    "total_pixels = y_flat.size\n",
    "classes, counts = np.unique(y_flat, return_counts=True)\n",
    "\n",
    "for cls, ct in zip(classes, counts):\n",
    "    pct = ct / total_pixels * 100\n",
    "    print(f\"Classe {cls}: {ct:,} pixels ({pct:.2f}%)\")\n",
    "\n",
    "df_dist = pd.DataFrame({\n",
    "    \"class\":   classes,\n",
    "    \"counts\":  counts,\n",
    "    \"percent\": counts / total_pixels * 100\n",
    "})\n",
    "print(df_dist)\n",
    "\n",
    "class_names = {\n",
    "    0: \"background\",\n",
    "    1: \"pinus\",\n",
    "    2: \"eucalyptus\"\n",
    "}\n",
    "x_labels = [f\"{cls} – {class_names[cls]}\" for cls in df_dist['class']]\n",
    "\n",
    "fig, ax = plt.subplots(figsize=(6, 4))\n",
    "bars = ax.bar(df_dist['class'], df_dist['counts'])\n",
    "\n",
    "ax.set_ylabel('Number of pixels')\n",
    "ax.set_title('Distribution of classes in the dataset')\n",
    "\n",
    "ax.set_xticks(df_dist['class'])\n",
    "ax.set_xticklabels(x_labels)\n",
    "\n",
    "for bar, pct in zip(bars, df_dist['percent']):\n",
    "    x  = bar.get_x() + bar.get_width()/2\n",
    "    y  = bar.get_height()\n",
    "    ax.text(x, y, f\"{pct:.2f}%\", ha='center', va='bottom')\n",
    "\n",
    "plt.tight_layout()\n",
    "plt.show()"
   ]
  },
  {
   "cell_type": "markdown",
   "id": "65329838",
   "metadata": {},
   "source": [
    "## Split training/testing"
   ]
  },
  {
   "cell_type": "code",
   "execution_count": 7,
   "id": "e8524f73",
   "metadata": {},
   "outputs": [
    {
     "name": "stdout",
     "output_type": "stream",
     "text": [
      "shape of X_train: (37552128, 4)\n",
      "shape of y_train: (37552128,)\n",
      "shape of X_test: (12517376, 4)\n",
      "shape of y_test: (12517376,)\n"
     ]
    }
   ],
   "source": [
    "# Ensure y is the correct array-like object\n",
    "y = masks.reshape(-1)  # Restore y to its original form\n",
    "y = np.array(y)\n",
    "X = np.array(X, dtype=np.float32)\n",
    "\n",
    "X_train, X_test, y_train, y_test = train_test_split(\n",
    "    X, y, test_size=0.25, random_state=42, stratify=y\n",
    ")\n",
    "\n",
    "print(f'shape of X_train: {X_train.shape}')\n",
    "print(f'shape of y_train: {y_train.shape}')\n",
    "print(f'shape of X_test: {X_test.shape}')\n",
    "print(f'shape of y_test: {y_test.shape}')"
   ]
  },
  {
   "cell_type": "markdown",
   "id": "ed0dca5b",
   "metadata": {},
   "source": [
    "### Train Random Forest "
   ]
  },
  {
   "cell_type": "code",
   "execution_count": 9,
   "id": "676a99d5",
   "metadata": {},
   "outputs": [
    {
     "name": "stdout",
     "output_type": "stream",
     "text": [
      "=== Stage 1: Background vs. Forest ===\n",
      "              precision    recall  f1-score   support\n",
      "\n",
      "  Background     0.9932    0.8648    0.9246  12010910\n",
      "      Forest     0.2114    0.8593    0.3393    506466\n",
      "\n",
      "    accuracy                         0.8646  12517376\n",
      "   macro avg     0.6023    0.8621    0.6319  12517376\n",
      "weighted avg     0.9616    0.8646    0.9009  12517376\n",
      "\n",
      "=== Stage 2: Pinus vs. Eucalyptus (isolated evaluation) ===\n",
      "              precision    recall  f1-score   support\n",
      "\n",
      "       Pinus     0.9621    0.9303    0.9459    171892\n",
      "  Eucalyptus     0.9648    0.9812    0.9729    334574\n",
      "\n",
      "    accuracy                         0.9639    506466\n",
      "   macro avg     0.9634    0.9557    0.9594    506466\n",
      "weighted avg     0.9639    0.9639    0.9638    506466\n",
      "\n",
      "=== Full Pipeline (3 classes) ===\n",
      "              precision    recall  f1-score   support\n",
      "\n",
      "  Background     0.9932    0.8648    0.9246  12010910\n",
      "       Pinus     0.0953    0.6510    0.1663    171892\n",
      "  Eucalyptus     0.3510    0.9282    0.5094    334574\n",
      "\n",
      "    accuracy                         0.8636  12517376\n",
      "   macro avg     0.4798    0.8147    0.5334  12517376\n",
      "weighted avg     0.9637    0.8636    0.9031  12517376\n",
      "\n"
     ]
    },
    {
     "data": {
      "image/png": "[encoded data removed]",
      "text/plain": [
       "<Figure size 640x480 with 2 Axes>"
      ]
     },
     "metadata": {},
     "output_type": "display_data"
    }
   ],
   "source": [
    "from sklearn.ensemble import RandomForestClassifier\n",
    "from sklearn.metrics import classification_report, ConfusionMatrixDisplay\n",
    "import numpy as np\n",
    "\n",
    "def train_two_stage_rf(X, y, forest_params, species_params):\n",
    "  # Stage 1: background (0) vs forest (1)\n",
    "  y_forest = (y > 0).astype(int)\n",
    "  forest_clf = RandomForestClassifier(**forest_params)\n",
    "  forest_clf.fit(X, y_forest)\n",
    "\n",
    "  # Stage 2: pinus (1) vs eucalyptus (2) only in forest pixels\n",
    "  mask_f = (y > 0)\n",
    "  X_fg, y_fg = X[mask_f], y[mask_f]\n",
    "  species_clf = RandomForestClassifier(**species_params)\n",
    "  species_clf.fit(X_fg, y_fg)\n",
    "\n",
    "  return forest_clf, species_clf\n",
    "\n",
    "def predict_two_stage_rf(forest_clf, species_clf, X):\n",
    "  is_forest = forest_clf.predict(X).astype(bool)\n",
    "  y_pred = np.zeros(X.shape[0], dtype=int)\n",
    "  if is_forest.any():\n",
    "    y_pred[is_forest] = species_clf.predict(X[is_forest])\n",
    "  return y_pred\n",
    "\n",
    "# --- balanced parameters ---\n",
    "forest_params = {\n",
    "  'n_estimators': 50, 'max_depth': 20,\n",
    "  'class_weight': 'balanced', 'n_jobs': -1, 'random_state': 42\n",
    "}\n",
    "species_params = {\n",
    "  'n_estimators': 50, 'max_depth': 20,\n",
    "  'class_weight': 'balanced', 'n_jobs': -1, 'random_state': 42\n",
    "}\n",
    "\n",
    "# 1) Train using only X_train, y_train\n",
    "forest_clf, species_clf = train_two_stage_rf(\n",
    "  X_train, y_train,\n",
    "  forest_params, species_params\n",
    ")\n",
    "\n",
    "# 2) Full prediction\n",
    "y_pred_full = predict_two_stage_rf(forest_clf, species_clf, X_test)\n",
    "\n",
    "# 3) Evaluation of Stage 1\n",
    "y_forest_true = (y_test > 0).astype(int)\n",
    "y_forest_pred = forest_clf.predict(X_test)\n",
    "print(\"=== Stage 1: Background vs. Forest ===\")\n",
    "print(classification_report(\n",
    "  y_forest_true, y_forest_pred,\n",
    "  target_names=['Background', 'Forest'], digits=4\n",
    "))\n",
    "\n",
    "# 4) Evaluation of Stage 2 (isolated, only in REAL forest pixels)\n",
    "X_test_fg = X_test[y_test > 0]\n",
    "y_test_fg = y_test[y_test > 0]\n",
    "y_pred_fg = species_clf.predict(X_test_fg)\n",
    "print(\"=== Stage 2: Pinus vs. Eucalyptus (isolated evaluation) ===\")\n",
    "print(classification_report(\n",
    "  y_test_fg, y_pred_fg,\n",
    "  target_names=['Pinus', 'Eucalyptus'], digits=4\n",
    "))\n",
    "\n",
    "# 5) Full pipeline evaluation\n",
    "print(\"=== Full Pipeline (3 classes) ===\")\n",
    "print(classification_report(\n",
    "  y_test, y_pred_full,\n",
    "  target_names=['Background', 'Pinus', 'Eucalyptus'], digits=4\n",
    "))\n",
    "\n",
    "disp = ConfusionMatrixDisplay.from_predictions(\n",
    "    y_test, y_pred_full,\n",
    "    normalize='true',\n",
    "    display_labels=['Background','Pinus','Eucalyptus'],\n",
    "    values_format='.2f'\n",
    ")\n",
    "plt.title(\"Confusion Matrix (normalized) — 3 classes\")\n",
    "plt.show()"
   ]
  }
 ],
 "metadata": {
  "kernelspec": {
   "display_name": "myenv",
   "language": "python",
   "name": "python3"
  },
  "language_info": {
   "codemirror_mode": {
    "name": "ipython",
    "version": 3
   },
   "file_extension": ".py",
   "mimetype": "text/x-python",
   "name": "python",
   "nbconvert_exporter": "python",
   "pygments_lexer": "ipython3",
   "version": "3.11.9"
  }
 },
 "nbformat": 4,
 "nbformat_minor": 5
}
